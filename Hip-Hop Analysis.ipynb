{
  "nbformat": 4,
  "nbformat_minor": 0,
  "metadata": {
    "colab": {
      "name": "Lyrics Genius.ipynb",
      "provenance": [],
      "collapsed_sections": [
        "D_U4aFv_TVQy",
        "ujyjoDRBQOSf",
        "52pi2HqAJc4f",
        "GrA0tRwKJl1y",
        "tYzeMStiUuT8",
        "n3zNDn1OWdph"
      ]
    },
    "kernelspec": {
      "name": "python3",
      "display_name": "Python 3"
    },
    "language_info": {
      "name": "python"
    },
    "gpuClass": "standard",
    "widgets": {
      "application/vnd.jupyter.widget-state+json": {
        "1904148c38f446e4826f2b005b226c19": {
          "model_module": "@jupyter-widgets/controls",
          "model_name": "HBoxModel",
          "model_module_version": "1.5.0",
          "state": {
            "_dom_classes": [],
            "_model_module": "@jupyter-widgets/controls",
            "_model_module_version": "1.5.0",
            "_model_name": "HBoxModel",
            "_view_count": null,
            "_view_module": "@jupyter-widgets/controls",
            "_view_module_version": "1.5.0",
            "_view_name": "HBoxView",
            "box_style": "",
            "children": [
              "IPY_MODEL_07fc3e78373548b6b3e710f04a164072",
              "IPY_MODEL_2083d7910e2541a6b319b300424f0545",
              "IPY_MODEL_e32f9ad1c4524186b6d26f237aafc543"
            ],
            "layout": "IPY_MODEL_c2cc4cf2dbc04ba291014b3f16d46438"
          }
        },
        "07fc3e78373548b6b3e710f04a164072": {
          "model_module": "@jupyter-widgets/controls",
          "model_name": "HTMLModel",
          "model_module_version": "1.5.0",
          "state": {
            "_dom_classes": [],
            "_model_module": "@jupyter-widgets/controls",
            "_model_module_version": "1.5.0",
            "_model_name": "HTMLModel",
            "_view_count": null,
            "_view_module": "@jupyter-widgets/controls",
            "_view_module_version": "1.5.0",
            "_view_name": "HTMLView",
            "description": "",
            "description_tooltip": null,
            "layout": "IPY_MODEL_11f4f9e9951443ab90742b391c460454",
            "placeholder": "​",
            "style": "IPY_MODEL_04c49338212b406f847f62e79c1fb9ef",
            "value": "Downloading: 100%"
          }
        },
        "2083d7910e2541a6b319b300424f0545": {
          "model_module": "@jupyter-widgets/controls",
          "model_name": "FloatProgressModel",
          "model_module_version": "1.5.0",
          "state": {
            "_dom_classes": [],
            "_model_module": "@jupyter-widgets/controls",
            "_model_module_version": "1.5.0",
            "_model_name": "FloatProgressModel",
            "_view_count": null,
            "_view_module": "@jupyter-widgets/controls",
            "_view_module_version": "1.5.0",
            "_view_name": "ProgressView",
            "bar_style": "success",
            "description": "",
            "description_tooltip": null,
            "layout": "IPY_MODEL_99ead56178de491a82cf0534a4698d02",
            "max": 294,
            "min": 0,
            "orientation": "horizontal",
            "style": "IPY_MODEL_28456e197b2e43518067219714b0ac2f",
            "value": 294
          }
        },
        "e32f9ad1c4524186b6d26f237aafc543": {
          "model_module": "@jupyter-widgets/controls",
          "model_name": "HTMLModel",
          "model_module_version": "1.5.0",
          "state": {
            "_dom_classes": [],
            "_model_module": "@jupyter-widgets/controls",
            "_model_module_version": "1.5.0",
            "_model_name": "HTMLModel",
            "_view_count": null,
            "_view_module": "@jupyter-widgets/controls",
            "_view_module_version": "1.5.0",
            "_view_name": "HTMLView",
            "description": "",
            "description_tooltip": null,
            "layout": "IPY_MODEL_a7a0082b2c3c48d1ab5fb2d87a308c86",
            "placeholder": "​",
            "style": "IPY_MODEL_c3bcd30bd6de40c18ee181113fac3ca3",
            "value": " 294/294 [00:00&lt;00:00, 3.91kB/s]"
          }
        },
        "c2cc4cf2dbc04ba291014b3f16d46438": {
          "model_module": "@jupyter-widgets/base",
          "model_name": "LayoutModel",
          "model_module_version": "1.2.0",
          "state": {
            "_model_module": "@jupyter-widgets/base",
            "_model_module_version": "1.2.0",
            "_model_name": "LayoutModel",
            "_view_count": null,
            "_view_module": "@jupyter-widgets/base",
            "_view_module_version": "1.2.0",
            "_view_name": "LayoutView",
            "align_content": null,
            "align_items": null,
            "align_self": null,
            "border": null,
            "bottom": null,
            "display": null,
            "flex": null,
            "flex_flow": null,
            "grid_area": null,
            "grid_auto_columns": null,
            "grid_auto_flow": null,
            "grid_auto_rows": null,
            "grid_column": null,
            "grid_gap": null,
            "grid_row": null,
            "grid_template_areas": null,
            "grid_template_columns": null,
            "grid_template_rows": null,
            "height": null,
            "justify_content": null,
            "justify_items": null,
            "left": null,
            "margin": null,
            "max_height": null,
            "max_width": null,
            "min_height": null,
            "min_width": null,
            "object_fit": null,
            "object_position": null,
            "order": null,
            "overflow": null,
            "overflow_x": null,
            "overflow_y": null,
            "padding": null,
            "right": null,
            "top": null,
            "visibility": null,
            "width": null
          }
        },
        "11f4f9e9951443ab90742b391c460454": {
          "model_module": "@jupyter-widgets/base",
          "model_name": "LayoutModel",
          "model_module_version": "1.2.0",
          "state": {
            "_model_module": "@jupyter-widgets/base",
            "_model_module_version": "1.2.0",
            "_model_name": "LayoutModel",
            "_view_count": null,
            "_view_module": "@jupyter-widgets/base",
            "_view_module_version": "1.2.0",
            "_view_name": "LayoutView",
            "align_content": null,
            "align_items": null,
            "align_self": null,
            "border": null,
            "bottom": null,
            "display": null,
            "flex": null,
            "flex_flow": null,
            "grid_area": null,
            "grid_auto_columns": null,
            "grid_auto_flow": null,
            "grid_auto_rows": null,
            "grid_column": null,
            "grid_gap": null,
            "grid_row": null,
            "grid_template_areas": null,
            "grid_template_columns": null,
            "grid_template_rows": null,
            "height": null,
            "justify_content": null,
            "justify_items": null,
            "left": null,
            "margin": null,
            "max_height": null,
            "max_width": null,
            "min_height": null,
            "min_width": null,
            "object_fit": null,
            "object_position": null,
            "order": null,
            "overflow": null,
            "overflow_x": null,
            "overflow_y": null,
            "padding": null,
            "right": null,
            "top": null,
            "visibility": null,
            "width": null
          }
        },
        "04c49338212b406f847f62e79c1fb9ef": {
          "model_module": "@jupyter-widgets/controls",
          "model_name": "DescriptionStyleModel",
          "model_module_version": "1.5.0",
          "state": {
            "_model_module": "@jupyter-widgets/controls",
            "_model_module_version": "1.5.0",
            "_model_name": "DescriptionStyleModel",
            "_view_count": null,
            "_view_module": "@jupyter-widgets/base",
            "_view_module_version": "1.2.0",
            "_view_name": "StyleView",
            "description_width": ""
          }
        },
        "99ead56178de491a82cf0534a4698d02": {
          "model_module": "@jupyter-widgets/base",
          "model_name": "LayoutModel",
          "model_module_version": "1.2.0",
          "state": {
            "_model_module": "@jupyter-widgets/base",
            "_model_module_version": "1.2.0",
            "_model_name": "LayoutModel",
            "_view_count": null,
            "_view_module": "@jupyter-widgets/base",
            "_view_module_version": "1.2.0",
            "_view_name": "LayoutView",
            "align_content": null,
            "align_items": null,
            "align_self": null,
            "border": null,
            "bottom": null,
            "display": null,
            "flex": null,
            "flex_flow": null,
            "grid_area": null,
            "grid_auto_columns": null,
            "grid_auto_flow": null,
            "grid_auto_rows": null,
            "grid_column": null,
            "grid_gap": null,
            "grid_row": null,
            "grid_template_areas": null,
            "grid_template_columns": null,
            "grid_template_rows": null,
            "height": null,
            "justify_content": null,
            "justify_items": null,
            "left": null,
            "margin": null,
            "max_height": null,
            "max_width": null,
            "min_height": null,
            "min_width": null,
            "object_fit": null,
            "object_position": null,
            "order": null,
            "overflow": null,
            "overflow_x": null,
            "overflow_y": null,
            "padding": null,
            "right": null,
            "top": null,
            "visibility": null,
            "width": null
          }
        },
        "28456e197b2e43518067219714b0ac2f": {
          "model_module": "@jupyter-widgets/controls",
          "model_name": "ProgressStyleModel",
          "model_module_version": "1.5.0",
          "state": {
            "_model_module": "@jupyter-widgets/controls",
            "_model_module_version": "1.5.0",
            "_model_name": "ProgressStyleModel",
            "_view_count": null,
            "_view_module": "@jupyter-widgets/base",
            "_view_module_version": "1.2.0",
            "_view_name": "StyleView",
            "bar_color": null,
            "description_width": ""
          }
        },
        "a7a0082b2c3c48d1ab5fb2d87a308c86": {
          "model_module": "@jupyter-widgets/base",
          "model_name": "LayoutModel",
          "model_module_version": "1.2.0",
          "state": {
            "_model_module": "@jupyter-widgets/base",
            "_model_module_version": "1.2.0",
            "_model_name": "LayoutModel",
            "_view_count": null,
            "_view_module": "@jupyter-widgets/base",
            "_view_module_version": "1.2.0",
            "_view_name": "LayoutView",
            "align_content": null,
            "align_items": null,
            "align_self": null,
            "border": null,
            "bottom": null,
            "display": null,
            "flex": null,
            "flex_flow": null,
            "grid_area": null,
            "grid_auto_columns": null,
            "grid_auto_flow": null,
            "grid_auto_rows": null,
            "grid_column": null,
            "grid_gap": null,
            "grid_row": null,
            "grid_template_areas": null,
            "grid_template_columns": null,
            "grid_template_rows": null,
            "height": null,
            "justify_content": null,
            "justify_items": null,
            "left": null,
            "margin": null,
            "max_height": null,
            "max_width": null,
            "min_height": null,
            "min_width": null,
            "object_fit": null,
            "object_position": null,
            "order": null,
            "overflow": null,
            "overflow_x": null,
            "overflow_y": null,
            "padding": null,
            "right": null,
            "top": null,
            "visibility": null,
            "width": null
          }
        },
        "c3bcd30bd6de40c18ee181113fac3ca3": {
          "model_module": "@jupyter-widgets/controls",
          "model_name": "DescriptionStyleModel",
          "model_module_version": "1.5.0",
          "state": {
            "_model_module": "@jupyter-widgets/controls",
            "_model_module_version": "1.5.0",
            "_model_name": "DescriptionStyleModel",
            "_view_count": null,
            "_view_module": "@jupyter-widgets/base",
            "_view_module_version": "1.2.0",
            "_view_name": "StyleView",
            "description_width": ""
          }
        },
        "937b8924596448ed8ac1ebcea157330b": {
          "model_module": "@jupyter-widgets/controls",
          "model_name": "HBoxModel",
          "model_module_version": "1.5.0",
          "state": {
            "_dom_classes": [],
            "_model_module": "@jupyter-widgets/controls",
            "_model_module_version": "1.5.0",
            "_model_name": "HBoxModel",
            "_view_count": null,
            "_view_module": "@jupyter-widgets/controls",
            "_view_module_version": "1.5.0",
            "_view_name": "HBoxView",
            "box_style": "",
            "children": [
              "IPY_MODEL_f3ff12b982d541eea37caffa3549e81e",
              "IPY_MODEL_eca862297f6b435f9692feab5632c43b",
              "IPY_MODEL_81d8d6f0ff5141d7ae1caee1d9dfebe0"
            ],
            "layout": "IPY_MODEL_f6479d0b615544e0af597c927761a410"
          }
        },
        "f3ff12b982d541eea37caffa3549e81e": {
          "model_module": "@jupyter-widgets/controls",
          "model_name": "HTMLModel",
          "model_module_version": "1.5.0",
          "state": {
            "_dom_classes": [],
            "_model_module": "@jupyter-widgets/controls",
            "_model_module_version": "1.5.0",
            "_model_name": "HTMLModel",
            "_view_count": null,
            "_view_module": "@jupyter-widgets/controls",
            "_view_module_version": "1.5.0",
            "_view_name": "HTMLView",
            "description": "",
            "description_tooltip": null,
            "layout": "IPY_MODEL_e823e0bd6b2c4cedb6b908531b999c49",
            "placeholder": "​",
            "style": "IPY_MODEL_75db56ea02944f90bbf155edd8c481cd",
            "value": "Downloading: 100%"
          }
        },
        "eca862297f6b435f9692feab5632c43b": {
          "model_module": "@jupyter-widgets/controls",
          "model_name": "FloatProgressModel",
          "model_module_version": "1.5.0",
          "state": {
            "_dom_classes": [],
            "_model_module": "@jupyter-widgets/controls",
            "_model_module_version": "1.5.0",
            "_model_name": "FloatProgressModel",
            "_view_count": null,
            "_view_module": "@jupyter-widgets/controls",
            "_view_module_version": "1.5.0",
            "_view_name": "ProgressView",
            "bar_style": "success",
            "description": "",
            "description_tooltip": null,
            "layout": "IPY_MODEL_36e6e479542640f2be0b3b69ac7d9362",
            "max": 1005,
            "min": 0,
            "orientation": "horizontal",
            "style": "IPY_MODEL_1c700e4702304198803643f3f677f6e4",
            "value": 1005
          }
        },
        "81d8d6f0ff5141d7ae1caee1d9dfebe0": {
          "model_module": "@jupyter-widgets/controls",
          "model_name": "HTMLModel",
          "model_module_version": "1.5.0",
          "state": {
            "_dom_classes": [],
            "_model_module": "@jupyter-widgets/controls",
            "_model_module_version": "1.5.0",
            "_model_name": "HTMLModel",
            "_view_count": null,
            "_view_module": "@jupyter-widgets/controls",
            "_view_module_version": "1.5.0",
            "_view_name": "HTMLView",
            "description": "",
            "description_tooltip": null,
            "layout": "IPY_MODEL_990394ccdd6d4dae88fc621d9423829f",
            "placeholder": "​",
            "style": "IPY_MODEL_b3a58910fdfe471181646374e31674da",
            "value": " 0.98k/0.98k [00:00&lt;00:00, 11.4kB/s]"
          }
        },
        "f6479d0b615544e0af597c927761a410": {
          "model_module": "@jupyter-widgets/base",
          "model_name": "LayoutModel",
          "model_module_version": "1.2.0",
          "state": {
            "_model_module": "@jupyter-widgets/base",
            "_model_module_version": "1.2.0",
            "_model_name": "LayoutModel",
            "_view_count": null,
            "_view_module": "@jupyter-widgets/base",
            "_view_module_version": "1.2.0",
            "_view_name": "LayoutView",
            "align_content": null,
            "align_items": null,
            "align_self": null,
            "border": null,
            "bottom": null,
            "display": null,
            "flex": null,
            "flex_flow": null,
            "grid_area": null,
            "grid_auto_columns": null,
            "grid_auto_flow": null,
            "grid_auto_rows": null,
            "grid_column": null,
            "grid_gap": null,
            "grid_row": null,
            "grid_template_areas": null,
            "grid_template_columns": null,
            "grid_template_rows": null,
            "height": null,
            "justify_content": null,
            "justify_items": null,
            "left": null,
            "margin": null,
            "max_height": null,
            "max_width": null,
            "min_height": null,
            "min_width": null,
            "object_fit": null,
            "object_position": null,
            "order": null,
            "overflow": null,
            "overflow_x": null,
            "overflow_y": null,
            "padding": null,
            "right": null,
            "top": null,
            "visibility": null,
            "width": null
          }
        },
        "e823e0bd6b2c4cedb6b908531b999c49": {
          "model_module": "@jupyter-widgets/base",
          "model_name": "LayoutModel",
          "model_module_version": "1.2.0",
          "state": {
            "_model_module": "@jupyter-widgets/base",
            "_model_module_version": "1.2.0",
            "_model_name": "LayoutModel",
            "_view_count": null,
            "_view_module": "@jupyter-widgets/base",
            "_view_module_version": "1.2.0",
            "_view_name": "LayoutView",
            "align_content": null,
            "align_items": null,
            "align_self": null,
            "border": null,
            "bottom": null,
            "display": null,
            "flex": null,
            "flex_flow": null,
            "grid_area": null,
            "grid_auto_columns": null,
            "grid_auto_flow": null,
            "grid_auto_rows": null,
            "grid_column": null,
            "grid_gap": null,
            "grid_row": null,
            "grid_template_areas": null,
            "grid_template_columns": null,
            "grid_template_rows": null,
            "height": null,
            "justify_content": null,
            "justify_items": null,
            "left": null,
            "margin": null,
            "max_height": null,
            "max_width": null,
            "min_height": null,
            "min_width": null,
            "object_fit": null,
            "object_position": null,
            "order": null,
            "overflow": null,
            "overflow_x": null,
            "overflow_y": null,
            "padding": null,
            "right": null,
            "top": null,
            "visibility": null,
            "width": null
          }
        },
        "75db56ea02944f90bbf155edd8c481cd": {
          "model_module": "@jupyter-widgets/controls",
          "model_name": "DescriptionStyleModel",
          "model_module_version": "1.5.0",
          "state": {
            "_model_module": "@jupyter-widgets/controls",
            "_model_module_version": "1.5.0",
            "_model_name": "DescriptionStyleModel",
            "_view_count": null,
            "_view_module": "@jupyter-widgets/base",
            "_view_module_version": "1.2.0",
            "_view_name": "StyleView",
            "description_width": ""
          }
        },
        "36e6e479542640f2be0b3b69ac7d9362": {
          "model_module": "@jupyter-widgets/base",
          "model_name": "LayoutModel",
          "model_module_version": "1.2.0",
          "state": {
            "_model_module": "@jupyter-widgets/base",
            "_model_module_version": "1.2.0",
            "_model_name": "LayoutModel",
            "_view_count": null,
            "_view_module": "@jupyter-widgets/base",
            "_view_module_version": "1.2.0",
            "_view_name": "LayoutView",
            "align_content": null,
            "align_items": null,
            "align_self": null,
            "border": null,
            "bottom": null,
            "display": null,
            "flex": null,
            "flex_flow": null,
            "grid_area": null,
            "grid_auto_columns": null,
            "grid_auto_flow": null,
            "grid_auto_rows": null,
            "grid_column": null,
            "grid_gap": null,
            "grid_row": null,
            "grid_template_areas": null,
            "grid_template_columns": null,
            "grid_template_rows": null,
            "height": null,
            "justify_content": null,
            "justify_items": null,
            "left": null,
            "margin": null,
            "max_height": null,
            "max_width": null,
            "min_height": null,
            "min_width": null,
            "object_fit": null,
            "object_position": null,
            "order": null,
            "overflow": null,
            "overflow_x": null,
            "overflow_y": null,
            "padding": null,
            "right": null,
            "top": null,
            "visibility": null,
            "width": null
          }
        },
        "1c700e4702304198803643f3f677f6e4": {
          "model_module": "@jupyter-widgets/controls",
          "model_name": "ProgressStyleModel",
          "model_module_version": "1.5.0",
          "state": {
            "_model_module": "@jupyter-widgets/controls",
            "_model_module_version": "1.5.0",
            "_model_name": "ProgressStyleModel",
            "_view_count": null,
            "_view_module": "@jupyter-widgets/base",
            "_view_module_version": "1.2.0",
            "_view_name": "StyleView",
            "bar_color": null,
            "description_width": ""
          }
        },
        "990394ccdd6d4dae88fc621d9423829f": {
          "model_module": "@jupyter-widgets/base",
          "model_name": "LayoutModel",
          "model_module_version": "1.2.0",
          "state": {
            "_model_module": "@jupyter-widgets/base",
            "_model_module_version": "1.2.0",
            "_model_name": "LayoutModel",
            "_view_count": null,
            "_view_module": "@jupyter-widgets/base",
            "_view_module_version": "1.2.0",
            "_view_name": "LayoutView",
            "align_content": null,
            "align_items": null,
            "align_self": null,
            "border": null,
            "bottom": null,
            "display": null,
            "flex": null,
            "flex_flow": null,
            "grid_area": null,
            "grid_auto_columns": null,
            "grid_auto_flow": null,
            "grid_auto_rows": null,
            "grid_column": null,
            "grid_gap": null,
            "grid_row": null,
            "grid_template_areas": null,
            "grid_template_columns": null,
            "grid_template_rows": null,
            "height": null,
            "justify_content": null,
            "justify_items": null,
            "left": null,
            "margin": null,
            "max_height": null,
            "max_width": null,
            "min_height": null,
            "min_width": null,
            "object_fit": null,
            "object_position": null,
            "order": null,
            "overflow": null,
            "overflow_x": null,
            "overflow_y": null,
            "padding": null,
            "right": null,
            "top": null,
            "visibility": null,
            "width": null
          }
        },
        "b3a58910fdfe471181646374e31674da": {
          "model_module": "@jupyter-widgets/controls",
          "model_name": "DescriptionStyleModel",
          "model_module_version": "1.5.0",
          "state": {
            "_model_module": "@jupyter-widgets/controls",
            "_model_module_version": "1.5.0",
            "_model_name": "DescriptionStyleModel",
            "_view_count": null,
            "_view_module": "@jupyter-widgets/base",
            "_view_module_version": "1.2.0",
            "_view_name": "StyleView",
            "description_width": ""
          }
        },
        "c3733af1ff4b40ad8db26f4d76ebd337": {
          "model_module": "@jupyter-widgets/controls",
          "model_name": "HBoxModel",
          "model_module_version": "1.5.0",
          "state": {
            "_dom_classes": [],
            "_model_module": "@jupyter-widgets/controls",
            "_model_module_version": "1.5.0",
            "_model_name": "HBoxModel",
            "_view_count": null,
            "_view_module": "@jupyter-widgets/controls",
            "_view_module_version": "1.5.0",
            "_view_name": "HBoxView",
            "box_style": "",
            "children": [
              "IPY_MODEL_53eeb06cb0a14e079691437c802961b9",
              "IPY_MODEL_1f519d108c5343f0ae28044461583c1e",
              "IPY_MODEL_8f7d016666044d4ea3566ac4231cd365"
            ],
            "layout": "IPY_MODEL_3e097c502faf412bbfcf5dc0e54502e4"
          }
        },
        "53eeb06cb0a14e079691437c802961b9": {
          "model_module": "@jupyter-widgets/controls",
          "model_name": "HTMLModel",
          "model_module_version": "1.5.0",
          "state": {
            "_dom_classes": [],
            "_model_module": "@jupyter-widgets/controls",
            "_model_module_version": "1.5.0",
            "_model_name": "HTMLModel",
            "_view_count": null,
            "_view_module": "@jupyter-widgets/controls",
            "_view_module_version": "1.5.0",
            "_view_name": "HTMLView",
            "description": "",
            "description_tooltip": null,
            "layout": "IPY_MODEL_8757b66d594840fe89d3b374edf2963f",
            "placeholder": "​",
            "style": "IPY_MODEL_e8577a7d8e4c40689f5bcbe2dbea410a",
            "value": "Downloading: 100%"
          }
        },
        "1f519d108c5343f0ae28044461583c1e": {
          "model_module": "@jupyter-widgets/controls",
          "model_name": "FloatProgressModel",
          "model_module_version": "1.5.0",
          "state": {
            "_dom_classes": [],
            "_model_module": "@jupyter-widgets/controls",
            "_model_module_version": "1.5.0",
            "_model_name": "FloatProgressModel",
            "_view_count": null,
            "_view_module": "@jupyter-widgets/controls",
            "_view_module_version": "1.5.0",
            "_view_name": "ProgressView",
            "bar_style": "success",
            "description": "",
            "description_tooltip": null,
            "layout": "IPY_MODEL_29b7ff1e531d45b29e3ed8e9a5c454b1",
            "max": 798293,
            "min": 0,
            "orientation": "horizontal",
            "style": "IPY_MODEL_759a83abf24449c3a78ec2f4503f77dc",
            "value": 798293
          }
        },
        "8f7d016666044d4ea3566ac4231cd365": {
          "model_module": "@jupyter-widgets/controls",
          "model_name": "HTMLModel",
          "model_module_version": "1.5.0",
          "state": {
            "_dom_classes": [],
            "_model_module": "@jupyter-widgets/controls",
            "_model_module_version": "1.5.0",
            "_model_name": "HTMLModel",
            "_view_count": null,
            "_view_module": "@jupyter-widgets/controls",
            "_view_module_version": "1.5.0",
            "_view_name": "HTMLView",
            "description": "",
            "description_tooltip": null,
            "layout": "IPY_MODEL_773c541febc64ba4adff89d6f03accb7",
            "placeholder": "​",
            "style": "IPY_MODEL_02746775817e44d485867aa65b16b8df",
            "value": " 780k/780k [00:01&lt;00:00, 541kB/s]"
          }
        },
        "3e097c502faf412bbfcf5dc0e54502e4": {
          "model_module": "@jupyter-widgets/base",
          "model_name": "LayoutModel",
          "model_module_version": "1.2.0",
          "state": {
            "_model_module": "@jupyter-widgets/base",
            "_model_module_version": "1.2.0",
            "_model_name": "LayoutModel",
            "_view_count": null,
            "_view_module": "@jupyter-widgets/base",
            "_view_module_version": "1.2.0",
            "_view_name": "LayoutView",
            "align_content": null,
            "align_items": null,
            "align_self": null,
            "border": null,
            "bottom": null,
            "display": null,
            "flex": null,
            "flex_flow": null,
            "grid_area": null,
            "grid_auto_columns": null,
            "grid_auto_flow": null,
            "grid_auto_rows": null,
            "grid_column": null,
            "grid_gap": null,
            "grid_row": null,
            "grid_template_areas": null,
            "grid_template_columns": null,
            "grid_template_rows": null,
            "height": null,
            "justify_content": null,
            "justify_items": null,
            "left": null,
            "margin": null,
            "max_height": null,
            "max_width": null,
            "min_height": null,
            "min_width": null,
            "object_fit": null,
            "object_position": null,
            "order": null,
            "overflow": null,
            "overflow_x": null,
            "overflow_y": null,
            "padding": null,
            "right": null,
            "top": null,
            "visibility": null,
            "width": null
          }
        },
        "8757b66d594840fe89d3b374edf2963f": {
          "model_module": "@jupyter-widgets/base",
          "model_name": "LayoutModel",
          "model_module_version": "1.2.0",
          "state": {
            "_model_module": "@jupyter-widgets/base",
            "_model_module_version": "1.2.0",
            "_model_name": "LayoutModel",
            "_view_count": null,
            "_view_module": "@jupyter-widgets/base",
            "_view_module_version": "1.2.0",
            "_view_name": "LayoutView",
            "align_content": null,
            "align_items": null,
            "align_self": null,
            "border": null,
            "bottom": null,
            "display": null,
            "flex": null,
            "flex_flow": null,
            "grid_area": null,
            "grid_auto_columns": null,
            "grid_auto_flow": null,
            "grid_auto_rows": null,
            "grid_column": null,
            "grid_gap": null,
            "grid_row": null,
            "grid_template_areas": null,
            "grid_template_columns": null,
            "grid_template_rows": null,
            "height": null,
            "justify_content": null,
            "justify_items": null,
            "left": null,
            "margin": null,
            "max_height": null,
            "max_width": null,
            "min_height": null,
            "min_width": null,
            "object_fit": null,
            "object_position": null,
            "order": null,
            "overflow": null,
            "overflow_x": null,
            "overflow_y": null,
            "padding": null,
            "right": null,
            "top": null,
            "visibility": null,
            "width": null
          }
        },
        "e8577a7d8e4c40689f5bcbe2dbea410a": {
          "model_module": "@jupyter-widgets/controls",
          "model_name": "DescriptionStyleModel",
          "model_module_version": "1.5.0",
          "state": {
            "_model_module": "@jupyter-widgets/controls",
            "_model_module_version": "1.5.0",
            "_model_name": "DescriptionStyleModel",
            "_view_count": null,
            "_view_module": "@jupyter-widgets/base",
            "_view_module_version": "1.2.0",
            "_view_name": "StyleView",
            "description_width": ""
          }
        },
        "29b7ff1e531d45b29e3ed8e9a5c454b1": {
          "model_module": "@jupyter-widgets/base",
          "model_name": "LayoutModel",
          "model_module_version": "1.2.0",
          "state": {
            "_model_module": "@jupyter-widgets/base",
            "_model_module_version": "1.2.0",
            "_model_name": "LayoutModel",
            "_view_count": null,
            "_view_module": "@jupyter-widgets/base",
            "_view_module_version": "1.2.0",
            "_view_name": "LayoutView",
            "align_content": null,
            "align_items": null,
            "align_self": null,
            "border": null,
            "bottom": null,
            "display": null,
            "flex": null,
            "flex_flow": null,
            "grid_area": null,
            "grid_auto_columns": null,
            "grid_auto_flow": null,
            "grid_auto_rows": null,
            "grid_column": null,
            "grid_gap": null,
            "grid_row": null,
            "grid_template_areas": null,
            "grid_template_columns": null,
            "grid_template_rows": null,
            "height": null,
            "justify_content": null,
            "justify_items": null,
            "left": null,
            "margin": null,
            "max_height": null,
            "max_width": null,
            "min_height": null,
            "min_width": null,
            "object_fit": null,
            "object_position": null,
            "order": null,
            "overflow": null,
            "overflow_x": null,
            "overflow_y": null,
            "padding": null,
            "right": null,
            "top": null,
            "visibility": null,
            "width": null
          }
        },
        "759a83abf24449c3a78ec2f4503f77dc": {
          "model_module": "@jupyter-widgets/controls",
          "model_name": "ProgressStyleModel",
          "model_module_version": "1.5.0",
          "state": {
            "_model_module": "@jupyter-widgets/controls",
            "_model_module_version": "1.5.0",
            "_model_name": "ProgressStyleModel",
            "_view_count": null,
            "_view_module": "@jupyter-widgets/base",
            "_view_module_version": "1.2.0",
            "_view_name": "StyleView",
            "bar_color": null,
            "description_width": ""
          }
        },
        "773c541febc64ba4adff89d6f03accb7": {
          "model_module": "@jupyter-widgets/base",
          "model_name": "LayoutModel",
          "model_module_version": "1.2.0",
          "state": {
            "_model_module": "@jupyter-widgets/base",
            "_model_module_version": "1.2.0",
            "_model_name": "LayoutModel",
            "_view_count": null,
            "_view_module": "@jupyter-widgets/base",
            "_view_module_version": "1.2.0",
            "_view_name": "LayoutView",
            "align_content": null,
            "align_items": null,
            "align_self": null,
            "border": null,
            "bottom": null,
            "display": null,
            "flex": null,
            "flex_flow": null,
            "grid_area": null,
            "grid_auto_columns": null,
            "grid_auto_flow": null,
            "grid_auto_rows": null,
            "grid_column": null,
            "grid_gap": null,
            "grid_row": null,
            "grid_template_areas": null,
            "grid_template_columns": null,
            "grid_template_rows": null,
            "height": null,
            "justify_content": null,
            "justify_items": null,
            "left": null,
            "margin": null,
            "max_height": null,
            "max_width": null,
            "min_height": null,
            "min_width": null,
            "object_fit": null,
            "object_position": null,
            "order": null,
            "overflow": null,
            "overflow_x": null,
            "overflow_y": null,
            "padding": null,
            "right": null,
            "top": null,
            "visibility": null,
            "width": null
          }
        },
        "02746775817e44d485867aa65b16b8df": {
          "model_module": "@jupyter-widgets/controls",
          "model_name": "DescriptionStyleModel",
          "model_module_version": "1.5.0",
          "state": {
            "_model_module": "@jupyter-widgets/controls",
            "_model_module_version": "1.5.0",
            "_model_name": "DescriptionStyleModel",
            "_view_count": null,
            "_view_module": "@jupyter-widgets/base",
            "_view_module_version": "1.2.0",
            "_view_name": "StyleView",
            "description_width": ""
          }
        },
        "3812a8edf62c4fd3872d84a41d5dd701": {
          "model_module": "@jupyter-widgets/controls",
          "model_name": "HBoxModel",
          "model_module_version": "1.5.0",
          "state": {
            "_dom_classes": [],
            "_model_module": "@jupyter-widgets/controls",
            "_model_module_version": "1.5.0",
            "_model_name": "HBoxModel",
            "_view_count": null,
            "_view_module": "@jupyter-widgets/controls",
            "_view_module_version": "1.5.0",
            "_view_name": "HBoxView",
            "box_style": "",
            "children": [
              "IPY_MODEL_39fc2354b90547e1b17cce05c2818e09",
              "IPY_MODEL_60ec3133683349f09dd77192cb604dd6",
              "IPY_MODEL_d6ca53164a8f4e37ae514f22fc0515dd"
            ],
            "layout": "IPY_MODEL_f30848855bcc464ca6b8d5c28d6ec7e7"
          }
        },
        "39fc2354b90547e1b17cce05c2818e09": {
          "model_module": "@jupyter-widgets/controls",
          "model_name": "HTMLModel",
          "model_module_version": "1.5.0",
          "state": {
            "_dom_classes": [],
            "_model_module": "@jupyter-widgets/controls",
            "_model_module_version": "1.5.0",
            "_model_name": "HTMLModel",
            "_view_count": null,
            "_view_module": "@jupyter-widgets/controls",
            "_view_module_version": "1.5.0",
            "_view_name": "HTMLView",
            "description": "",
            "description_tooltip": null,
            "layout": "IPY_MODEL_d1271f62fec84b4ba0c4362120e6c4cb",
            "placeholder": "​",
            "style": "IPY_MODEL_78b4e47bad58405498968206833d7491",
            "value": "Downloading: 100%"
          }
        },
        "60ec3133683349f09dd77192cb604dd6": {
          "model_module": "@jupyter-widgets/controls",
          "model_name": "FloatProgressModel",
          "model_module_version": "1.5.0",
          "state": {
            "_dom_classes": [],
            "_model_module": "@jupyter-widgets/controls",
            "_model_module_version": "1.5.0",
            "_model_name": "FloatProgressModel",
            "_view_count": null,
            "_view_module": "@jupyter-widgets/controls",
            "_view_module_version": "1.5.0",
            "_view_name": "ProgressView",
            "bar_style": "success",
            "description": "",
            "description_tooltip": null,
            "layout": "IPY_MODEL_c783bf5d1ebc4151960467418d0219d9",
            "max": 456356,
            "min": 0,
            "orientation": "horizontal",
            "style": "IPY_MODEL_0df81d34d9c542fbb95ef1fda05dcf23",
            "value": 456356
          }
        },
        "d6ca53164a8f4e37ae514f22fc0515dd": {
          "model_module": "@jupyter-widgets/controls",
          "model_name": "HTMLModel",
          "model_module_version": "1.5.0",
          "state": {
            "_dom_classes": [],
            "_model_module": "@jupyter-widgets/controls",
            "_model_module_version": "1.5.0",
            "_model_name": "HTMLModel",
            "_view_count": null,
            "_view_module": "@jupyter-widgets/controls",
            "_view_module_version": "1.5.0",
            "_view_name": "HTMLView",
            "description": "",
            "description_tooltip": null,
            "layout": "IPY_MODEL_7e71ac2f6c9344b99e1703cd69fddb0c",
            "placeholder": "​",
            "style": "IPY_MODEL_9ca2c13193024d09b19f48c713d3703d",
            "value": " 446k/446k [00:01&lt;00:00, 473kB/s]"
          }
        },
        "f30848855bcc464ca6b8d5c28d6ec7e7": {
          "model_module": "@jupyter-widgets/base",
          "model_name": "LayoutModel",
          "model_module_version": "1.2.0",
          "state": {
            "_model_module": "@jupyter-widgets/base",
            "_model_module_version": "1.2.0",
            "_model_name": "LayoutModel",
            "_view_count": null,
            "_view_module": "@jupyter-widgets/base",
            "_view_module_version": "1.2.0",
            "_view_name": "LayoutView",
            "align_content": null,
            "align_items": null,
            "align_self": null,
            "border": null,
            "bottom": null,
            "display": null,
            "flex": null,
            "flex_flow": null,
            "grid_area": null,
            "grid_auto_columns": null,
            "grid_auto_flow": null,
            "grid_auto_rows": null,
            "grid_column": null,
            "grid_gap": null,
            "grid_row": null,
            "grid_template_areas": null,
            "grid_template_columns": null,
            "grid_template_rows": null,
            "height": null,
            "justify_content": null,
            "justify_items": null,
            "left": null,
            "margin": null,
            "max_height": null,
            "max_width": null,
            "min_height": null,
            "min_width": null,
            "object_fit": null,
            "object_position": null,
            "order": null,
            "overflow": null,
            "overflow_x": null,
            "overflow_y": null,
            "padding": null,
            "right": null,
            "top": null,
            "visibility": null,
            "width": null
          }
        },
        "d1271f62fec84b4ba0c4362120e6c4cb": {
          "model_module": "@jupyter-widgets/base",
          "model_name": "LayoutModel",
          "model_module_version": "1.2.0",
          "state": {
            "_model_module": "@jupyter-widgets/base",
            "_model_module_version": "1.2.0",
            "_model_name": "LayoutModel",
            "_view_count": null,
            "_view_module": "@jupyter-widgets/base",
            "_view_module_version": "1.2.0",
            "_view_name": "LayoutView",
            "align_content": null,
            "align_items": null,
            "align_self": null,
            "border": null,
            "bottom": null,
            "display": null,
            "flex": null,
            "flex_flow": null,
            "grid_area": null,
            "grid_auto_columns": null,
            "grid_auto_flow": null,
            "grid_auto_rows": null,
            "grid_column": null,
            "grid_gap": null,
            "grid_row": null,
            "grid_template_areas": null,
            "grid_template_columns": null,
            "grid_template_rows": null,
            "height": null,
            "justify_content": null,
            "justify_items": null,
            "left": null,
            "margin": null,
            "max_height": null,
            "max_width": null,
            "min_height": null,
            "min_width": null,
            "object_fit": null,
            "object_position": null,
            "order": null,
            "overflow": null,
            "overflow_x": null,
            "overflow_y": null,
            "padding": null,
            "right": null,
            "top": null,
            "visibility": null,
            "width": null
          }
        },
        "78b4e47bad58405498968206833d7491": {
          "model_module": "@jupyter-widgets/controls",
          "model_name": "DescriptionStyleModel",
          "model_module_version": "1.5.0",
          "state": {
            "_model_module": "@jupyter-widgets/controls",
            "_model_module_version": "1.5.0",
            "_model_name": "DescriptionStyleModel",
            "_view_count": null,
            "_view_module": "@jupyter-widgets/base",
            "_view_module_version": "1.2.0",
            "_view_name": "StyleView",
            "description_width": ""
          }
        },
        "c783bf5d1ebc4151960467418d0219d9": {
          "model_module": "@jupyter-widgets/base",
          "model_name": "LayoutModel",
          "model_module_version": "1.2.0",
          "state": {
            "_model_module": "@jupyter-widgets/base",
            "_model_module_version": "1.2.0",
            "_model_name": "LayoutModel",
            "_view_count": null,
            "_view_module": "@jupyter-widgets/base",
            "_view_module_version": "1.2.0",
            "_view_name": "LayoutView",
            "align_content": null,
            "align_items": null,
            "align_self": null,
            "border": null,
            "bottom": null,
            "display": null,
            "flex": null,
            "flex_flow": null,
            "grid_area": null,
            "grid_auto_columns": null,
            "grid_auto_flow": null,
            "grid_auto_rows": null,
            "grid_column": null,
            "grid_gap": null,
            "grid_row": null,
            "grid_template_areas": null,
            "grid_template_columns": null,
            "grid_template_rows": null,
            "height": null,
            "justify_content": null,
            "justify_items": null,
            "left": null,
            "margin": null,
            "max_height": null,
            "max_width": null,
            "min_height": null,
            "min_width": null,
            "object_fit": null,
            "object_position": null,
            "order": null,
            "overflow": null,
            "overflow_x": null,
            "overflow_y": null,
            "padding": null,
            "right": null,
            "top": null,
            "visibility": null,
            "width": null
          }
        },
        "0df81d34d9c542fbb95ef1fda05dcf23": {
          "model_module": "@jupyter-widgets/controls",
          "model_name": "ProgressStyleModel",
          "model_module_version": "1.5.0",
          "state": {
            "_model_module": "@jupyter-widgets/controls",
            "_model_module_version": "1.5.0",
            "_model_name": "ProgressStyleModel",
            "_view_count": null,
            "_view_module": "@jupyter-widgets/base",
            "_view_module_version": "1.2.0",
            "_view_name": "StyleView",
            "bar_color": null,
            "description_width": ""
          }
        },
        "7e71ac2f6c9344b99e1703cd69fddb0c": {
          "model_module": "@jupyter-widgets/base",
          "model_name": "LayoutModel",
          "model_module_version": "1.2.0",
          "state": {
            "_model_module": "@jupyter-widgets/base",
            "_model_module_version": "1.2.0",
            "_model_name": "LayoutModel",
            "_view_count": null,
            "_view_module": "@jupyter-widgets/base",
            "_view_module_version": "1.2.0",
            "_view_name": "LayoutView",
            "align_content": null,
            "align_items": null,
            "align_self": null,
            "border": null,
            "bottom": null,
            "display": null,
            "flex": null,
            "flex_flow": null,
            "grid_area": null,
            "grid_auto_columns": null,
            "grid_auto_flow": null,
            "grid_auto_rows": null,
            "grid_column": null,
            "grid_gap": null,
            "grid_row": null,
            "grid_template_areas": null,
            "grid_template_columns": null,
            "grid_template_rows": null,
            "height": null,
            "justify_content": null,
            "justify_items": null,
            "left": null,
            "margin": null,
            "max_height": null,
            "max_width": null,
            "min_height": null,
            "min_width": null,
            "object_fit": null,
            "object_position": null,
            "order": null,
            "overflow": null,
            "overflow_x": null,
            "overflow_y": null,
            "padding": null,
            "right": null,
            "top": null,
            "visibility": null,
            "width": null
          }
        },
        "9ca2c13193024d09b19f48c713d3703d": {
          "model_module": "@jupyter-widgets/controls",
          "model_name": "DescriptionStyleModel",
          "model_module_version": "1.5.0",
          "state": {
            "_model_module": "@jupyter-widgets/controls",
            "_model_module_version": "1.5.0",
            "_model_name": "DescriptionStyleModel",
            "_view_count": null,
            "_view_module": "@jupyter-widgets/base",
            "_view_module_version": "1.2.0",
            "_view_name": "StyleView",
            "description_width": ""
          }
        },
        "0ae8338a7caa475999d3ed14eb1acd41": {
          "model_module": "@jupyter-widgets/controls",
          "model_name": "HBoxModel",
          "model_module_version": "1.5.0",
          "state": {
            "_dom_classes": [],
            "_model_module": "@jupyter-widgets/controls",
            "_model_module_version": "1.5.0",
            "_model_name": "HBoxModel",
            "_view_count": null,
            "_view_module": "@jupyter-widgets/controls",
            "_view_module_version": "1.5.0",
            "_view_name": "HBoxView",
            "box_style": "",
            "children": [
              "IPY_MODEL_ca518e5ee7754f4198b2b578ddc099be",
              "IPY_MODEL_231666f5c2d24f38939b3eb713094259",
              "IPY_MODEL_82066ec2a1f44dd1a64f60a24cad725d"
            ],
            "layout": "IPY_MODEL_82c13fa6b530407fbc5f1001a1417ebc"
          }
        },
        "ca518e5ee7754f4198b2b578ddc099be": {
          "model_module": "@jupyter-widgets/controls",
          "model_name": "HTMLModel",
          "model_module_version": "1.5.0",
          "state": {
            "_dom_classes": [],
            "_model_module": "@jupyter-widgets/controls",
            "_model_module_version": "1.5.0",
            "_model_name": "HTMLModel",
            "_view_count": null,
            "_view_module": "@jupyter-widgets/controls",
            "_view_module_version": "1.5.0",
            "_view_name": "HTMLView",
            "description": "",
            "description_tooltip": null,
            "layout": "IPY_MODEL_282abdc458fb406c93326bee92e7b080",
            "placeholder": "​",
            "style": "IPY_MODEL_eaee5bb0c1bf4e14bb0b37b4e4d72bbd",
            "value": "Downloading: 100%"
          }
        },
        "231666f5c2d24f38939b3eb713094259": {
          "model_module": "@jupyter-widgets/controls",
          "model_name": "FloatProgressModel",
          "model_module_version": "1.5.0",
          "state": {
            "_dom_classes": [],
            "_model_module": "@jupyter-widgets/controls",
            "_model_module_version": "1.5.0",
            "_model_name": "FloatProgressModel",
            "_view_count": null,
            "_view_module": "@jupyter-widgets/controls",
            "_view_module_version": "1.5.0",
            "_view_name": "ProgressView",
            "bar_style": "success",
            "description": "",
            "description_tooltip": null,
            "layout": "IPY_MODEL_58bee8e1a2324767b5052d49647b2371",
            "max": 1356047,
            "min": 0,
            "orientation": "horizontal",
            "style": "IPY_MODEL_ea4cc57f700b4133921f2604c64bdbb9",
            "value": 1356047
          }
        },
        "82066ec2a1f44dd1a64f60a24cad725d": {
          "model_module": "@jupyter-widgets/controls",
          "model_name": "HTMLModel",
          "model_module_version": "1.5.0",
          "state": {
            "_dom_classes": [],
            "_model_module": "@jupyter-widgets/controls",
            "_model_module_version": "1.5.0",
            "_model_name": "HTMLModel",
            "_view_count": null,
            "_view_module": "@jupyter-widgets/controls",
            "_view_module_version": "1.5.0",
            "_view_name": "HTMLView",
            "description": "",
            "description_tooltip": null,
            "layout": "IPY_MODEL_de79933bdb3a4c8b9d898b81a3825c4f",
            "placeholder": "​",
            "style": "IPY_MODEL_bdddfd383cdf414bb97a49e08ac5132d",
            "value": " 1.29M/1.29M [00:01&lt;00:00, 1.18MB/s]"
          }
        },
        "82c13fa6b530407fbc5f1001a1417ebc": {
          "model_module": "@jupyter-widgets/base",
          "model_name": "LayoutModel",
          "model_module_version": "1.2.0",
          "state": {
            "_model_module": "@jupyter-widgets/base",
            "_model_module_version": "1.2.0",
            "_model_name": "LayoutModel",
            "_view_count": null,
            "_view_module": "@jupyter-widgets/base",
            "_view_module_version": "1.2.0",
            "_view_name": "LayoutView",
            "align_content": null,
            "align_items": null,
            "align_self": null,
            "border": null,
            "bottom": null,
            "display": null,
            "flex": null,
            "flex_flow": null,
            "grid_area": null,
            "grid_auto_columns": null,
            "grid_auto_flow": null,
            "grid_auto_rows": null,
            "grid_column": null,
            "grid_gap": null,
            "grid_row": null,
            "grid_template_areas": null,
            "grid_template_columns": null,
            "grid_template_rows": null,
            "height": null,
            "justify_content": null,
            "justify_items": null,
            "left": null,
            "margin": null,
            "max_height": null,
            "max_width": null,
            "min_height": null,
            "min_width": null,
            "object_fit": null,
            "object_position": null,
            "order": null,
            "overflow": null,
            "overflow_x": null,
            "overflow_y": null,
            "padding": null,
            "right": null,
            "top": null,
            "visibility": null,
            "width": null
          }
        },
        "282abdc458fb406c93326bee92e7b080": {
          "model_module": "@jupyter-widgets/base",
          "model_name": "LayoutModel",
          "model_module_version": "1.2.0",
          "state": {
            "_model_module": "@jupyter-widgets/base",
            "_model_module_version": "1.2.0",
            "_model_name": "LayoutModel",
            "_view_count": null,
            "_view_module": "@jupyter-widgets/base",
            "_view_module_version": "1.2.0",
            "_view_name": "LayoutView",
            "align_content": null,
            "align_items": null,
            "align_self": null,
            "border": null,
            "bottom": null,
            "display": null,
            "flex": null,
            "flex_flow": null,
            "grid_area": null,
            "grid_auto_columns": null,
            "grid_auto_flow": null,
            "grid_auto_rows": null,
            "grid_column": null,
            "grid_gap": null,
            "grid_row": null,
            "grid_template_areas": null,
            "grid_template_columns": null,
            "grid_template_rows": null,
            "height": null,
            "justify_content": null,
            "justify_items": null,
            "left": null,
            "margin": null,
            "max_height": null,
            "max_width": null,
            "min_height": null,
            "min_width": null,
            "object_fit": null,
            "object_position": null,
            "order": null,
            "overflow": null,
            "overflow_x": null,
            "overflow_y": null,
            "padding": null,
            "right": null,
            "top": null,
            "visibility": null,
            "width": null
          }
        },
        "eaee5bb0c1bf4e14bb0b37b4e4d72bbd": {
          "model_module": "@jupyter-widgets/controls",
          "model_name": "DescriptionStyleModel",
          "model_module_version": "1.5.0",
          "state": {
            "_model_module": "@jupyter-widgets/controls",
            "_model_module_version": "1.5.0",
            "_model_name": "DescriptionStyleModel",
            "_view_count": null,
            "_view_module": "@jupyter-widgets/base",
            "_view_module_version": "1.2.0",
            "_view_name": "StyleView",
            "description_width": ""
          }
        },
        "58bee8e1a2324767b5052d49647b2371": {
          "model_module": "@jupyter-widgets/base",
          "model_name": "LayoutModel",
          "model_module_version": "1.2.0",
          "state": {
            "_model_module": "@jupyter-widgets/base",
            "_model_module_version": "1.2.0",
            "_model_name": "LayoutModel",
            "_view_count": null,
            "_view_module": "@jupyter-widgets/base",
            "_view_module_version": "1.2.0",
            "_view_name": "LayoutView",
            "align_content": null,
            "align_items": null,
            "align_self": null,
            "border": null,
            "bottom": null,
            "display": null,
            "flex": null,
            "flex_flow": null,
            "grid_area": null,
            "grid_auto_columns": null,
            "grid_auto_flow": null,
            "grid_auto_rows": null,
            "grid_column": null,
            "grid_gap": null,
            "grid_row": null,
            "grid_template_areas": null,
            "grid_template_columns": null,
            "grid_template_rows": null,
            "height": null,
            "justify_content": null,
            "justify_items": null,
            "left": null,
            "margin": null,
            "max_height": null,
            "max_width": null,
            "min_height": null,
            "min_width": null,
            "object_fit": null,
            "object_position": null,
            "order": null,
            "overflow": null,
            "overflow_x": null,
            "overflow_y": null,
            "padding": null,
            "right": null,
            "top": null,
            "visibility": null,
            "width": null
          }
        },
        "ea4cc57f700b4133921f2604c64bdbb9": {
          "model_module": "@jupyter-widgets/controls",
          "model_name": "ProgressStyleModel",
          "model_module_version": "1.5.0",
          "state": {
            "_model_module": "@jupyter-widgets/controls",
            "_model_module_version": "1.5.0",
            "_model_name": "ProgressStyleModel",
            "_view_count": null,
            "_view_module": "@jupyter-widgets/base",
            "_view_module_version": "1.2.0",
            "_view_name": "StyleView",
            "bar_color": null,
            "description_width": ""
          }
        },
        "de79933bdb3a4c8b9d898b81a3825c4f": {
          "model_module": "@jupyter-widgets/base",
          "model_name": "LayoutModel",
          "model_module_version": "1.2.0",
          "state": {
            "_model_module": "@jupyter-widgets/base",
            "_model_module_version": "1.2.0",
            "_model_name": "LayoutModel",
            "_view_count": null,
            "_view_module": "@jupyter-widgets/base",
            "_view_module_version": "1.2.0",
            "_view_name": "LayoutView",
            "align_content": null,
            "align_items": null,
            "align_self": null,
            "border": null,
            "bottom": null,
            "display": null,
            "flex": null,
            "flex_flow": null,
            "grid_area": null,
            "grid_auto_columns": null,
            "grid_auto_flow": null,
            "grid_auto_rows": null,
            "grid_column": null,
            "grid_gap": null,
            "grid_row": null,
            "grid_template_areas": null,
            "grid_template_columns": null,
            "grid_template_rows": null,
            "height": null,
            "justify_content": null,
            "justify_items": null,
            "left": null,
            "margin": null,
            "max_height": null,
            "max_width": null,
            "min_height": null,
            "min_width": null,
            "object_fit": null,
            "object_position": null,
            "order": null,
            "overflow": null,
            "overflow_x": null,
            "overflow_y": null,
            "padding": null,
            "right": null,
            "top": null,
            "visibility": null,
            "width": null
          }
        },
        "bdddfd383cdf414bb97a49e08ac5132d": {
          "model_module": "@jupyter-widgets/controls",
          "model_name": "DescriptionStyleModel",
          "model_module_version": "1.5.0",
          "state": {
            "_model_module": "@jupyter-widgets/controls",
            "_model_module_version": "1.5.0",
            "_model_name": "DescriptionStyleModel",
            "_view_count": null,
            "_view_module": "@jupyter-widgets/base",
            "_view_module_version": "1.2.0",
            "_view_name": "StyleView",
            "description_width": ""
          }
        },
        "e87412d119fe4129882aa0470336c2ce": {
          "model_module": "@jupyter-widgets/controls",
          "model_name": "HBoxModel",
          "model_module_version": "1.5.0",
          "state": {
            "_dom_classes": [],
            "_model_module": "@jupyter-widgets/controls",
            "_model_module_version": "1.5.0",
            "_model_name": "HBoxModel",
            "_view_count": null,
            "_view_module": "@jupyter-widgets/controls",
            "_view_module_version": "1.5.0",
            "_view_name": "HBoxView",
            "box_style": "",
            "children": [
              "IPY_MODEL_e018bedcce1848c38ed218b9c83015b1",
              "IPY_MODEL_ec64b0c9ba9748b1bcb42eaff3c9fb3d",
              "IPY_MODEL_52252c7a39c64df9ac513cade76896be"
            ],
            "layout": "IPY_MODEL_39fac4c18e55469ca2bf62ef70798969"
          }
        },
        "e018bedcce1848c38ed218b9c83015b1": {
          "model_module": "@jupyter-widgets/controls",
          "model_name": "HTMLModel",
          "model_module_version": "1.5.0",
          "state": {
            "_dom_classes": [],
            "_model_module": "@jupyter-widgets/controls",
            "_model_module_version": "1.5.0",
            "_model_name": "HTMLModel",
            "_view_count": null,
            "_view_module": "@jupyter-widgets/controls",
            "_view_module_version": "1.5.0",
            "_view_name": "HTMLView",
            "description": "",
            "description_tooltip": null,
            "layout": "IPY_MODEL_46c06a28fb934dee9fd50485730aa2b8",
            "placeholder": "​",
            "style": "IPY_MODEL_4aaf6219469c49bcba55b8535864415a",
            "value": "Downloading: 100%"
          }
        },
        "ec64b0c9ba9748b1bcb42eaff3c9fb3d": {
          "model_module": "@jupyter-widgets/controls",
          "model_name": "FloatProgressModel",
          "model_module_version": "1.5.0",
          "state": {
            "_dom_classes": [],
            "_model_module": "@jupyter-widgets/controls",
            "_model_module_version": "1.5.0",
            "_model_name": "FloatProgressModel",
            "_view_count": null,
            "_view_module": "@jupyter-widgets/controls",
            "_view_module_version": "1.5.0",
            "_view_name": "ProgressView",
            "bar_style": "success",
            "description": "",
            "description_tooltip": null,
            "layout": "IPY_MODEL_81f18b1d7b074133801475f846b762ec",
            "max": 239,
            "min": 0,
            "orientation": "horizontal",
            "style": "IPY_MODEL_695ef02307744d078e073a53c99d32a0",
            "value": 239
          }
        },
        "52252c7a39c64df9ac513cade76896be": {
          "model_module": "@jupyter-widgets/controls",
          "model_name": "HTMLModel",
          "model_module_version": "1.5.0",
          "state": {
            "_dom_classes": [],
            "_model_module": "@jupyter-widgets/controls",
            "_model_module_version": "1.5.0",
            "_model_name": "HTMLModel",
            "_view_count": null,
            "_view_module": "@jupyter-widgets/controls",
            "_view_module_version": "1.5.0",
            "_view_name": "HTMLView",
            "description": "",
            "description_tooltip": null,
            "layout": "IPY_MODEL_1739569faa94484692654a29edae6227",
            "placeholder": "​",
            "style": "IPY_MODEL_0b5d6bea112648799c13099ff51e17e3",
            "value": " 239/239 [00:00&lt;00:00, 6.21kB/s]"
          }
        },
        "39fac4c18e55469ca2bf62ef70798969": {
          "model_module": "@jupyter-widgets/base",
          "model_name": "LayoutModel",
          "model_module_version": "1.2.0",
          "state": {
            "_model_module": "@jupyter-widgets/base",
            "_model_module_version": "1.2.0",
            "_model_name": "LayoutModel",
            "_view_count": null,
            "_view_module": "@jupyter-widgets/base",
            "_view_module_version": "1.2.0",
            "_view_name": "LayoutView",
            "align_content": null,
            "align_items": null,
            "align_self": null,
            "border": null,
            "bottom": null,
            "display": null,
            "flex": null,
            "flex_flow": null,
            "grid_area": null,
            "grid_auto_columns": null,
            "grid_auto_flow": null,
            "grid_auto_rows": null,
            "grid_column": null,
            "grid_gap": null,
            "grid_row": null,
            "grid_template_areas": null,
            "grid_template_columns": null,
            "grid_template_rows": null,
            "height": null,
            "justify_content": null,
            "justify_items": null,
            "left": null,
            "margin": null,
            "max_height": null,
            "max_width": null,
            "min_height": null,
            "min_width": null,
            "object_fit": null,
            "object_position": null,
            "order": null,
            "overflow": null,
            "overflow_x": null,
            "overflow_y": null,
            "padding": null,
            "right": null,
            "top": null,
            "visibility": null,
            "width": null
          }
        },
        "46c06a28fb934dee9fd50485730aa2b8": {
          "model_module": "@jupyter-widgets/base",
          "model_name": "LayoutModel",
          "model_module_version": "1.2.0",
          "state": {
            "_model_module": "@jupyter-widgets/base",
            "_model_module_version": "1.2.0",
            "_model_name": "LayoutModel",
            "_view_count": null,
            "_view_module": "@jupyter-widgets/base",
            "_view_module_version": "1.2.0",
            "_view_name": "LayoutView",
            "align_content": null,
            "align_items": null,
            "align_self": null,
            "border": null,
            "bottom": null,
            "display": null,
            "flex": null,
            "flex_flow": null,
            "grid_area": null,
            "grid_auto_columns": null,
            "grid_auto_flow": null,
            "grid_auto_rows": null,
            "grid_column": null,
            "grid_gap": null,
            "grid_row": null,
            "grid_template_areas": null,
            "grid_template_columns": null,
            "grid_template_rows": null,
            "height": null,
            "justify_content": null,
            "justify_items": null,
            "left": null,
            "margin": null,
            "max_height": null,
            "max_width": null,
            "min_height": null,
            "min_width": null,
            "object_fit": null,
            "object_position": null,
            "order": null,
            "overflow": null,
            "overflow_x": null,
            "overflow_y": null,
            "padding": null,
            "right": null,
            "top": null,
            "visibility": null,
            "width": null
          }
        },
        "4aaf6219469c49bcba55b8535864415a": {
          "model_module": "@jupyter-widgets/controls",
          "model_name": "DescriptionStyleModel",
          "model_module_version": "1.5.0",
          "state": {
            "_model_module": "@jupyter-widgets/controls",
            "_model_module_version": "1.5.0",
            "_model_name": "DescriptionStyleModel",
            "_view_count": null,
            "_view_module": "@jupyter-widgets/base",
            "_view_module_version": "1.2.0",
            "_view_name": "StyleView",
            "description_width": ""
          }
        },
        "81f18b1d7b074133801475f846b762ec": {
          "model_module": "@jupyter-widgets/base",
          "model_name": "LayoutModel",
          "model_module_version": "1.2.0",
          "state": {
            "_model_module": "@jupyter-widgets/base",
            "_model_module_version": "1.2.0",
            "_model_name": "LayoutModel",
            "_view_count": null,
            "_view_module": "@jupyter-widgets/base",
            "_view_module_version": "1.2.0",
            "_view_name": "LayoutView",
            "align_content": null,
            "align_items": null,
            "align_self": null,
            "border": null,
            "bottom": null,
            "display": null,
            "flex": null,
            "flex_flow": null,
            "grid_area": null,
            "grid_auto_columns": null,
            "grid_auto_flow": null,
            "grid_auto_rows": null,
            "grid_column": null,
            "grid_gap": null,
            "grid_row": null,
            "grid_template_areas": null,
            "grid_template_columns": null,
            "grid_template_rows": null,
            "height": null,
            "justify_content": null,
            "justify_items": null,
            "left": null,
            "margin": null,
            "max_height": null,
            "max_width": null,
            "min_height": null,
            "min_width": null,
            "object_fit": null,
            "object_position": null,
            "order": null,
            "overflow": null,
            "overflow_x": null,
            "overflow_y": null,
            "padding": null,
            "right": null,
            "top": null,
            "visibility": null,
            "width": null
          }
        },
        "695ef02307744d078e073a53c99d32a0": {
          "model_module": "@jupyter-widgets/controls",
          "model_name": "ProgressStyleModel",
          "model_module_version": "1.5.0",
          "state": {
            "_model_module": "@jupyter-widgets/controls",
            "_model_module_version": "1.5.0",
            "_model_name": "ProgressStyleModel",
            "_view_count": null,
            "_view_module": "@jupyter-widgets/base",
            "_view_module_version": "1.2.0",
            "_view_name": "StyleView",
            "bar_color": null,
            "description_width": ""
          }
        },
        "1739569faa94484692654a29edae6227": {
          "model_module": "@jupyter-widgets/base",
          "model_name": "LayoutModel",
          "model_module_version": "1.2.0",
          "state": {
            "_model_module": "@jupyter-widgets/base",
            "_model_module_version": "1.2.0",
            "_model_name": "LayoutModel",
            "_view_count": null,
            "_view_module": "@jupyter-widgets/base",
            "_view_module_version": "1.2.0",
            "_view_name": "LayoutView",
            "align_content": null,
            "align_items": null,
            "align_self": null,
            "border": null,
            "bottom": null,
            "display": null,
            "flex": null,
            "flex_flow": null,
            "grid_area": null,
            "grid_auto_columns": null,
            "grid_auto_flow": null,
            "grid_auto_rows": null,
            "grid_column": null,
            "grid_gap": null,
            "grid_row": null,
            "grid_template_areas": null,
            "grid_template_columns": null,
            "grid_template_rows": null,
            "height": null,
            "justify_content": null,
            "justify_items": null,
            "left": null,
            "margin": null,
            "max_height": null,
            "max_width": null,
            "min_height": null,
            "min_width": null,
            "object_fit": null,
            "object_position": null,
            "order": null,
            "overflow": null,
            "overflow_x": null,
            "overflow_y": null,
            "padding": null,
            "right": null,
            "top": null,
            "visibility": null,
            "width": null
          }
        },
        "0b5d6bea112648799c13099ff51e17e3": {
          "model_module": "@jupyter-widgets/controls",
          "model_name": "DescriptionStyleModel",
          "model_module_version": "1.5.0",
          "state": {
            "_model_module": "@jupyter-widgets/controls",
            "_model_module_version": "1.5.0",
            "_model_name": "DescriptionStyleModel",
            "_view_count": null,
            "_view_module": "@jupyter-widgets/base",
            "_view_module_version": "1.2.0",
            "_view_name": "StyleView",
            "description_width": ""
          }
        },
        "07e607f76ac54759adc69f4a3ac171b6": {
          "model_module": "@jupyter-widgets/controls",
          "model_name": "HBoxModel",
          "model_module_version": "1.5.0",
          "state": {
            "_dom_classes": [],
            "_model_module": "@jupyter-widgets/controls",
            "_model_module_version": "1.5.0",
            "_model_name": "HBoxModel",
            "_view_count": null,
            "_view_module": "@jupyter-widgets/controls",
            "_view_module_version": "1.5.0",
            "_view_name": "HBoxView",
            "box_style": "",
            "children": [
              "IPY_MODEL_80cd8df0f365478bb0f7c5a6bbcb91a8",
              "IPY_MODEL_1d11a1516b214cd18e0702efaefab390",
              "IPY_MODEL_effa5964a36b491a87266fceaa6f1ccb"
            ],
            "layout": "IPY_MODEL_53f6d941c98241cab6e85f6fdb75a6bd"
          }
        },
        "80cd8df0f365478bb0f7c5a6bbcb91a8": {
          "model_module": "@jupyter-widgets/controls",
          "model_name": "HTMLModel",
          "model_module_version": "1.5.0",
          "state": {
            "_dom_classes": [],
            "_model_module": "@jupyter-widgets/controls",
            "_model_module_version": "1.5.0",
            "_model_name": "HTMLModel",
            "_view_count": null,
            "_view_module": "@jupyter-widgets/controls",
            "_view_module_version": "1.5.0",
            "_view_name": "HTMLView",
            "description": "",
            "description_tooltip": null,
            "layout": "IPY_MODEL_df24d546037f4b62bf1c4448ee77ba06",
            "placeholder": "​",
            "style": "IPY_MODEL_0642f59707a54f94bce3b105bbba6ba2",
            "value": "Downloading: 100%"
          }
        },
        "1d11a1516b214cd18e0702efaefab390": {
          "model_module": "@jupyter-widgets/controls",
          "model_name": "FloatProgressModel",
          "model_module_version": "1.5.0",
          "state": {
            "_dom_classes": [],
            "_model_module": "@jupyter-widgets/controls",
            "_model_module_version": "1.5.0",
            "_model_name": "FloatProgressModel",
            "_view_count": null,
            "_view_module": "@jupyter-widgets/controls",
            "_view_module_version": "1.5.0",
            "_view_name": "ProgressView",
            "bar_style": "success",
            "description": "",
            "description_tooltip": null,
            "layout": "IPY_MODEL_9be9900923944008895b05725063b64d",
            "max": 328544361,
            "min": 0,
            "orientation": "horizontal",
            "style": "IPY_MODEL_420bd119033641f4954872644940c979",
            "value": 328544361
          }
        },
        "effa5964a36b491a87266fceaa6f1ccb": {
          "model_module": "@jupyter-widgets/controls",
          "model_name": "HTMLModel",
          "model_module_version": "1.5.0",
          "state": {
            "_dom_classes": [],
            "_model_module": "@jupyter-widgets/controls",
            "_model_module_version": "1.5.0",
            "_model_name": "HTMLModel",
            "_view_count": null,
            "_view_module": "@jupyter-widgets/controls",
            "_view_module_version": "1.5.0",
            "_view_name": "HTMLView",
            "description": "",
            "description_tooltip": null,
            "layout": "IPY_MODEL_cec07615481f4a328a0b851cb2cf2a03",
            "placeholder": "​",
            "style": "IPY_MODEL_ccf3e95b81ce4e75bd0b4adb3590ac4f",
            "value": " 313M/313M [00:05&lt;00:00, 60.9MB/s]"
          }
        },
        "53f6d941c98241cab6e85f6fdb75a6bd": {
          "model_module": "@jupyter-widgets/base",
          "model_name": "LayoutModel",
          "model_module_version": "1.2.0",
          "state": {
            "_model_module": "@jupyter-widgets/base",
            "_model_module_version": "1.2.0",
            "_model_name": "LayoutModel",
            "_view_count": null,
            "_view_module": "@jupyter-widgets/base",
            "_view_module_version": "1.2.0",
            "_view_name": "LayoutView",
            "align_content": null,
            "align_items": null,
            "align_self": null,
            "border": null,
            "bottom": null,
            "display": null,
            "flex": null,
            "flex_flow": null,
            "grid_area": null,
            "grid_auto_columns": null,
            "grid_auto_flow": null,
            "grid_auto_rows": null,
            "grid_column": null,
            "grid_gap": null,
            "grid_row": null,
            "grid_template_areas": null,
            "grid_template_columns": null,
            "grid_template_rows": null,
            "height": null,
            "justify_content": null,
            "justify_items": null,
            "left": null,
            "margin": null,
            "max_height": null,
            "max_width": null,
            "min_height": null,
            "min_width": null,
            "object_fit": null,
            "object_position": null,
            "order": null,
            "overflow": null,
            "overflow_x": null,
            "overflow_y": null,
            "padding": null,
            "right": null,
            "top": null,
            "visibility": null,
            "width": null
          }
        },
        "df24d546037f4b62bf1c4448ee77ba06": {
          "model_module": "@jupyter-widgets/base",
          "model_name": "LayoutModel",
          "model_module_version": "1.2.0",
          "state": {
            "_model_module": "@jupyter-widgets/base",
            "_model_module_version": "1.2.0",
            "_model_name": "LayoutModel",
            "_view_count": null,
            "_view_module": "@jupyter-widgets/base",
            "_view_module_version": "1.2.0",
            "_view_name": "LayoutView",
            "align_content": null,
            "align_items": null,
            "align_self": null,
            "border": null,
            "bottom": null,
            "display": null,
            "flex": null,
            "flex_flow": null,
            "grid_area": null,
            "grid_auto_columns": null,
            "grid_auto_flow": null,
            "grid_auto_rows": null,
            "grid_column": null,
            "grid_gap": null,
            "grid_row": null,
            "grid_template_areas": null,
            "grid_template_columns": null,
            "grid_template_rows": null,
            "height": null,
            "justify_content": null,
            "justify_items": null,
            "left": null,
            "margin": null,
            "max_height": null,
            "max_width": null,
            "min_height": null,
            "min_width": null,
            "object_fit": null,
            "object_position": null,
            "order": null,
            "overflow": null,
            "overflow_x": null,
            "overflow_y": null,
            "padding": null,
            "right": null,
            "top": null,
            "visibility": null,
            "width": null
          }
        },
        "0642f59707a54f94bce3b105bbba6ba2": {
          "model_module": "@jupyter-widgets/controls",
          "model_name": "DescriptionStyleModel",
          "model_module_version": "1.5.0",
          "state": {
            "_model_module": "@jupyter-widgets/controls",
            "_model_module_version": "1.5.0",
            "_model_name": "DescriptionStyleModel",
            "_view_count": null,
            "_view_module": "@jupyter-widgets/base",
            "_view_module_version": "1.2.0",
            "_view_name": "StyleView",
            "description_width": ""
          }
        },
        "9be9900923944008895b05725063b64d": {
          "model_module": "@jupyter-widgets/base",
          "model_name": "LayoutModel",
          "model_module_version": "1.2.0",
          "state": {
            "_model_module": "@jupyter-widgets/base",
            "_model_module_version": "1.2.0",
            "_model_name": "LayoutModel",
            "_view_count": null,
            "_view_module": "@jupyter-widgets/base",
            "_view_module_version": "1.2.0",
            "_view_name": "LayoutView",
            "align_content": null,
            "align_items": null,
            "align_self": null,
            "border": null,
            "bottom": null,
            "display": null,
            "flex": null,
            "flex_flow": null,
            "grid_area": null,
            "grid_auto_columns": null,
            "grid_auto_flow": null,
            "grid_auto_rows": null,
            "grid_column": null,
            "grid_gap": null,
            "grid_row": null,
            "grid_template_areas": null,
            "grid_template_columns": null,
            "grid_template_rows": null,
            "height": null,
            "justify_content": null,
            "justify_items": null,
            "left": null,
            "margin": null,
            "max_height": null,
            "max_width": null,
            "min_height": null,
            "min_width": null,
            "object_fit": null,
            "object_position": null,
            "order": null,
            "overflow": null,
            "overflow_x": null,
            "overflow_y": null,
            "padding": null,
            "right": null,
            "top": null,
            "visibility": null,
            "width": null
          }
        },
        "420bd119033641f4954872644940c979": {
          "model_module": "@jupyter-widgets/controls",
          "model_name": "ProgressStyleModel",
          "model_module_version": "1.5.0",
          "state": {
            "_model_module": "@jupyter-widgets/controls",
            "_model_module_version": "1.5.0",
            "_model_name": "ProgressStyleModel",
            "_view_count": null,
            "_view_module": "@jupyter-widgets/base",
            "_view_module_version": "1.2.0",
            "_view_name": "StyleView",
            "bar_color": null,
            "description_width": ""
          }
        },
        "cec07615481f4a328a0b851cb2cf2a03": {
          "model_module": "@jupyter-widgets/base",
          "model_name": "LayoutModel",
          "model_module_version": "1.2.0",
          "state": {
            "_model_module": "@jupyter-widgets/base",
            "_model_module_version": "1.2.0",
            "_model_name": "LayoutModel",
            "_view_count": null,
            "_view_module": "@jupyter-widgets/base",
            "_view_module_version": "1.2.0",
            "_view_name": "LayoutView",
            "align_content": null,
            "align_items": null,
            "align_self": null,
            "border": null,
            "bottom": null,
            "display": null,
            "flex": null,
            "flex_flow": null,
            "grid_area": null,
            "grid_auto_columns": null,
            "grid_auto_flow": null,
            "grid_auto_rows": null,
            "grid_column": null,
            "grid_gap": null,
            "grid_row": null,
            "grid_template_areas": null,
            "grid_template_columns": null,
            "grid_template_rows": null,
            "height": null,
            "justify_content": null,
            "justify_items": null,
            "left": null,
            "margin": null,
            "max_height": null,
            "max_width": null,
            "min_height": null,
            "min_width": null,
            "object_fit": null,
            "object_position": null,
            "order": null,
            "overflow": null,
            "overflow_x": null,
            "overflow_y": null,
            "padding": null,
            "right": null,
            "top": null,
            "visibility": null,
            "width": null
          }
        },
        "ccf3e95b81ce4e75bd0b4adb3590ac4f": {
          "model_module": "@jupyter-widgets/controls",
          "model_name": "DescriptionStyleModel",
          "model_module_version": "1.5.0",
          "state": {
            "_model_module": "@jupyter-widgets/controls",
            "_model_module_version": "1.5.0",
            "_model_name": "DescriptionStyleModel",
            "_view_count": null,
            "_view_module": "@jupyter-widgets/base",
            "_view_module_version": "1.2.0",
            "_view_name": "StyleView",
            "description_width": ""
          }
        }
      }
    }
  },
  "cells": [
    {
      "cell_type": "code",
      "source": [
        "import pandas as pd\n",
        "# Make HTTP requests\n",
        "import requests\n",
        "# Scrape data from an HTML document\n",
        "from bs4 import BeautifulSoup\n",
        "# Search and manipulate strings\n",
        "import re\n",
        "import os\n",
        "import string\n",
        "from concurrent.futures import ThreadPoolExecutor"
      ],
      "metadata": {
        "id": "on96nYaYoPlQ"
      },
      "execution_count": null,
      "outputs": []
    },
    {
      "cell_type": "code",
      "source": [
        "string.punctuation"
      ],
      "metadata": {
        "colab": {
          "base_uri": "https://localhost:8080/",
          "height": 35
        },
        "id": "m-Jw5WD_jre_",
        "outputId": "1491ea73-e933-419d-f8cf-2deb74788cfa"
      },
      "execution_count": null,
      "outputs": [
        {
          "output_type": "execute_result",
          "data": {
            "text/plain": [
              "'!\"#$%&\\'()*+,-./:;<=>?@[\\\\]^_`{|}~—'"
            ],
            "application/vnd.google.colaboratory.intrinsic+json": {
              "type": "string"
            }
          },
          "metadata": {},
          "execution_count": 3
        }
      ]
    },
    {
      "cell_type": "code",
      "source": [
        "import tensorflow as tf\n",
        "tf.config.list_physical_devices('GPU')"
      ],
      "metadata": {
        "colab": {
          "base_uri": "https://localhost:8080/"
        },
        "id": "V6F_00UJywqZ",
        "outputId": "15c6bcfa-b5eb-4f27-f0f5-553f78a327b7"
      },
      "execution_count": null,
      "outputs": [
        {
          "output_type": "execute_result",
          "data": {
            "text/plain": [
              "[PhysicalDevice(name='/physical_device:GPU:0', device_type='GPU')]"
            ]
          },
          "metadata": {},
          "execution_count": 4
        }
      ]
    },
    {
      "cell_type": "code",
      "source": [
        "token = 'GvXtrR6HESUC2WzPBO3xEwwQ5Yym77WaTD7qmMq0iX_seYxWIOnBCZ07lVzJdqo0'"
      ],
      "metadata": {
        "id": "6NN0xa-WcuQ7"
      },
      "execution_count": null,
      "outputs": []
    },
    {
      "cell_type": "code",
      "source": [
        "from google.colab import data_table\n",
        "data_table.disable_dataframe_formatter()"
      ],
      "metadata": {
        "id": "UOGpjI2Pepo1"
      },
      "execution_count": null,
      "outputs": []
    },
    {
      "cell_type": "code",
      "source": [
        "with open('artists.txt', 'r') as f:\n",
        "  artists = f.read()\n",
        "  artists = artists.split('\\n')\n",
        "\n",
        "with open('./englishST.txt', \"r\") as f:\n",
        "  sw = [word.strip('\\n') for word in f]\n",
        "  sw = [word.translate(str.maketrans('', '', string.punctuation)) for word in sw]"
      ],
      "metadata": {
        "id": "LFf8apYZjaDM"
      },
      "execution_count": null,
      "outputs": []
    },
    {
      "cell_type": "code",
      "source": [
        "# Get artist object from Genius API\n",
        "def request_artist_info(artist_name, page):\n",
        "  base_url = 'https://api.genius.com'\n",
        "  headers = {'Authorization': 'Bearer ' + token}\n",
        "  search_url = base_url + '/search?per_page=10&page=' + str(page)\n",
        "  data = {'q': artist_name}\n",
        "  response = requests.get(search_url, data=data, headers=headers)\n",
        "  return response\n",
        "\n",
        "\n",
        "# Get Genius.com song url's from artist object\n",
        "def request_song_url(artist_name, song_cap):\n",
        "  page = 1\n",
        "  songs = []\n",
        "  \n",
        "  while True:\n",
        "    response = request_artist_info(artist_name, page)\n",
        "    json = response.json()\n",
        "    # Collect up to song_cap song objects from artist\n",
        "    song_info = []\n",
        "    nw_terms = ['(Remix)', '(Clean)', '(Extended Mix)', '(remix)', '(Extended Version)', '(Insert)', '(REMIX)']\n",
        "    for hit in json['response']['hits']:\n",
        "      if artist_name.lower() == hit['result']['primary_artist']['name'].lower():\n",
        "        if not any(term in hit['result']['full_title'] for term in nw_terms):\n",
        "          song_info.append(hit)\n",
        "  \n",
        "    # Collect song URL's from song objects\n",
        "    for song in song_info:\n",
        "      if (len(songs) < song_cap):\n",
        "        url = song['result']['url']\n",
        "        songs.append(url)\n",
        "          \n",
        "    if (len(songs) == song_cap):\n",
        "      break\n",
        "    else:\n",
        "      page += 1\n",
        "      \n",
        "  print('Found {} songs by {}'.format(len(songs), artist_name))\n",
        "  return songs"
      ],
      "metadata": {
        "id": "WweBvBUbwlqT"
      },
      "execution_count": null,
      "outputs": []
    },
    {
      "cell_type": "code",
      "source": [
        "# Scrape lyrics from a Genius.com song URL\n",
        "def scrape_song_lyrics(url):\n",
        "    \n",
        "    page = requests.get(url)\n",
        "    html = BeautifulSoup(page.text.replace('<br/>', '\\n'), 'html.parser')\n",
        "    name = html.findAll('h1')[0].text\n",
        "    index = 'Not Found'\n",
        "    try:\n",
        "      date = html.findAll(\"div\", class_=re.compile(\"HeaderMetadata__Section\"))\n",
        "      for i in range(len(date)):\n",
        "        if 'Release Date' in str(date[i]):\n",
        "          index = i\n",
        "          break\n",
        "      date = date[index].text\n",
        "      date = re.sub(r'Release Date', '', date)\n",
        "    except:\n",
        "      date = index\n",
        "\n",
        "    try:\n",
        "      div = html.find(\"div\", class_=re.compile(\"^lyrics$|Lyrics__Root|Lyrics__Container\"))\n",
        "      lyrics = div.get_text()\n",
        "    except:\n",
        "      lyrics = ''\n",
        "      return name, date, lyrics\n",
        "\n",
        "    return name, date, lyrics\n",
        "# DEMO\n",
        "# scrape_song_lyrics(songs[9])"
      ],
      "metadata": {
        "id": "HZZgqM4Mwmx5"
      },
      "execution_count": null,
      "outputs": []
    },
    {
      "cell_type": "code",
      "source": [
        "def clean_lyrics(lyrics, sw=sw):\n",
        "  #remove identifiers like chorus, verse, etc\n",
        "  lyrics = re.sub(r'[\\(\\[].*?[\\)\\]]', '', lyrics)\n",
        "\n",
        "  # Gaps between verses\n",
        "  lyrics = re.sub('\\n{2}', ' ', lyrics)\n",
        "\n",
        "  # Remove the embed tag\n",
        "  lyrics = re.sub(r\"((\\d*)(.*)(\\d+)(\\S*))*(e|E)mbed\", '', lyrics)\n",
        "  \n",
        "  # Remove the \\u200b tag\n",
        "  lyrics = re.sub(r\"\\u200b\", \"\", lyrics)\n",
        "\n",
        "  # Spliting the lyrics by break lines\n",
        "  lyrics = lyrics.split(\"\\n\")\n",
        "\n",
        "  # Removing the first line (name of the song)\n",
        "  lyrics = lyrics[1:]\n",
        "  lyrics = ' '.join(lyrics)\n",
        "\n",
        "  # Removing extra spaces\n",
        "  lyrics = [word.strip().lower() for word in lyrics.split(\" \") if word != '']\n",
        "\n",
        "  # Removing punctuation\n",
        "  lyrics = [word.translate(str.maketrans('', '', string.punctuation)) for word in lyrics]\n",
        "\n",
        "  lyrics = ' '.join(lyrics)\n",
        "\n",
        "  return lyrics"
      ],
      "metadata": {
        "id": "Gtq9zRaTDW1q"
      },
      "execution_count": null,
      "outputs": []
    },
    {
      "cell_type": "code",
      "source": [
        "string.punctuation"
      ],
      "metadata": {
        "colab": {
          "base_uri": "https://localhost:8080/",
          "height": 35
        },
        "id": "0yr4Lw_d4Zgg",
        "outputId": "e83f0111-a55f-4f5f-b773-ef3e85d4becf"
      },
      "execution_count": null,
      "outputs": [
        {
          "output_type": "execute_result",
          "data": {
            "text/plain": [
              "'!\"#$%&\\'()*+,-./:;<=>?@[\\\\]^_`{|}~—'"
            ],
            "application/vnd.google.colaboratory.intrinsic+json": {
              "type": "string"
            }
          },
          "metadata": {},
          "execution_count": 14
        }
      ]
    },
    {
      "cell_type": "markdown",
      "source": [
        "### Exemplo de execução + resultado"
      ],
      "metadata": {
        "id": "Fq9eJ0yK21au"
      }
    },
    {
      "cell_type": "code",
      "source": [
        "name, date, lyrics = scrape_song_lyrics('https://genius.com/Public-enemy-fight-the-power-lyrics')"
      ],
      "metadata": {
        "id": "TwCDNhvruoXr"
      },
      "execution_count": null,
      "outputs": []
    },
    {
      "cell_type": "code",
      "source": [
        "song = {\"Artist\": [\"Public Enemy\"], \"Song\": [name], \"Date\": [date], \"Lyrics\": [clean_lyrics(lyrics)]}"
      ],
      "metadata": {
        "id": "y44jakYZlC2v"
      },
      "execution_count": null,
      "outputs": []
    },
    {
      "cell_type": "code",
      "source": [
        "df = pd.DataFrame()\n",
        "song = pd.DataFrame(song)\n",
        "df = pd.concat([df, song], ignore_index=False)"
      ],
      "metadata": {
        "id": "0vDQ3G-SlIQ5"
      },
      "execution_count": null,
      "outputs": []
    },
    {
      "cell_type": "code",
      "source": [
        "df"
      ],
      "metadata": {
        "colab": {
          "base_uri": "https://localhost:8080/",
          "height": 81
        },
        "id": "UfO4plDfoHmN",
        "outputId": "8041b183-c15e-4365-f186-c55620823ec7"
      },
      "execution_count": null,
      "outputs": [
        {
          "output_type": "execute_result",
          "data": {
            "text/plain": [
              "         Artist             Song          Date  \\\n",
              "0  Public Enemy  Fight the Power  June 1, 1989   \n",
              "\n",
              "                                              Lyrics  \n",
              "0  yet our best trained best educated best equipp...  "
            ],
            "text/html": [
              "\n",
              "  <div id=\"df-1aea05a6-1cd7-4a5a-9905-3b9e321ae362\">\n",
              "    <div class=\"colab-df-container\">\n",
              "      <div>\n",
              "<style scoped>\n",
              "    .dataframe tbody tr th:only-of-type {\n",
              "        vertical-align: middle;\n",
              "    }\n",
              "\n",
              "    .dataframe tbody tr th {\n",
              "        vertical-align: top;\n",
              "    }\n",
              "\n",
              "    .dataframe thead th {\n",
              "        text-align: right;\n",
              "    }\n",
              "</style>\n",
              "<table border=\"1\" class=\"dataframe\">\n",
              "  <thead>\n",
              "    <tr style=\"text-align: right;\">\n",
              "      <th></th>\n",
              "      <th>Artist</th>\n",
              "      <th>Song</th>\n",
              "      <th>Date</th>\n",
              "      <th>Lyrics</th>\n",
              "    </tr>\n",
              "  </thead>\n",
              "  <tbody>\n",
              "    <tr>\n",
              "      <th>0</th>\n",
              "      <td>Public Enemy</td>\n",
              "      <td>Fight the Power</td>\n",
              "      <td>June 1, 1989</td>\n",
              "      <td>yet our best trained best educated best equipp...</td>\n",
              "    </tr>\n",
              "  </tbody>\n",
              "</table>\n",
              "</div>\n",
              "      <button class=\"colab-df-convert\" onclick=\"convertToInteractive('df-1aea05a6-1cd7-4a5a-9905-3b9e321ae362')\"\n",
              "              title=\"Convert this dataframe to an interactive table.\"\n",
              "              style=\"display:none;\">\n",
              "        \n",
              "  <svg xmlns=\"http://www.w3.org/2000/svg\" height=\"24px\"viewBox=\"0 0 24 24\"\n",
              "       width=\"24px\">\n",
              "    <path d=\"M0 0h24v24H0V0z\" fill=\"none\"/>\n",
              "    <path d=\"M18.56 5.44l.94 2.06.94-2.06 2.06-.94-2.06-.94-.94-2.06-.94 2.06-2.06.94zm-11 1L8.5 8.5l.94-2.06 2.06-.94-2.06-.94L8.5 2.5l-.94 2.06-2.06.94zm10 10l.94 2.06.94-2.06 2.06-.94-2.06-.94-.94-2.06-.94 2.06-2.06.94z\"/><path d=\"M17.41 7.96l-1.37-1.37c-.4-.4-.92-.59-1.43-.59-.52 0-1.04.2-1.43.59L10.3 9.45l-7.72 7.72c-.78.78-.78 2.05 0 2.83L4 21.41c.39.39.9.59 1.41.59.51 0 1.02-.2 1.41-.59l7.78-7.78 2.81-2.81c.8-.78.8-2.07 0-2.86zM5.41 20L4 18.59l7.72-7.72 1.47 1.35L5.41 20z\"/>\n",
              "  </svg>\n",
              "      </button>\n",
              "      \n",
              "  <style>\n",
              "    .colab-df-container {\n",
              "      display:flex;\n",
              "      flex-wrap:wrap;\n",
              "      gap: 12px;\n",
              "    }\n",
              "\n",
              "    .colab-df-convert {\n",
              "      background-color: #E8F0FE;\n",
              "      border: none;\n",
              "      border-radius: 50%;\n",
              "      cursor: pointer;\n",
              "      display: none;\n",
              "      fill: #1967D2;\n",
              "      height: 32px;\n",
              "      padding: 0 0 0 0;\n",
              "      width: 32px;\n",
              "    }\n",
              "\n",
              "    .colab-df-convert:hover {\n",
              "      background-color: #E2EBFA;\n",
              "      box-shadow: 0px 1px 2px rgba(60, 64, 67, 0.3), 0px 1px 3px 1px rgba(60, 64, 67, 0.15);\n",
              "      fill: #174EA6;\n",
              "    }\n",
              "\n",
              "    [theme=dark] .colab-df-convert {\n",
              "      background-color: #3B4455;\n",
              "      fill: #D2E3FC;\n",
              "    }\n",
              "\n",
              "    [theme=dark] .colab-df-convert:hover {\n",
              "      background-color: #434B5C;\n",
              "      box-shadow: 0px 1px 3px 1px rgba(0, 0, 0, 0.15);\n",
              "      filter: drop-shadow(0px 1px 2px rgba(0, 0, 0, 0.3));\n",
              "      fill: #FFFFFF;\n",
              "    }\n",
              "  </style>\n",
              "\n",
              "      <script>\n",
              "        const buttonEl =\n",
              "          document.querySelector('#df-1aea05a6-1cd7-4a5a-9905-3b9e321ae362 button.colab-df-convert');\n",
              "        buttonEl.style.display =\n",
              "          google.colab.kernel.accessAllowed ? 'block' : 'none';\n",
              "\n",
              "        async function convertToInteractive(key) {\n",
              "          const element = document.querySelector('#df-1aea05a6-1cd7-4a5a-9905-3b9e321ae362');\n",
              "          const dataTable =\n",
              "            await google.colab.kernel.invokeFunction('convertToInteractive',\n",
              "                                                     [key], {});\n",
              "          if (!dataTable) return;\n",
              "\n",
              "          const docLinkHtml = 'Like what you see? Visit the ' +\n",
              "            '<a target=\"_blank\" href=https://colab.research.google.com/notebooks/data_table.ipynb>data table notebook</a>'\n",
              "            + ' to learn more about interactive tables.';\n",
              "          element.innerHTML = '';\n",
              "          dataTable['output_type'] = 'display_data';\n",
              "          await google.colab.output.renderOutput(dataTable, element);\n",
              "          const docLink = document.createElement('div');\n",
              "          docLink.innerHTML = docLinkHtml;\n",
              "          element.appendChild(docLink);\n",
              "        }\n",
              "      </script>\n",
              "    </div>\n",
              "  </div>\n",
              "  "
            ]
          },
          "metadata": {},
          "execution_count": 10
        }
      ]
    },
    {
      "cell_type": "markdown",
      "source": [
        "### Criando DF's para todos os artistas"
      ],
      "metadata": {
        "id": "mMN5atvx3BGR"
      }
    },
    {
      "cell_type": "code",
      "source": [
        "def create_lyrics_df(artists_names, page):\n",
        "  df = pd.DataFrame()\n",
        "  for artist in artists_names:\n",
        "    songs = request_song_url(artist, page)\n",
        "    with ThreadPoolExecutor() as pool:\n",
        "      response_list = list(pool.map(scrape_song_lyrics, songs))\n",
        "    for song in response_list:\n",
        "      name, date, lyrics = song\n",
        "      lyrics = clean_lyrics(lyrics)\n",
        "      song = {\"Artist\": [artist], \"Song\": [name], \"Date\": [date], \"Lyrics\": [lyrics]}\n",
        "      song = pd.DataFrame(song)\n",
        "      df = pd.concat([df, song], ignore_index=True)\n",
        "  return df"
      ],
      "metadata": {
        "id": "i1RUCTr3W_q3"
      },
      "execution_count": null,
      "outputs": []
    },
    {
      "cell_type": "code",
      "source": [
        "df = create_lyrics_df(artists, 50)"
      ],
      "metadata": {
        "id": "yuIyK0EfBeK9"
      },
      "execution_count": null,
      "outputs": []
    },
    {
      "cell_type": "code",
      "source": [
        "df.to_csv('data.csv', index=False)"
      ],
      "metadata": {
        "id": "Wc4C8QUHoAPS"
      },
      "execution_count": null,
      "outputs": []
    },
    {
      "cell_type": "code",
      "source": [
        "df = pd.read_csv('data.csv')\n",
        "#df = pd.read_csv('data_clean.csv')"
      ],
      "metadata": {
        "id": "hEAFrksWFmTa"
      },
      "execution_count": null,
      "outputs": []
    },
    {
      "cell_type": "code",
      "source": [
        "df.head()"
      ],
      "metadata": {
        "colab": {
          "base_uri": "https://localhost:8080/",
          "height": 206
        },
        "id": "Dh49hz-X1ccx",
        "outputId": "1f23f841-fa79-483b-a27a-799fabe26fb1"
      },
      "execution_count": null,
      "outputs": [
        {
          "output_type": "execute_result",
          "data": {
            "text/plain": [
              "         Artist                       Song              Date  \\\n",
              "0  Public Enemy            Fight the Power      June 1, 1989   \n",
              "1  Public Enemy            Bring the Noise  November 1, 1987   \n",
              "2  Public Enemy     Don’t Believe the Hype      June 1, 1988   \n",
              "3  Public Enemy      Harder Than You Think   August 13, 2007   \n",
              "4  Public Enemy  Welcome to the Terrordome   January 1, 1990   \n",
              "\n",
              "                                              Lyrics  \n",
              "0  yet our best trained best educated best equipp...  \n",
              "1  too black too strong yo chuck these honey drip...  \n",
              "2  dont— dont— dont— dont— dont— dont— dont— back...  \n",
              "3  yo chuck bust a move man i was on my way up he...  \n",
              "4  hey this— this is a journey— —jour— —journey t...  "
            ],
            "text/html": [
              "\n",
              "  <div id=\"df-a38bbed3-e542-4a27-b668-2235968d7afa\">\n",
              "    <div class=\"colab-df-container\">\n",
              "      <div>\n",
              "<style scoped>\n",
              "    .dataframe tbody tr th:only-of-type {\n",
              "        vertical-align: middle;\n",
              "    }\n",
              "\n",
              "    .dataframe tbody tr th {\n",
              "        vertical-align: top;\n",
              "    }\n",
              "\n",
              "    .dataframe thead th {\n",
              "        text-align: right;\n",
              "    }\n",
              "</style>\n",
              "<table border=\"1\" class=\"dataframe\">\n",
              "  <thead>\n",
              "    <tr style=\"text-align: right;\">\n",
              "      <th></th>\n",
              "      <th>Artist</th>\n",
              "      <th>Song</th>\n",
              "      <th>Date</th>\n",
              "      <th>Lyrics</th>\n",
              "    </tr>\n",
              "  </thead>\n",
              "  <tbody>\n",
              "    <tr>\n",
              "      <th>0</th>\n",
              "      <td>Public Enemy</td>\n",
              "      <td>Fight the Power</td>\n",
              "      <td>June 1, 1989</td>\n",
              "      <td>yet our best trained best educated best equipp...</td>\n",
              "    </tr>\n",
              "    <tr>\n",
              "      <th>1</th>\n",
              "      <td>Public Enemy</td>\n",
              "      <td>Bring the Noise</td>\n",
              "      <td>November 1, 1987</td>\n",
              "      <td>too black too strong yo chuck these honey drip...</td>\n",
              "    </tr>\n",
              "    <tr>\n",
              "      <th>2</th>\n",
              "      <td>Public Enemy</td>\n",
              "      <td>Don’t Believe the Hype</td>\n",
              "      <td>June 1, 1988</td>\n",
              "      <td>dont— dont— dont— dont— dont— dont— dont— back...</td>\n",
              "    </tr>\n",
              "    <tr>\n",
              "      <th>3</th>\n",
              "      <td>Public Enemy</td>\n",
              "      <td>Harder Than You Think</td>\n",
              "      <td>August 13, 2007</td>\n",
              "      <td>yo chuck bust a move man i was on my way up he...</td>\n",
              "    </tr>\n",
              "    <tr>\n",
              "      <th>4</th>\n",
              "      <td>Public Enemy</td>\n",
              "      <td>Welcome to the Terrordome</td>\n",
              "      <td>January 1, 1990</td>\n",
              "      <td>hey this— this is a journey— —jour— —journey t...</td>\n",
              "    </tr>\n",
              "  </tbody>\n",
              "</table>\n",
              "</div>\n",
              "      <button class=\"colab-df-convert\" onclick=\"convertToInteractive('df-a38bbed3-e542-4a27-b668-2235968d7afa')\"\n",
              "              title=\"Convert this dataframe to an interactive table.\"\n",
              "              style=\"display:none;\">\n",
              "        \n",
              "  <svg xmlns=\"http://www.w3.org/2000/svg\" height=\"24px\"viewBox=\"0 0 24 24\"\n",
              "       width=\"24px\">\n",
              "    <path d=\"M0 0h24v24H0V0z\" fill=\"none\"/>\n",
              "    <path d=\"M18.56 5.44l.94 2.06.94-2.06 2.06-.94-2.06-.94-.94-2.06-.94 2.06-2.06.94zm-11 1L8.5 8.5l.94-2.06 2.06-.94-2.06-.94L8.5 2.5l-.94 2.06-2.06.94zm10 10l.94 2.06.94-2.06 2.06-.94-2.06-.94-.94-2.06-.94 2.06-2.06.94z\"/><path d=\"M17.41 7.96l-1.37-1.37c-.4-.4-.92-.59-1.43-.59-.52 0-1.04.2-1.43.59L10.3 9.45l-7.72 7.72c-.78.78-.78 2.05 0 2.83L4 21.41c.39.39.9.59 1.41.59.51 0 1.02-.2 1.41-.59l7.78-7.78 2.81-2.81c.8-.78.8-2.07 0-2.86zM5.41 20L4 18.59l7.72-7.72 1.47 1.35L5.41 20z\"/>\n",
              "  </svg>\n",
              "      </button>\n",
              "      \n",
              "  <style>\n",
              "    .colab-df-container {\n",
              "      display:flex;\n",
              "      flex-wrap:wrap;\n",
              "      gap: 12px;\n",
              "    }\n",
              "\n",
              "    .colab-df-convert {\n",
              "      background-color: #E8F0FE;\n",
              "      border: none;\n",
              "      border-radius: 50%;\n",
              "      cursor: pointer;\n",
              "      display: none;\n",
              "      fill: #1967D2;\n",
              "      height: 32px;\n",
              "      padding: 0 0 0 0;\n",
              "      width: 32px;\n",
              "    }\n",
              "\n",
              "    .colab-df-convert:hover {\n",
              "      background-color: #E2EBFA;\n",
              "      box-shadow: 0px 1px 2px rgba(60, 64, 67, 0.3), 0px 1px 3px 1px rgba(60, 64, 67, 0.15);\n",
              "      fill: #174EA6;\n",
              "    }\n",
              "\n",
              "    [theme=dark] .colab-df-convert {\n",
              "      background-color: #3B4455;\n",
              "      fill: #D2E3FC;\n",
              "    }\n",
              "\n",
              "    [theme=dark] .colab-df-convert:hover {\n",
              "      background-color: #434B5C;\n",
              "      box-shadow: 0px 1px 3px 1px rgba(0, 0, 0, 0.15);\n",
              "      filter: drop-shadow(0px 1px 2px rgba(0, 0, 0, 0.3));\n",
              "      fill: #FFFFFF;\n",
              "    }\n",
              "  </style>\n",
              "\n",
              "      <script>\n",
              "        const buttonEl =\n",
              "          document.querySelector('#df-a38bbed3-e542-4a27-b668-2235968d7afa button.colab-df-convert');\n",
              "        buttonEl.style.display =\n",
              "          google.colab.kernel.accessAllowed ? 'block' : 'none';\n",
              "\n",
              "        async function convertToInteractive(key) {\n",
              "          const element = document.querySelector('#df-a38bbed3-e542-4a27-b668-2235968d7afa');\n",
              "          const dataTable =\n",
              "            await google.colab.kernel.invokeFunction('convertToInteractive',\n",
              "                                                     [key], {});\n",
              "          if (!dataTable) return;\n",
              "\n",
              "          const docLinkHtml = 'Like what you see? Visit the ' +\n",
              "            '<a target=\"_blank\" href=https://colab.research.google.com/notebooks/data_table.ipynb>data table notebook</a>'\n",
              "            + ' to learn more about interactive tables.';\n",
              "          element.innerHTML = '';\n",
              "          dataTable['output_type'] = 'display_data';\n",
              "          await google.colab.output.renderOutput(dataTable, element);\n",
              "          const docLink = document.createElement('div');\n",
              "          docLink.innerHTML = docLinkHtml;\n",
              "          element.appendChild(docLink);\n",
              "        }\n",
              "      </script>\n",
              "    </div>\n",
              "  </div>\n",
              "  "
            ]
          },
          "metadata": {},
          "execution_count": 18
        }
      ]
    },
    {
      "cell_type": "code",
      "source": [
        "string.punctuation += '—'"
      ],
      "metadata": {
        "id": "EWVFQqpt4lfK"
      },
      "execution_count": null,
      "outputs": []
    },
    {
      "cell_type": "code",
      "source": [
        "def remove_noise(lyrics):  \n",
        "  lyrics = lyrics.split(\" \")\n",
        "\n",
        "  # Removing punctuation\n",
        "  lyrics = [word.translate(str.maketrans('', '', string.punctuation)) for word in lyrics]\n",
        "  \n",
        "  # Removing stopwords\n",
        "  lyrics = [word for word in lyrics if word not in sw and len(word) > 2]\n",
        "\n",
        "  # Joining/Lowercasing the words\n",
        "  lyrics = ' '.join(lyrics)\n",
        "\n",
        "  return lyrics"
      ],
      "metadata": {
        "id": "DtW0YV-Sobst"
      },
      "execution_count": null,
      "outputs": []
    },
    {
      "cell_type": "code",
      "source": [
        "df = df.fillna(\"instrumental\")\n",
        "df['CleanLyrics'] = df['Lyrics'].apply(remove_noise)"
      ],
      "metadata": {
        "id": "JiGdjvdEPMs8"
      },
      "execution_count": null,
      "outputs": []
    },
    {
      "cell_type": "code",
      "source": [
        "df"
      ],
      "metadata": {
        "colab": {
          "base_uri": "https://localhost:8080/",
          "height": 424
        },
        "id": "mKZJ-iyJSVIl",
        "outputId": "4323539c-a60a-4714-8380-ecddcb08e121"
      },
      "execution_count": null,
      "outputs": [
        {
          "output_type": "execute_result",
          "data": {
            "text/plain": [
              "            Artist                       Song              Date  \\\n",
              "0     Public Enemy            Fight the Power      June 1, 1989   \n",
              "1     Public Enemy            Bring the Noise  November 1, 1987   \n",
              "2     Public Enemy     Don’t Believe the Hype      June 1, 1988   \n",
              "3     Public Enemy      Harder Than You Think   August 13, 2007   \n",
              "4     Public Enemy  Welcome to the Terrordome   January 1, 1990   \n",
              "...            ...                        ...               ...   \n",
              "5895          Wale                  Legendary  November 1, 2011   \n",
              "5896          Wale                       Bait   August 17, 2011   \n",
              "5897          Wale                    The War    August 3, 2010   \n",
              "5898          Wale              Back 2 Ballin         Not Found   \n",
              "5899          Wale            The Bloom (AG3)    March 31, 2016   \n",
              "\n",
              "                                                 Lyrics  \\\n",
              "0     yet our best trained best educated best equipp...   \n",
              "1     too black too strong yo chuck these honey drip...   \n",
              "2     dont— dont— dont— dont— dont— dont— dont— back...   \n",
              "3     yo chuck bust a move man i was on my way up he...   \n",
              "4     hey this— this is a journey— —jour— —journey t...   \n",
              "...                                                 ...   \n",
              "5895  top of the dome wit it or wroten lyrics they a...   \n",
              "5896  work work work work yeah you know i got that w...   \n",
              "5897  look i just want to make you better i think i ...   \n",
              "5898  you niggas serving up a bad batch too much bak...   \n",
              "5899  good morning baby i thank god im alive to gree...   \n",
              "\n",
              "                                            CleanLyrics  \n",
              "0     trained educated equipped prepared troops refu...  \n",
              "1     black strong chuck honey drippers fronting sho...  \n",
              "2     back caught lookin thing thing check bring rol...  \n",
              "3     chuck bust move man studio sayin brother stopp...  \n",
              "4     hey journey jour journey sound join welcomeini...  \n",
              "...                                                 ...  \n",
              "5895  top dome wit wroten lyrics grossing million li...  \n",
              "5896  work work work work yeah work baby mamas leave...  \n",
              "5897  make save bipolar love hate grew disdain hate ...  \n",
              "5898  niggas serving bad batch bakin bakin bakin bak...  \n",
              "5899  good morning baby god alive greet sun flower l...  \n",
              "\n",
              "[5900 rows x 5 columns]"
            ],
            "text/html": [
              "\n",
              "  <div id=\"df-68f75841-3086-4e15-9ab8-ac2ecf569265\">\n",
              "    <div class=\"colab-df-container\">\n",
              "      <div>\n",
              "<style scoped>\n",
              "    .dataframe tbody tr th:only-of-type {\n",
              "        vertical-align: middle;\n",
              "    }\n",
              "\n",
              "    .dataframe tbody tr th {\n",
              "        vertical-align: top;\n",
              "    }\n",
              "\n",
              "    .dataframe thead th {\n",
              "        text-align: right;\n",
              "    }\n",
              "</style>\n",
              "<table border=\"1\" class=\"dataframe\">\n",
              "  <thead>\n",
              "    <tr style=\"text-align: right;\">\n",
              "      <th></th>\n",
              "      <th>Artist</th>\n",
              "      <th>Song</th>\n",
              "      <th>Date</th>\n",
              "      <th>Lyrics</th>\n",
              "      <th>CleanLyrics</th>\n",
              "    </tr>\n",
              "  </thead>\n",
              "  <tbody>\n",
              "    <tr>\n",
              "      <th>0</th>\n",
              "      <td>Public Enemy</td>\n",
              "      <td>Fight the Power</td>\n",
              "      <td>June 1, 1989</td>\n",
              "      <td>yet our best trained best educated best equipp...</td>\n",
              "      <td>trained educated equipped prepared troops refu...</td>\n",
              "    </tr>\n",
              "    <tr>\n",
              "      <th>1</th>\n",
              "      <td>Public Enemy</td>\n",
              "      <td>Bring the Noise</td>\n",
              "      <td>November 1, 1987</td>\n",
              "      <td>too black too strong yo chuck these honey drip...</td>\n",
              "      <td>black strong chuck honey drippers fronting sho...</td>\n",
              "    </tr>\n",
              "    <tr>\n",
              "      <th>2</th>\n",
              "      <td>Public Enemy</td>\n",
              "      <td>Don’t Believe the Hype</td>\n",
              "      <td>June 1, 1988</td>\n",
              "      <td>dont— dont— dont— dont— dont— dont— dont— back...</td>\n",
              "      <td>back caught lookin thing thing check bring rol...</td>\n",
              "    </tr>\n",
              "    <tr>\n",
              "      <th>3</th>\n",
              "      <td>Public Enemy</td>\n",
              "      <td>Harder Than You Think</td>\n",
              "      <td>August 13, 2007</td>\n",
              "      <td>yo chuck bust a move man i was on my way up he...</td>\n",
              "      <td>chuck bust move man studio sayin brother stopp...</td>\n",
              "    </tr>\n",
              "    <tr>\n",
              "      <th>4</th>\n",
              "      <td>Public Enemy</td>\n",
              "      <td>Welcome to the Terrordome</td>\n",
              "      <td>January 1, 1990</td>\n",
              "      <td>hey this— this is a journey— —jour— —journey t...</td>\n",
              "      <td>hey journey jour journey sound join welcomeini...</td>\n",
              "    </tr>\n",
              "    <tr>\n",
              "      <th>...</th>\n",
              "      <td>...</td>\n",
              "      <td>...</td>\n",
              "      <td>...</td>\n",
              "      <td>...</td>\n",
              "      <td>...</td>\n",
              "    </tr>\n",
              "    <tr>\n",
              "      <th>5895</th>\n",
              "      <td>Wale</td>\n",
              "      <td>Legendary</td>\n",
              "      <td>November 1, 2011</td>\n",
              "      <td>top of the dome wit it or wroten lyrics they a...</td>\n",
              "      <td>top dome wit wroten lyrics grossing million li...</td>\n",
              "    </tr>\n",
              "    <tr>\n",
              "      <th>5896</th>\n",
              "      <td>Wale</td>\n",
              "      <td>Bait</td>\n",
              "      <td>August 17, 2011</td>\n",
              "      <td>work work work work yeah you know i got that w...</td>\n",
              "      <td>work work work work yeah work baby mamas leave...</td>\n",
              "    </tr>\n",
              "    <tr>\n",
              "      <th>5897</th>\n",
              "      <td>Wale</td>\n",
              "      <td>The War</td>\n",
              "      <td>August 3, 2010</td>\n",
              "      <td>look i just want to make you better i think i ...</td>\n",
              "      <td>make save bipolar love hate grew disdain hate ...</td>\n",
              "    </tr>\n",
              "    <tr>\n",
              "      <th>5898</th>\n",
              "      <td>Wale</td>\n",
              "      <td>Back 2 Ballin</td>\n",
              "      <td>Not Found</td>\n",
              "      <td>you niggas serving up a bad batch too much bak...</td>\n",
              "      <td>niggas serving bad batch bakin bakin bakin bak...</td>\n",
              "    </tr>\n",
              "    <tr>\n",
              "      <th>5899</th>\n",
              "      <td>Wale</td>\n",
              "      <td>The Bloom (AG3)</td>\n",
              "      <td>March 31, 2016</td>\n",
              "      <td>good morning baby i thank god im alive to gree...</td>\n",
              "      <td>good morning baby god alive greet sun flower l...</td>\n",
              "    </tr>\n",
              "  </tbody>\n",
              "</table>\n",
              "<p>5900 rows × 5 columns</p>\n",
              "</div>\n",
              "      <button class=\"colab-df-convert\" onclick=\"convertToInteractive('df-68f75841-3086-4e15-9ab8-ac2ecf569265')\"\n",
              "              title=\"Convert this dataframe to an interactive table.\"\n",
              "              style=\"display:none;\">\n",
              "        \n",
              "  <svg xmlns=\"http://www.w3.org/2000/svg\" height=\"24px\"viewBox=\"0 0 24 24\"\n",
              "       width=\"24px\">\n",
              "    <path d=\"M0 0h24v24H0V0z\" fill=\"none\"/>\n",
              "    <path d=\"M18.56 5.44l.94 2.06.94-2.06 2.06-.94-2.06-.94-.94-2.06-.94 2.06-2.06.94zm-11 1L8.5 8.5l.94-2.06 2.06-.94-2.06-.94L8.5 2.5l-.94 2.06-2.06.94zm10 10l.94 2.06.94-2.06 2.06-.94-2.06-.94-.94-2.06-.94 2.06-2.06.94z\"/><path d=\"M17.41 7.96l-1.37-1.37c-.4-.4-.92-.59-1.43-.59-.52 0-1.04.2-1.43.59L10.3 9.45l-7.72 7.72c-.78.78-.78 2.05 0 2.83L4 21.41c.39.39.9.59 1.41.59.51 0 1.02-.2 1.41-.59l7.78-7.78 2.81-2.81c.8-.78.8-2.07 0-2.86zM5.41 20L4 18.59l7.72-7.72 1.47 1.35L5.41 20z\"/>\n",
              "  </svg>\n",
              "      </button>\n",
              "      \n",
              "  <style>\n",
              "    .colab-df-container {\n",
              "      display:flex;\n",
              "      flex-wrap:wrap;\n",
              "      gap: 12px;\n",
              "    }\n",
              "\n",
              "    .colab-df-convert {\n",
              "      background-color: #E8F0FE;\n",
              "      border: none;\n",
              "      border-radius: 50%;\n",
              "      cursor: pointer;\n",
              "      display: none;\n",
              "      fill: #1967D2;\n",
              "      height: 32px;\n",
              "      padding: 0 0 0 0;\n",
              "      width: 32px;\n",
              "    }\n",
              "\n",
              "    .colab-df-convert:hover {\n",
              "      background-color: #E2EBFA;\n",
              "      box-shadow: 0px 1px 2px rgba(60, 64, 67, 0.3), 0px 1px 3px 1px rgba(60, 64, 67, 0.15);\n",
              "      fill: #174EA6;\n",
              "    }\n",
              "\n",
              "    [theme=dark] .colab-df-convert {\n",
              "      background-color: #3B4455;\n",
              "      fill: #D2E3FC;\n",
              "    }\n",
              "\n",
              "    [theme=dark] .colab-df-convert:hover {\n",
              "      background-color: #434B5C;\n",
              "      box-shadow: 0px 1px 3px 1px rgba(0, 0, 0, 0.15);\n",
              "      filter: drop-shadow(0px 1px 2px rgba(0, 0, 0, 0.3));\n",
              "      fill: #FFFFFF;\n",
              "    }\n",
              "  </style>\n",
              "\n",
              "      <script>\n",
              "        const buttonEl =\n",
              "          document.querySelector('#df-68f75841-3086-4e15-9ab8-ac2ecf569265 button.colab-df-convert');\n",
              "        buttonEl.style.display =\n",
              "          google.colab.kernel.accessAllowed ? 'block' : 'none';\n",
              "\n",
              "        async function convertToInteractive(key) {\n",
              "          const element = document.querySelector('#df-68f75841-3086-4e15-9ab8-ac2ecf569265');\n",
              "          const dataTable =\n",
              "            await google.colab.kernel.invokeFunction('convertToInteractive',\n",
              "                                                     [key], {});\n",
              "          if (!dataTable) return;\n",
              "\n",
              "          const docLinkHtml = 'Like what you see? Visit the ' +\n",
              "            '<a target=\"_blank\" href=https://colab.research.google.com/notebooks/data_table.ipynb>data table notebook</a>'\n",
              "            + ' to learn more about interactive tables.';\n",
              "          element.innerHTML = '';\n",
              "          dataTable['output_type'] = 'display_data';\n",
              "          await google.colab.output.renderOutput(dataTable, element);\n",
              "          const docLink = document.createElement('div');\n",
              "          docLink.innerHTML = docLinkHtml;\n",
              "          element.appendChild(docLink);\n",
              "        }\n",
              "      </script>\n",
              "    </div>\n",
              "  </div>\n",
              "  "
            ]
          },
          "metadata": {},
          "execution_count": 20
        }
      ]
    },
    {
      "cell_type": "markdown",
      "source": [
        "## Palavras mais frequentes ao longo do tempo"
      ],
      "metadata": {
        "id": "IrKJj8EKTKM6"
      }
    },
    {
      "cell_type": "code",
      "source": [
        "from tqdm.notebook import tqdm\n",
        "tqdm.pandas()"
      ],
      "metadata": {
        "id": "I1_a1Y2PGrHo"
      },
      "execution_count": null,
      "outputs": []
    },
    {
      "cell_type": "code",
      "source": [
        "import nltk\n",
        "\n",
        "tokenizer = nltk.tokenize.RegexpTokenizer('\\w+')"
      ],
      "metadata": {
        "id": "IewfsQmWkHek"
      },
      "execution_count": null,
      "outputs": []
    },
    {
      "cell_type": "code",
      "source": [
        "tokens = []\n",
        "for lyric in df['CleanLyrics'].tolist():\n",
        "  for word in tokenizer.tokenize(str(lyric)):\n",
        "    tokens.append(word)"
      ],
      "metadata": {
        "id": "j1YRxsu8mLVS"
      },
      "execution_count": null,
      "outputs": []
    },
    {
      "cell_type": "code",
      "source": [
        "len(tokens)"
      ],
      "metadata": {
        "colab": {
          "base_uri": "https://localhost:8080/"
        },
        "id": "rHiUlrhVQ7jj",
        "outputId": "3c155bc1-8c5c-4bff-94b5-80fd30a50ac4"
      },
      "execution_count": null,
      "outputs": [
        {
          "output_type": "execute_result",
          "data": {
            "text/plain": [
              "1441062"
            ]
          },
          "metadata": {},
          "execution_count": 26
        }
      ]
    },
    {
      "cell_type": "code",
      "source": [
        "def clean_noise(tokens):\n",
        "  commom_terms = ['nigga', 'niggas', 'shit', 'yeah', 'fuck', 'back', 'bitch',\n",
        "                  'make', 'put', 'gon', 'hit', 'ima', 'wanna', 'gonna', 'bitches',\n",
        "                  'suck', 'pussy', 'dick', 'ass', 'motherfucker', 'motherfuckers',\n",
        "                  'motherfuckin', 'motherfucking', 'fuckin', 'hey', 'yea', 'im', 'yall'] \n",
        "\n",
        "  tokens = [word for word in tokens if word not in commom_terms]\n",
        "  return tokens"
      ],
      "metadata": {
        "id": "QYuaLIHkuSgk"
      },
      "execution_count": null,
      "outputs": []
    },
    {
      "cell_type": "code",
      "source": [
        "tokens_filtered = clean_noise(tokens)"
      ],
      "metadata": {
        "id": "3veFcbLnu2Vi"
      },
      "execution_count": null,
      "outputs": []
    },
    {
      "cell_type": "code",
      "source": [
        "len(tokens_filtered)"
      ],
      "metadata": {
        "colab": {
          "base_uri": "https://localhost:8080/"
        },
        "id": "LfZUEajARLpz",
        "outputId": "b0fec072-341d-4be2-b088-773cd4a5a622"
      },
      "execution_count": null,
      "outputs": [
        {
          "output_type": "execute_result",
          "data": {
            "text/plain": [
              "1289080"
            ]
          },
          "metadata": {},
          "execution_count": 36
        }
      ]
    },
    {
      "cell_type": "code",
      "source": [
        "fd = nltk.FreqDist(tokens_filtered)"
      ],
      "metadata": {
        "id": "PlVs6eS5qgo6"
      },
      "execution_count": null,
      "outputs": []
    },
    {
      "cell_type": "code",
      "source": [
        "t = []\n",
        "c = []\n",
        "for token, count in fd.most_common(20):\n",
        "  t.append(token)\n",
        "  c.append(count)"
      ],
      "metadata": {
        "id": "BJYfG4HZtAg9"
      },
      "execution_count": null,
      "outputs": []
    },
    {
      "cell_type": "code",
      "source": [
        "import matplotlib.pyplot as plt\n",
        "\n",
        "%matplotlib inline\n",
        "\n",
        "plt.figure(figsize=(14,7))\n",
        "fd.plot(20)"
      ],
      "metadata": {
        "colab": {
          "base_uri": "https://localhost:8080/",
          "height": 483
        },
        "id": "gTjX84BvqpPB",
        "outputId": "a136bdc9-f6f5-45f6-ac01-885c969e9992"
      },
      "execution_count": null,
      "outputs": [
        {
          "output_type": "display_data",
          "data": {
            "text/plain": [
              "<Figure size 1008x504 with 1 Axes>"
            ],
            "image/png": "[encoded data removed]"
          },
          "metadata": {
            "needs_background": "light"
          }
        },
        {
          "output_type": "execute_result",
          "data": {
            "text/plain": [
              "<matplotlib.axes._subplots.AxesSubplot at 0x7f5d926ce150>"
            ]
          },
          "metadata": {},
          "execution_count": 66
        }
      ]
    },
    {
      "cell_type": "markdown",
      "source": [
        "## Tamanho das letras das músicas por década"
      ],
      "metadata": {
        "id": "8rPv1GBdR2FF"
      }
    },
    {
      "cell_type": "code",
      "source": [
        "# Desconsiderando as músicas sem data de lançamento identificada\n",
        "temp = df[df.Date != \"Not Found\"]"
      ],
      "metadata": {
        "id": "MUzT95d1-kKQ"
      },
      "execution_count": null,
      "outputs": []
    },
    {
      "cell_type": "markdown",
      "source": [
        "### Separando as letras por décadas\n",
        "\n",
        "*   1980\n",
        "*   1990\n",
        "*   2000\n",
        "*   2010\n",
        "\n",
        "\n",
        "\n"
      ],
      "metadata": {
        "id": "cICFoXFgP0Td"
      }
    },
    {
      "cell_type": "code",
      "source": [
        "docs_80s = temp[temp.Date.str.slice(-4) < '1990'].reset_index(drop=True)\n",
        "docs_90s = temp[(temp.Date.str.slice(-4) >= '1990') & (temp.Date.str.slice(-4) < '2000')].reset_index(drop=True)\n",
        "docs_00s = temp[(temp.Date.str.slice(-4) >= '2000') & (temp.Date.str.slice(-4) < '2010')].reset_index(drop=True)\n",
        "docs_10s = temp[(temp.Date.str.slice(-4) >= '2010')].reset_index(drop=True)"
      ],
      "metadata": {
        "id": "9PamZpU19Zgm"
      },
      "execution_count": null,
      "outputs": []
    },
    {
      "cell_type": "code",
      "source": [
        "# Removendo outliers que atrapalham a visualização dos dados\n",
        "y1 = [len(lyric) for lyric in docs_80s['Lyrics'] if len(lyric) <= 10000]\n",
        "y2 = [len(lyric) for lyric in docs_90s['Lyrics'] if len(lyric) <= 10000]\n",
        "y3 = [len(lyric) for lyric in docs_00s['Lyrics'] if len(lyric) <= 10000]\n",
        "y4 = [len(lyric) for lyric in docs_10s['Lyrics'] if len(lyric) <= 10000]"
      ],
      "metadata": {
        "id": "Pr01hVc7Js52"
      },
      "execution_count": null,
      "outputs": []
    },
    {
      "cell_type": "code",
      "source": [
        "len(y1), len(y2), len(y3), len(y4)"
      ],
      "metadata": {
        "colab": {
          "base_uri": "https://localhost:8080/"
        },
        "id": "wn34LquQSOub",
        "outputId": "5213b162-6f24-409b-9c10-319f167d0355"
      },
      "execution_count": null,
      "outputs": [
        {
          "output_type": "execute_result",
          "data": {
            "text/plain": [
              "(234, 1360, 1087, 3046)"
            ]
          },
          "metadata": {},
          "execution_count": 64
        }
      ]
    },
    {
      "cell_type": "code",
      "source": [
        "import matplotlib.pyplot as plt\n",
        "%matplotlib inline"
      ],
      "metadata": {
        "id": "PvLg-g0xI0mS"
      },
      "execution_count": null,
      "outputs": []
    },
    {
      "cell_type": "code",
      "source": [
        "data = {\"1980\": y1, \"1990\": y2, \"2000\": y3, \"2010\": y4}"
      ],
      "metadata": {
        "id": "Y3e8iTAYZw6R"
      },
      "execution_count": null,
      "outputs": []
    },
    {
      "cell_type": "code",
      "source": [
        "test_data = pd.DataFrame([data], index=[0])"
      ],
      "metadata": {
        "id": "Pc86GbLCW8wp"
      },
      "execution_count": null,
      "outputs": []
    },
    {
      "cell_type": "code",
      "source": [
        "test_data = test_data.T\n",
        "test_data.columns = ['arrays']"
      ],
      "metadata": {
        "id": "AL_v8sqIXRuH"
      },
      "execution_count": null,
      "outputs": []
    },
    {
      "cell_type": "code",
      "source": [
        "test_data"
      ],
      "metadata": {
        "colab": {
          "base_uri": "https://localhost:8080/",
          "height": 175
        },
        "id": "3WyziTIhbPZu",
        "outputId": "0734a669-edfe-485c-ca25-3067c3108a37"
      },
      "execution_count": null,
      "outputs": [
        {
          "output_type": "execute_result",
          "data": {
            "text/plain": [
              "                                                 arrays\n",
              "1980  [2543, 3187, 4331, 3400, 3981, 3941, 2367, 330...\n",
              "1990  [3933, 2195, 3694, 2574, 3991, 2510, 3397, 244...\n",
              "2000  [3885, 2163, 1146, 1266, 1132, 2209, 3311, 200...\n",
              "2010  [4443, 2268, 315, 1442, 2819, 1993, 1875, 3371..."
            ],
            "text/html": [
              "\n",
              "  <div id=\"df-267d9881-b151-4e52-9ab3-783be13415b0\">\n",
              "    <div class=\"colab-df-container\">\n",
              "      <div>\n",
              "<style scoped>\n",
              "    .dataframe tbody tr th:only-of-type {\n",
              "        vertical-align: middle;\n",
              "    }\n",
              "\n",
              "    .dataframe tbody tr th {\n",
              "        vertical-align: top;\n",
              "    }\n",
              "\n",
              "    .dataframe thead th {\n",
              "        text-align: right;\n",
              "    }\n",
              "</style>\n",
              "<table border=\"1\" class=\"dataframe\">\n",
              "  <thead>\n",
              "    <tr style=\"text-align: right;\">\n",
              "      <th></th>\n",
              "      <th>arrays</th>\n",
              "    </tr>\n",
              "  </thead>\n",
              "  <tbody>\n",
              "    <tr>\n",
              "      <th>1980</th>\n",
              "      <td>[2543, 3187, 4331, 3400, 3981, 3941, 2367, 330...</td>\n",
              "    </tr>\n",
              "    <tr>\n",
              "      <th>1990</th>\n",
              "      <td>[3933, 2195, 3694, 2574, 3991, 2510, 3397, 244...</td>\n",
              "    </tr>\n",
              "    <tr>\n",
              "      <th>2000</th>\n",
              "      <td>[3885, 2163, 1146, 1266, 1132, 2209, 3311, 200...</td>\n",
              "    </tr>\n",
              "    <tr>\n",
              "      <th>2010</th>\n",
              "      <td>[4443, 2268, 315, 1442, 2819, 1993, 1875, 3371...</td>\n",
              "    </tr>\n",
              "  </tbody>\n",
              "</table>\n",
              "</div>\n",
              "      <button class=\"colab-df-convert\" onclick=\"convertToInteractive('df-267d9881-b151-4e52-9ab3-783be13415b0')\"\n",
              "              title=\"Convert this dataframe to an interactive table.\"\n",
              "              style=\"display:none;\">\n",
              "        \n",
              "  <svg xmlns=\"http://www.w3.org/2000/svg\" height=\"24px\"viewBox=\"0 0 24 24\"\n",
              "       width=\"24px\">\n",
              "    <path d=\"M0 0h24v24H0V0z\" fill=\"none\"/>\n",
              "    <path d=\"M18.56 5.44l.94 2.06.94-2.06 2.06-.94-2.06-.94-.94-2.06-.94 2.06-2.06.94zm-11 1L8.5 8.5l.94-2.06 2.06-.94-2.06-.94L8.5 2.5l-.94 2.06-2.06.94zm10 10l.94 2.06.94-2.06 2.06-.94-2.06-.94-.94-2.06-.94 2.06-2.06.94z\"/><path d=\"M17.41 7.96l-1.37-1.37c-.4-.4-.92-.59-1.43-.59-.52 0-1.04.2-1.43.59L10.3 9.45l-7.72 7.72c-.78.78-.78 2.05 0 2.83L4 21.41c.39.39.9.59 1.41.59.51 0 1.02-.2 1.41-.59l7.78-7.78 2.81-2.81c.8-.78.8-2.07 0-2.86zM5.41 20L4 18.59l7.72-7.72 1.47 1.35L5.41 20z\"/>\n",
              "  </svg>\n",
              "      </button>\n",
              "      \n",
              "  <style>\n",
              "    .colab-df-container {\n",
              "      display:flex;\n",
              "      flex-wrap:wrap;\n",
              "      gap: 12px;\n",
              "    }\n",
              "\n",
              "    .colab-df-convert {\n",
              "      background-color: #E8F0FE;\n",
              "      border: none;\n",
              "      border-radius: 50%;\n",
              "      cursor: pointer;\n",
              "      display: none;\n",
              "      fill: #1967D2;\n",
              "      height: 32px;\n",
              "      padding: 0 0 0 0;\n",
              "      width: 32px;\n",
              "    }\n",
              "\n",
              "    .colab-df-convert:hover {\n",
              "      background-color: #E2EBFA;\n",
              "      box-shadow: 0px 1px 2px rgba(60, 64, 67, 0.3), 0px 1px 3px 1px rgba(60, 64, 67, 0.15);\n",
              "      fill: #174EA6;\n",
              "    }\n",
              "\n",
              "    [theme=dark] .colab-df-convert {\n",
              "      background-color: #3B4455;\n",
              "      fill: #D2E3FC;\n",
              "    }\n",
              "\n",
              "    [theme=dark] .colab-df-convert:hover {\n",
              "      background-color: #434B5C;\n",
              "      box-shadow: 0px 1px 3px 1px rgba(0, 0, 0, 0.15);\n",
              "      filter: drop-shadow(0px 1px 2px rgba(0, 0, 0, 0.3));\n",
              "      fill: #FFFFFF;\n",
              "    }\n",
              "  </style>\n",
              "\n",
              "      <script>\n",
              "        const buttonEl =\n",
              "          document.querySelector('#df-267d9881-b151-4e52-9ab3-783be13415b0 button.colab-df-convert');\n",
              "        buttonEl.style.display =\n",
              "          google.colab.kernel.accessAllowed ? 'block' : 'none';\n",
              "\n",
              "        async function convertToInteractive(key) {\n",
              "          const element = document.querySelector('#df-267d9881-b151-4e52-9ab3-783be13415b0');\n",
              "          const dataTable =\n",
              "            await google.colab.kernel.invokeFunction('convertToInteractive',\n",
              "                                                     [key], {});\n",
              "          if (!dataTable) return;\n",
              "\n",
              "          const docLinkHtml = 'Like what you see? Visit the ' +\n",
              "            '<a target=\"_blank\" href=https://colab.research.google.com/notebooks/data_table.ipynb>data table notebook</a>'\n",
              "            + ' to learn more about interactive tables.';\n",
              "          element.innerHTML = '';\n",
              "          dataTable['output_type'] = 'display_data';\n",
              "          await google.colab.output.renderOutput(dataTable, element);\n",
              "          const docLink = document.createElement('div');\n",
              "          docLink.innerHTML = docLinkHtml;\n",
              "          element.appendChild(docLink);\n",
              "        }\n",
              "      </script>\n",
              "    </div>\n",
              "  </div>\n",
              "  "
            ]
          },
          "metadata": {},
          "execution_count": 125
        }
      ]
    },
    {
      "cell_type": "code",
      "source": [
        "# Salvando dados para usar na criação dos gráficos do site\n",
        "test_data.to_csv('lyrics_length.csv', index=False)"
      ],
      "metadata": {
        "id": "0Bo3TTX6X_mP"
      },
      "execution_count": null,
      "outputs": []
    },
    {
      "cell_type": "markdown",
      "source": [
        "## Análise de tópicos"
      ],
      "metadata": {
        "id": "Gh4-uZjwPrS4"
      }
    },
    {
      "cell_type": "code",
      "source": [
        "!pip install bertopic"
      ],
      "metadata": {
        "id": "iCIJK9qr3kgu"
      },
      "execution_count": null,
      "outputs": []
    },
    {
      "cell_type": "code",
      "source": [
        "def removing_domain_stopwords(lyrics):\n",
        "  commom_terms = ['nigga', 'niggas', 'shit', 'yeah', 'fuck', 'back', 'bitch',\n",
        "                  'make', 'man', 'boy', 'ima', 'wanna', 'gonna', 'bitches',\n",
        "                  'suck', 'pussy', 'dick', 'ass', 'motherfucker', 'motherfuckers',\n",
        "                  'motherfuckin', 'motherfucking', 'fuckin', 'hey', 'yea', 'im', 'yall'] \n",
        "\n",
        "  lyrics = [word for word in lyrics.split(' ') if word not in commom_terms]\n",
        "\n",
        "  return ' '.join(lyrics)"
      ],
      "metadata": {
        "id": "0_OzdSyK-R2Q"
      },
      "execution_count": null,
      "outputs": []
    },
    {
      "cell_type": "code",
      "source": [
        "# Usando a coluna com os dados limpos e aplicando remoção de \n",
        "# alguns termos considerados stopwords do domínio em questão\n",
        "\n",
        "docs_80s = docs_80s['CleanLyrics'].apply(removing_domain_stopwords)\n",
        "docs_90s = docs_90s['CleanLyrics'].apply(removing_domain_stopwords)\n",
        "docs_00s = docs_00s['CleanLyrics'].apply(removing_domain_stopwords)\n",
        "docs_10s = docs_10s['CleanLyrics'].apply(removing_domain_stopwords)"
      ],
      "metadata": {
        "id": "ZZ9DnQ4JBo5J"
      },
      "execution_count": null,
      "outputs": []
    },
    {
      "cell_type": "code",
      "source": [
        "len(docs_80s), len(docs_90s), len(docs_00s), len(docs_10s)"
      ],
      "metadata": {
        "colab": {
          "base_uri": "https://localhost:8080/"
        },
        "id": "TnJXfWjz5WU0",
        "outputId": "cf4e05e6-e5e5-498e-c31c-93802be6f999"
      },
      "execution_count": null,
      "outputs": [
        {
          "output_type": "execute_result",
          "data": {
            "text/plain": [
              "(234, 1360, 1092, 3056)"
            ]
          },
          "metadata": {},
          "execution_count": 59
        }
      ]
    },
    {
      "cell_type": "code",
      "source": [
        "from bertopic import BERTopic"
      ],
      "metadata": {
        "id": "Xj0k_B89yMn6"
      },
      "execution_count": null,
      "outputs": []
    },
    {
      "cell_type": "code",
      "source": [
        "topic_model_80s = BERTopic()\n",
        "topic_model_90s = BERTopic()\n",
        "topic_model_00s = BERTopic()\n",
        "topic_model_10s = BERTopic()\n",
        "\n",
        "topics_80s, probs_80s = topic_model_80s.fit_transform(docs_80s)\n",
        "topics_90s, probs_90s = topic_model_90s.fit_transform(docs_90s)\n",
        "topics_00s, probs_00s = topic_model_00s.fit_transform(docs_00s)\n",
        "topics_10s, probs_10s = topic_model_10s.fit_transform(docs_10s)"
      ],
      "metadata": {
        "id": "rzREucvLseWx"
      },
      "execution_count": null,
      "outputs": []
    },
    {
      "cell_type": "markdown",
      "source": [
        "### Análise dos tópicos com remoção de SW e termos obscenos"
      ],
      "metadata": {
        "id": "SF511l1SWMtd"
      }
    },
    {
      "cell_type": "code",
      "source": [
        "topic_model_80s.get_topics()"
      ],
      "metadata": {
        "colab": {
          "base_uri": "https://localhost:8080/"
        },
        "id": "TO0JvCj3QMfZ",
        "outputId": "d286813a-8539-4e80-c8d9-f049ea0c9e3f"
      },
      "execution_count": null,
      "outputs": [
        {
          "output_type": "execute_result",
          "data": {
            "text/plain": [
              "{-1: [('time', 0.028700302624819995),\n",
              "  ('love', 0.027643272354388123),\n",
              "  ('rock', 0.02493308441036046),\n",
              "  ('baby', 0.02324085998674299),\n",
              "  ('wild', 0.022445530068943596),\n",
              "  ('put', 0.019225156588465783),\n",
              "  ('cut', 0.01913094868486988),\n",
              "  ('girl', 0.017987386376664236),\n",
              "  ('people', 0.017904422376182953),\n",
              "  ('beat', 0.01718839133591549)],\n",
              " 0: [('money', 0.03113538862510041),\n",
              "  ('shes', 0.03052873149417244),\n",
              "  ('girl', 0.028935566980791205),\n",
              "  ('geto', 0.024727673804415158),\n",
              "  ('girls', 0.022524794704567468),\n",
              "  ('type', 0.021974823191290585),\n",
              "  ('guy', 0.021460984696151108),\n",
              "  ('time', 0.021144230296267795),\n",
              "  ('give', 0.020912861567601172),\n",
              "  ('ghetto', 0.017772618004256675)],\n",
              " 1: [('mic', 0.03989111135543636),\n",
              "  ('rhyme', 0.03963662458714861),\n",
              "  ('rhymes', 0.03723635645170683),\n",
              "  ('time', 0.029633078512947116),\n",
              "  ('rappers', 0.024068473168241514),\n",
              "  ('rap', 0.023808103651341075),\n",
              "  ('rock', 0.023741442501953206),\n",
              "  ('microphone', 0.02282072883375453),\n",
              "  ('power', 0.021455092156165003),\n",
              "  ('big', 0.019515401896025047)]}"
            ]
          },
          "metadata": {},
          "execution_count": 166
        }
      ]
    },
    {
      "cell_type": "code",
      "source": [
        "topic_model_90s.get_topics()"
      ],
      "metadata": {
        "colab": {
          "base_uri": "https://localhost:8080/"
        },
        "id": "_zo04VRLWiEF",
        "outputId": "a7301dc2-e8ea-47d0-a2d7-c8e4006adde0"
      },
      "execution_count": null,
      "outputs": [
        {
          "output_type": "execute_result",
          "data": {
            "text/plain": [
              "{-1: [('time', 0.01372684856695634),\n",
              "  ('baby', 0.013255849734701274),\n",
              "  ('love', 0.012961815622888496),\n",
              "  ('give', 0.012760510360332928),\n",
              "  ('life', 0.01185271648226589),\n",
              "  ('real', 0.011629401990221664),\n",
              "  ('gotta', 0.010501462495129498),\n",
              "  ('good', 0.010078099592225699),\n",
              "  ('put', 0.010006781622399218),\n",
              "  ('hit', 0.009963958239589864)],\n",
              " 0: [('mic', 0.01545959576111874),\n",
              "  ('rock', 0.015453866500939658),\n",
              "  ('rap', 0.015035190191224445),\n",
              "  ('time', 0.014998602924240231),\n",
              "  ('mcs', 0.014390715464353313),\n",
              "  ('rhymes', 0.013342802893669674),\n",
              "  ('funk', 0.012775308500569502),\n",
              "  ('rhyme', 0.012343801077519489),\n",
              "  ('stop', 0.011856997680046772),\n",
              "  ('check', 0.01137928789173178)],\n",
              " 1: [('girl', 0.03069328346977934),\n",
              "  ('love', 0.026338849357758796),\n",
              "  ('hoes', 0.020444067262177467),\n",
              "  ('baby', 0.019408511304408477),\n",
              "  ('sex', 0.017484494246084926),\n",
              "  ('talk', 0.0161760551586937),\n",
              "  ('big', 0.015909334545575256),\n",
              "  ('nasty', 0.014941051599964861),\n",
              "  ('wit', 0.01418140032152468),\n",
              "  ('give', 0.014096533498955201)],\n",
              " 2: [('baby', 0.02368010241339218),\n",
              "  ('real', 0.022144023342334996),\n",
              "  ('money', 0.02040408787707587),\n",
              "  ('pig', 0.018406917913935016),\n",
              "  ('time', 0.01813877733060347),\n",
              "  ('dirty', 0.015102468734283513),\n",
              "  ('ren', 0.014918039277037037),\n",
              "  ('give', 0.014538951344257202),\n",
              "  ('homeboy', 0.01447104113102237),\n",
              "  ('put', 0.014191636210331038)],\n",
              " 3: [('wutang', 0.019140886445449062),\n",
              "  ('overload', 0.013336856556520229),\n",
              "  ('rap', 0.012983169397922226),\n",
              "  ('check', 0.012393555258606876),\n",
              "  ('black', 0.012241656766390652),\n",
              "  ('style', 0.010834795619772757),\n",
              "  ('mcs', 0.009859033453960228),\n",
              "  ('head', 0.009783225041747187),\n",
              "  ('word', 0.009196737842537685),\n",
              "  ('blow', 0.008885940004924344)],\n",
              " 4: [('murder', 0.039539829774214726),\n",
              "  ('rot', 0.03043852064443234),\n",
              "  ('body', 0.0298233050982164),\n",
              "  ('die', 0.028269523224677674),\n",
              "  ('thug', 0.024246049035268634),\n",
              "  ('murda', 0.02130520533739274),\n",
              "  ('thugs', 0.018117494450158936),\n",
              "  ('war', 0.017917563519469427),\n",
              "  ('kill', 0.017722406677146037),\n",
              "  ('homies', 0.01633503738207166)],\n",
              " 5: [('bone', 0.04738380327074773),\n",
              "  ('muthafuckas', 0.030250604876503908),\n",
              "  ('tat', 0.029648782131129776),\n",
              "  ('gun', 0.02869978234354405),\n",
              "  ('die', 0.02683839588995889),\n",
              "  ('wid', 0.024278073274509832),\n",
              "  ('shoot', 0.02314390108942028),\n",
              "  ('gotta', 0.022441526986573312),\n",
              "  ('pop', 0.022413413736718846),\n",
              "  ('run', 0.0220959962257931)],\n",
              " 6: [('big', 0.017763866134485943),\n",
              "  ('bullshit', 0.016444588097377175),\n",
              "  ('kid', 0.014533096069364215),\n",
              "  ('crew', 0.014319188852216015),\n",
              "  ('black', 0.01406921656650178),\n",
              "  ('party', 0.013640054501794735),\n",
              "  ('life', 0.013538405925104746),\n",
              "  ('picture', 0.01321255711953129),\n",
              "  ('run', 0.01297265318473756),\n",
              "  ('mobb', 0.01282219824975362)],\n",
              " 7: [('life', 0.07118763758534145),\n",
              "  ('mary', 0.061980755221614794),\n",
              "  ('god', 0.05245147628035967),\n",
              "  ('marching', 0.05141457496656914),\n",
              "  ('lord', 0.03846515780041819),\n",
              "  ('smile', 0.035547851770634104),\n",
              "  ('love', 0.02911057475678186),\n",
              "  ('die', 0.028126786060735067),\n",
              "  ('judge', 0.028007747951110516),\n",
              "  ('time', 0.02630592089004137)],\n",
              " 8: [('money', 0.0659298710714004),\n",
              "  ('wake', 0.06416463244251412),\n",
              "  ('git', 0.04814441805793467),\n",
              "  ('day', 0.03520208933632466),\n",
              "  ('gotta', 0.02829841741811379),\n",
              "  ('work', 0.023411507607866873),\n",
              "  ('bars', 0.02139684129080047),\n",
              "  ('fallin', 0.021061917182185464),\n",
              "  ('month', 0.020613658195235703),\n",
              "  ('slippin', 0.01979346896777282)],\n",
              " 9: [('blunt', 0.10177792167526914),\n",
              "  ('smoke', 0.05807268070539298),\n",
              "  ('high', 0.053708988083345746),\n",
              "  ('weed', 0.05227758219682219),\n",
              "  ('greenthumb', 0.05007566325311608),\n",
              "  ('roll', 0.04649703093782175),\n",
              "  ('bong', 0.046079964542336836),\n",
              "  ('sugar', 0.038351859741686735),\n",
              "  ('budsmokers', 0.030706994913559847),\n",
              "  ('smokin', 0.030195102257127304)],\n",
              " 10: [('rap', 0.03904038057958896),\n",
              "  ('livin', 0.021161478888880897),\n",
              "  ('firm', 0.017875629787361673),\n",
              "  ('money', 0.01693644430797768),\n",
              "  ('made', 0.016016356817567017),\n",
              "  ('big', 0.015774121344793186),\n",
              "  ('life', 0.015153728946890283),\n",
              "  ('brain', 0.015124415221685035),\n",
              "  ('real', 0.014323212049959953),\n",
              "  ('moneys', 0.013639102734016228)],\n",
              " 11: [('brooklyn', 0.03607089661170212),\n",
              "  ('real', 0.031482575491367674),\n",
              "  ('school', 0.02971536560039293),\n",
              "  ('pave', 0.02830865206944562),\n",
              "  ('head', 0.027307025408578482),\n",
              "  ('fat', 0.023612026056228693),\n",
              "  ('york', 0.023606569007616332),\n",
              "  ('today', 0.023355774797592092),\n",
              "  ('reeltoreel', 0.019596150680313566),\n",
              "  ('style', 0.019525730947025522)],\n",
              " 12: [('love', 0.24377305484697598),\n",
              "  ('feelings', 0.0611803258081908),\n",
              "  ('stay', 0.055994689714071),\n",
              "  ('baby', 0.05155148028582393),\n",
              "  ('special', 0.04371761657343865),\n",
              "  ('sweet', 0.042632470614577735),\n",
              "  ('crazy', 0.040167646697138515),\n",
              "  ('life', 0.03780200295213549),\n",
              "  ('alright', 0.03650386624684024),\n",
              "  ('give', 0.03560763829607292)],\n",
              " 13: [('love', 0.06961050643419817),\n",
              "  ('boo', 0.06457284431114163),\n",
              "  ('baby', 0.05816143436496908),\n",
              "  ('real', 0.05758795365015772),\n",
              "  ('true', 0.04906322918804374),\n",
              "  ('steez', 0.042731186074705385),\n",
              "  ('poweru', 0.041500314642222584),\n",
              "  ('good', 0.03996336338394209),\n",
              "  ('ahh', 0.03924490083611953),\n",
              "  ('sun', 0.03632222492501717)],\n",
              " 14: [('rick', 0.09859867879360061),\n",
              "  ('ricky', 0.04229950247321219),\n",
              "  ('trapped', 0.04072967708166144),\n",
              "  ('slick', 0.03970779766719452),\n",
              "  ('kid', 0.028445292476073705),\n",
              "  ('ruler', 0.02473299578360761),\n",
              "  ('line', 0.022234507748694416),\n",
              "  ('uhhhuh', 0.021437833253005953),\n",
              "  ('outkast', 0.020810104200137857),\n",
              "  ('girl', 0.019538229210554314)],\n",
              " 15: [('enemies', 0.08271073920195754),\n",
              "  ('friend', 0.04643840603553738),\n",
              "  ('truth', 0.02349436470591105),\n",
              "  ('competition', 0.018114273505525892),\n",
              "  ('teeth', 0.018114273505525892),\n",
              "  ('turn', 0.01798986373088929),\n",
              "  ('teardrops', 0.016443745325781602),\n",
              "  ('defeat', 0.0160893952901397),\n",
              "  ('ride', 0.015969757962534317),\n",
              "  ('grit', 0.01558485809139032)]}"
            ]
          },
          "metadata": {},
          "execution_count": 167
        }
      ]
    },
    {
      "cell_type": "code",
      "source": [
        "topic_model_00s.get_topics()"
      ],
      "metadata": {
        "colab": {
          "base_uri": "https://localhost:8080/"
        },
        "id": "aQdbM3hXYYEn",
        "outputId": "3871c894-5214-41d3-ccf9-ac7ba32afa59"
      },
      "execution_count": null,
      "outputs": [
        {
          "output_type": "execute_result",
          "data": {
            "text/plain": [
              "{-1: [('love', 0.017300742784811158),\n",
              "  ('girl', 0.014234640584141596),\n",
              "  ('time', 0.012242727408329457),\n",
              "  ('baby', 0.011884155456625852),\n",
              "  ('give', 0.011290094052843702),\n",
              "  ('money', 0.010985801287870299),\n",
              "  ('put', 0.010823661098726735),\n",
              "  ('stop', 0.00998569694274539),\n",
              "  ('life', 0.009826918029071863),\n",
              "  ('big', 0.00964598898704482)],\n",
              " 0: [('gangsta', 0.028463241416239172),\n",
              "  ('rap', 0.02511100909679553),\n",
              "  ('hiphop', 0.01822844435970886),\n",
              "  ('life', 0.018186743080789432),\n",
              "  ('live', 0.016144056696835656),\n",
              "  ('game', 0.016112850391497405),\n",
              "  ('paper', 0.01473569820181177),\n",
              "  ('real', 0.01425506309737504),\n",
              "  ('gun', 0.013042333046291606),\n",
              "  ('hip', 0.012489603093529663)],\n",
              " 1: [('cry', 0.04148517837647694),\n",
              "  ('life', 0.04110160088038328),\n",
              "  ('pain', 0.03576482522561721),\n",
              "  ('someday', 0.029993589643739615),\n",
              "  ('ohhhh', 0.028114550667212752),\n",
              "  ('hell', 0.025701828101034944),\n",
              "  ('love', 0.023634518707185078),\n",
              "  ('lord', 0.02354628668965215),\n",
              "  ('god', 0.023310191420344153),\n",
              "  ('feel', 0.021842322288944508)],\n",
              " 2: [('gon', 0.04244741571762719),\n",
              "  ('boom', 0.03713305721274037),\n",
              "  ('clap', 0.03477254274277747),\n",
              "  ('low', 0.032283632665521006),\n",
              "  ('alright', 0.02543656475361483),\n",
              "  ('blades', 0.02300855407567885),\n",
              "  ('chop', 0.020416785285832864),\n",
              "  ('funky', 0.02014336745877643),\n",
              "  ('bouncin', 0.01923730841698689),\n",
              "  ('ugh', 0.01886393209327503)],\n",
              " 3: [('halo', 0.09606531471999268),\n",
              "  ('love', 0.08189617387872726),\n",
              "  ('lose', 0.04815670096346831),\n",
              "  ('lives', 0.032757233657453595),\n",
              "  ('lap', 0.032173386806559526),\n",
              "  ('time', 0.031974993744433355),\n",
              "  ('feel', 0.03192120215926479),\n",
              "  ('times', 0.03015028992722265),\n",
              "  ('told', 0.027740176040226494),\n",
              "  ('baby', 0.026648114055118122)],\n",
              " 4: [('champ', 0.03383594388916577),\n",
              "  ('road', 0.026699502725277085),\n",
              "  ('moneyhey', 0.022890609167007744),\n",
              "  ('gon', 0.021523720831478875),\n",
              "  ('girl', 0.02045983136087653),\n",
              "  ('yeaheah', 0.01930462897961268),\n",
              "  ('put', 0.01890624519337643),\n",
              "  ('wit', 0.018657985989639112),\n",
              "  ('time', 0.01864537753560591),\n",
              "  ('run', 0.017251814967312675)],\n",
              " 5: [('girl', 0.03390126752634959),\n",
              "  ('extasy', 0.03180914942403893),\n",
              "  ('feel', 0.031644181513052136),\n",
              "  ('shawty', 0.03162151140680481),\n",
              "  ('rollin', 0.030911819054058307),\n",
              "  ('sexin', 0.030845235805128664),\n",
              "  ('put', 0.027091929625754733),\n",
              "  ('pillish', 0.0268626264400134),\n",
              "  ('whoa', 0.02577726664113149),\n",
              "  ('fire', 0.025102048374194635)],\n",
              " 6: [('ghetto', 0.07320038482415987),\n",
              "  ('home', 0.02740290378378051),\n",
              "  ('underground', 0.026389768614352486),\n",
              "  ('hood', 0.023556653391429695),\n",
              "  ('riot', 0.02206055726653906),\n",
              "  ('gghetto', 0.021769032749359856),\n",
              "  ('dblock', 0.021370984098961234),\n",
              "  ('people', 0.01935609058704159),\n",
              "  ('maker', 0.017019575725281948),\n",
              "  ('kids', 0.01700496418531627)],\n",
              " 7: [('pop', 0.04964963832159381),\n",
              "  ('dumb', 0.048108130534065964),\n",
              "  ('bricks', 0.03793319581658125),\n",
              "  ('sprung', 0.03004579849322344),\n",
              "  ('photo', 0.028547603953285344),\n",
              "  ('shoot', 0.02588188047479224),\n",
              "  ('head', 0.0242492681646306),\n",
              "  ('bout', 0.018978358972458195),\n",
              "  ('fool', 0.018517081829997745),\n",
              "  ('act', 0.01817834294538557)],\n",
              " 8: [('baby', 0.14345112093991552),\n",
              "  ('give', 0.03254704798300381),\n",
              "  ('crazy', 0.03187568130277341),\n",
              "  ('falls', 0.03058455748626624),\n",
              "  ('feel', 0.029098257923523517),\n",
              "  ('hush', 0.028668985709847484),\n",
              "  ('love', 0.025293510340983347),\n",
              "  ('cha', 0.025258539748121915),\n",
              "  ('girl', 0.025066350195386024),\n",
              "  ('call', 0.025026931377610296)],\n",
              " 9: [('technique', 0.033948871505002115),\n",
              "  ('truth', 0.029124612285123242),\n",
              "  ('world', 0.027189565396276944),\n",
              "  ('immortal', 0.02560762062493768),\n",
              "  ('people', 0.02541185695062247),\n",
              "  ('government', 0.023175076015141793),\n",
              "  ('bush', 0.019862759387583074),\n",
              "  ('freedom', 0.01809519736378207),\n",
              "  ('children', 0.01799921233189185),\n",
              "  ('towers', 0.01695098946608073)],\n",
              " 10: [('carip', 0.03720665291304598),\n",
              "  ('block', 0.03700484328266319),\n",
              "  ('slim', 0.036762331139991264),\n",
              "  ('shady', 0.03565806868540542),\n",
              "  ('suwhoop', 0.03476906729257303),\n",
              "  ('stand', 0.029532644733487826),\n",
              "  ('game', 0.02899362480250135),\n",
              "  ('hood', 0.025780434833515095),\n",
              "  ('give', 0.024744191122875497),\n",
              "  ('jealous', 0.024705490766833354)],\n",
              " 11: [('money', 0.11153689077966324),\n",
              "  ('grill', 0.0741809196172574),\n",
              "  ('valentines', 0.05356029643536229),\n",
              "  ('ball', 0.053056101437015925),\n",
              "  ('upgrade', 0.04723022443731592),\n",
              "  ('ching', 0.03256531408506779),\n",
              "  ('humming', 0.026276425223470776),\n",
              "  ('happy', 0.0253356332976691),\n",
              "  ('day', 0.025123467328375455),\n",
              "  ('bring', 0.02382460804133284)],\n",
              " 12: [('clap', 0.07192733013840216),\n",
              "  ('move', 0.06288537502132979),\n",
              "  ('nose', 0.05545230206712247),\n",
              "  ('real', 0.05291972496386829),\n",
              "  ('red', 0.050260291221513806),\n",
              "  ('stand', 0.03201409274810158),\n",
              "  ('mcgirt', 0.025638818633036763),\n",
              "  ('hands', 0.023881252663432714),\n",
              "  ('treat', 0.023426882005740026),\n",
              "  ('snitch', 0.023366479105576897)],\n",
              " 13: [('canibus', 0.05838660130885451),\n",
              "  ('renaissance', 0.03356580366542326),\n",
              "  ('step', 0.03307398068396836),\n",
              "  ('rhyme', 0.02467606564494731),\n",
              "  ('left', 0.023358148436642624),\n",
              "  ('time', 0.020262010899518693),\n",
              "  ('mic', 0.019573731149081824),\n",
              "  ('heart', 0.01850285991095295),\n",
              "  ('put', 0.017993529908178946),\n",
              "  ('roast', 0.017019957247020844)]}"
            ]
          },
          "metadata": {},
          "execution_count": 168
        }
      ]
    },
    {
      "cell_type": "code",
      "source": [
        "topic_model_10s.get_topics()"
      ],
      "metadata": {
        "colab": {
          "base_uri": "https://localhost:8080/"
        },
        "id": "IEkf63MdYtbA",
        "outputId": "accce1d2-b5f9-4c72-8e29-2b18a7473805"
      },
      "execution_count": null,
      "outputs": [
        {
          "output_type": "execute_result",
          "data": {
            "text/plain": [
              "{-1: [('love', 0.038996155855525114),\n",
              "  ('time', 0.03287927132581875),\n",
              "  ('work', 0.026977517189616426),\n",
              "  ('money', 0.02553832012470873),\n",
              "  ('gotta', 0.024736501852285302),\n",
              "  ('good', 0.02321361372975998),\n",
              "  ('gon', 0.022708070687659336),\n",
              "  ('night', 0.022463441269167043),\n",
              "  ('baby', 0.02131807492811026),\n",
              "  ('girl', 0.0196373109278561)],\n",
              " 0: [('love', 0.025184168823060453),\n",
              "  ('money', 0.024717706517413795),\n",
              "  ('time', 0.022705244638660686),\n",
              "  ('gon', 0.02052355469550781),\n",
              "  ('put', 0.02021959633083631),\n",
              "  ('baby', 0.01972014709833895),\n",
              "  ('life', 0.018181335663944625),\n",
              "  ('real', 0.017076742088427136),\n",
              "  ('gotta', 0.017061846993496062),\n",
              "  ('feel', 0.01651905212337298)],\n",
              " 1: [('morning', 0.08788096349916225),\n",
              "  ('find', 0.08359543583976971),\n",
              "  ('late', 0.08325972735087173),\n",
              "  ('balm', 0.08298387174018099),\n",
              "  ('time', 0.0821388449446491),\n",
              "  ('bollective', 0.08037251479862667),\n",
              "  ('bool', 0.07797644238035313),\n",
              "  ('night', 0.0694432513171886),\n",
              "  ('meh', 0.0679613730678262),\n",
              "  ('bed', 0.05110115026454854)]}"
            ]
          },
          "metadata": {},
          "execution_count": 169
        }
      ]
    },
    {
      "cell_type": "code",
      "source": [
        "topic_model_80s.visualize_barchart()"
      ],
      "metadata": {
        "colab": {
          "base_uri": "https://localhost:8080/",
          "height": 342
        },
        "id": "ytkKy8mUbuLr",
        "outputId": "08546094-5610-4ff4-85b3-6220f36138e9"
      },
      "execution_count": null,
      "outputs": [
        {
          "output_type": "display_data",
          "data": {
            "text/html": [
              "<html>\n",
              "<head><meta charset=\"utf-8\" /></head>\n",
              "<body>\n",
              "    <div>            <script src=\"https://cdnjs.cloudflare.com/ajax/libs/mathjax/2.7.5/MathJax.js?config=TeX-AMS-MML_SVG\"></script><script type=\"text/javascript\">if (window.MathJax) {MathJax.Hub.Config({SVG: {font: \"STIX-Web\"}});}</script>                <script type=\"text/javascript\">window.PlotlyConfig = {MathJaxConfig: 'local'};</script>\n",
              "        <script src=\"https://cdn.plot.ly/plotly-2.8.3.min.js\"></script>                <div id=\"cfc98387-0637-40d3-85fb-26c12e14ba90\" class=\"plotly-graph-div\" style=\"height:325.0px; width:1000px;\"></div>            <script type=\"text/javascript\">                                    window.PLOTLYENV=window.PLOTLYENV || {};                                    if (document.getElementById(\"cfc98387-0637-40d3-85fb-26c12e14ba90\")) {                    Plotly.newPlot(                        \"cfc98387-0637-40d3-85fb-26c12e14ba90\",                        [{\"marker\":{\"color\":\"#D55E00\"},\"orientation\":\"h\",\"x\":[0.022524794704567468,0.024727673804415158,0.028935566980791205,0.03052873149417244,0.03113538862510041],\"y\":[\"girls  \",\"geto  \",\"girl  \",\"shes  \",\"money  \"],\"type\":\"bar\",\"xaxis\":\"x\",\"yaxis\":\"y\"},{\"marker\":{\"color\":\"#0072B2\"},\"orientation\":\"h\",\"x\":[0.024068473168241514,0.029633078512947116,0.03723635645170683,0.03963662458714861,0.03989111135543636],\"y\":[\"rappers  \",\"time  \",\"rhymes  \",\"rhyme  \",\"mic  \"],\"type\":\"bar\",\"xaxis\":\"x2\",\"yaxis\":\"y2\"}],                        {\"template\":{\"data\":{\"barpolar\":[{\"marker\":{\"line\":{\"color\":\"white\",\"width\":0.5},\"pattern\":{\"fillmode\":\"overlay\",\"size\":10,\"solidity\":0.2}},\"type\":\"barpolar\"}],\"bar\":[{\"error_x\":{\"color\":\"#2a3f5f\"},\"error_y\":{\"color\":\"#2a3f5f\"},\"marker\":{\"line\":{\"color\":\"white\",\"width\":0.5},\"pattern\":{\"fillmode\":\"overlay\",\"size\":10,\"solidity\":0.2}},\"type\":\"bar\"}],\"carpet\":[{\"aaxis\":{\"endlinecolor\":\"#2a3f5f\",\"gridcolor\":\"#C8D4E3\",\"linecolor\":\"#C8D4E3\",\"minorgridcolor\":\"#C8D4E3\",\"startlinecolor\":\"#2a3f5f\"},\"baxis\":{\"endlinecolor\":\"#2a3f5f\",\"gridcolor\":\"#C8D4E3\",\"linecolor\":\"#C8D4E3\",\"minorgridcolor\":\"#C8D4E3\",\"startlinecolor\":\"#2a3f5f\"},\"type\":\"carpet\"}],\"choropleth\":[{\"colorbar\":{\"outlinewidth\":0,\"ticks\":\"\"},\"type\":\"choropleth\"}],\"contourcarpet\":[{\"colorbar\":{\"outlinewidth\":0,\"ticks\":\"\"},\"type\":\"contourcarpet\"}],\"contour\":[{\"colorbar\":{\"outlinewidth\":0,\"ticks\":\"\"},\"colorscale\":[[0.0,\"#0d0887\"],[0.1111111111111111,\"#46039f\"],[0.2222222222222222,\"#7201a8\"],[0.3333333333333333,\"#9c179e\"],[0.4444444444444444,\"#bd3786\"],[0.5555555555555556,\"#d8576b\"],[0.6666666666666666,\"#ed7953\"],[0.7777777777777778,\"#fb9f3a\"],[0.8888888888888888,\"#fdca26\"],[1.0,\"#f0f921\"]],\"type\":\"contour\"}],\"heatmapgl\":[{\"colorbar\":{\"outlinewidth\":0,\"ticks\":\"\"},\"colorscale\":[[0.0,\"#0d0887\"],[0.1111111111111111,\"#46039f\"],[0.2222222222222222,\"#7201a8\"],[0.3333333333333333,\"#9c179e\"],[0.4444444444444444,\"#bd3786\"],[0.5555555555555556,\"#d8576b\"],[0.6666666666666666,\"#ed7953\"],[0.7777777777777778,\"#fb9f3a\"],[0.8888888888888888,\"#fdca26\"],[1.0,\"#f0f921\"]],\"type\":\"heatmapgl\"}],\"heatmap\":[{\"colorbar\":{\"outlinewidth\":0,\"ticks\":\"\"},\"colorscale\":[[0.0,\"#0d0887\"],[0.1111111111111111,\"#46039f\"],[0.2222222222222222,\"#7201a8\"],[0.3333333333333333,\"#9c179e\"],[0.4444444444444444,\"#bd3786\"],[0.5555555555555556,\"#d8576b\"],[0.6666666666666666,\"#ed7953\"],[0.7777777777777778,\"#fb9f3a\"],[0.8888888888888888,\"#fdca26\"],[1.0,\"#f0f921\"]],\"type\":\"heatmap\"}],\"histogram2dcontour\":[{\"colorbar\":{\"outlinewidth\":0,\"ticks\":\"\"},\"colorscale\":[[0.0,\"#0d0887\"],[0.1111111111111111,\"#46039f\"],[0.2222222222222222,\"#7201a8\"],[0.3333333333333333,\"#9c179e\"],[0.4444444444444444,\"#bd3786\"],[0.5555555555555556,\"#d8576b\"],[0.6666666666666666,\"#ed7953\"],[0.7777777777777778,\"#fb9f3a\"],[0.8888888888888888,\"#fdca26\"],[1.0,\"#f0f921\"]],\"type\":\"histogram2dcontour\"}],\"histogram2d\":[{\"colorbar\":{\"outlinewidth\":0,\"ticks\":\"\"},\"colorscale\":[[0.0,\"#0d0887\"],[0.1111111111111111,\"#46039f\"],[0.2222222222222222,\"#7201a8\"],[0.3333333333333333,\"#9c179e\"],[0.4444444444444444,\"#bd3786\"],[0.5555555555555556,\"#d8576b\"],[0.6666666666666666,\"#ed7953\"],[0.7777777777777778,\"#fb9f3a\"],[0.8888888888888888,\"#fdca26\"],[1.0,\"#f0f921\"]],\"type\":\"histogram2d\"}],\"histogram\":[{\"marker\":{\"pattern\":{\"fillmode\":\"overlay\",\"size\":10,\"solidity\":0.2}},\"type\":\"histogram\"}],\"mesh3d\":[{\"colorbar\":{\"outlinewidth\":0,\"ticks\":\"\"},\"type\":\"mesh3d\"}],\"parcoords\":[{\"line\":{\"colorbar\":{\"outlinewidth\":0,\"ticks\":\"\"}},\"type\":\"parcoords\"}],\"pie\":[{\"automargin\":true,\"type\":\"pie\"}],\"scatter3d\":[{\"line\":{\"colorbar\":{\"outlinewidth\":0,\"ticks\":\"\"}},\"marker\":{\"colorbar\":{\"outlinewidth\":0,\"ticks\":\"\"}},\"type\":\"scatter3d\"}],\"scattercarpet\":[{\"marker\":{\"colorbar\":{\"outlinewidth\":0,\"ticks\":\"\"}},\"type\":\"scattercarpet\"}],\"scattergeo\":[{\"marker\":{\"colorbar\":{\"outlinewidth\":0,\"ticks\":\"\"}},\"type\":\"scattergeo\"}],\"scattergl\":[{\"marker\":{\"colorbar\":{\"outlinewidth\":0,\"ticks\":\"\"}},\"type\":\"scattergl\"}],\"scattermapbox\":[{\"marker\":{\"colorbar\":{\"outlinewidth\":0,\"ticks\":\"\"}},\"type\":\"scattermapbox\"}],\"scatterpolargl\":[{\"marker\":{\"colorbar\":{\"outlinewidth\":0,\"ticks\":\"\"}},\"type\":\"scatterpolargl\"}],\"scatterpolar\":[{\"marker\":{\"colorbar\":{\"outlinewidth\":0,\"ticks\":\"\"}},\"type\":\"scatterpolar\"}],\"scatter\":[{\"marker\":{\"colorbar\":{\"outlinewidth\":0,\"ticks\":\"\"}},\"type\":\"scatter\"}],\"scatterternary\":[{\"marker\":{\"colorbar\":{\"outlinewidth\":0,\"ticks\":\"\"}},\"type\":\"scatterternary\"}],\"surface\":[{\"colorbar\":{\"outlinewidth\":0,\"ticks\":\"\"},\"colorscale\":[[0.0,\"#0d0887\"],[0.1111111111111111,\"#46039f\"],[0.2222222222222222,\"#7201a8\"],[0.3333333333333333,\"#9c179e\"],[0.4444444444444444,\"#bd3786\"],[0.5555555555555556,\"#d8576b\"],[0.6666666666666666,\"#ed7953\"],[0.7777777777777778,\"#fb9f3a\"],[0.8888888888888888,\"#fdca26\"],[1.0,\"#f0f921\"]],\"type\":\"surface\"}],\"table\":[{\"cells\":{\"fill\":{\"color\":\"#EBF0F8\"},\"line\":{\"color\":\"white\"}},\"header\":{\"fill\":{\"color\":\"#C8D4E3\"},\"line\":{\"color\":\"white\"}},\"type\":\"table\"}]},\"layout\":{\"annotationdefaults\":{\"arrowcolor\":\"#2a3f5f\",\"arrowhead\":0,\"arrowwidth\":1},\"autotypenumbers\":\"strict\",\"coloraxis\":{\"colorbar\":{\"outlinewidth\":0,\"ticks\":\"\"}},\"colorscale\":{\"diverging\":[[0,\"#8e0152\"],[0.1,\"#c51b7d\"],[0.2,\"#de77ae\"],[0.3,\"#f1b6da\"],[0.4,\"#fde0ef\"],[0.5,\"#f7f7f7\"],[0.6,\"#e6f5d0\"],[0.7,\"#b8e186\"],[0.8,\"#7fbc41\"],[0.9,\"#4d9221\"],[1,\"#276419\"]],\"sequential\":[[0.0,\"#0d0887\"],[0.1111111111111111,\"#46039f\"],[0.2222222222222222,\"#7201a8\"],[0.3333333333333333,\"#9c179e\"],[0.4444444444444444,\"#bd3786\"],[0.5555555555555556,\"#d8576b\"],[0.6666666666666666,\"#ed7953\"],[0.7777777777777778,\"#fb9f3a\"],[0.8888888888888888,\"#fdca26\"],[1.0,\"#f0f921\"]],\"sequentialminus\":[[0.0,\"#0d0887\"],[0.1111111111111111,\"#46039f\"],[0.2222222222222222,\"#7201a8\"],[0.3333333333333333,\"#9c179e\"],[0.4444444444444444,\"#bd3786\"],[0.5555555555555556,\"#d8576b\"],[0.6666666666666666,\"#ed7953\"],[0.7777777777777778,\"#fb9f3a\"],[0.8888888888888888,\"#fdca26\"],[1.0,\"#f0f921\"]]},\"colorway\":[\"#636efa\",\"#EF553B\",\"#00cc96\",\"#ab63fa\",\"#FFA15A\",\"#19d3f3\",\"#FF6692\",\"#B6E880\",\"#FF97FF\",\"#FECB52\"],\"font\":{\"color\":\"#2a3f5f\"},\"geo\":{\"bgcolor\":\"white\",\"lakecolor\":\"white\",\"landcolor\":\"white\",\"showlakes\":true,\"showland\":true,\"subunitcolor\":\"#C8D4E3\"},\"hoverlabel\":{\"align\":\"left\"},\"hovermode\":\"closest\",\"mapbox\":{\"style\":\"light\"},\"paper_bgcolor\":\"white\",\"plot_bgcolor\":\"white\",\"polar\":{\"angularaxis\":{\"gridcolor\":\"#EBF0F8\",\"linecolor\":\"#EBF0F8\",\"ticks\":\"\"},\"bgcolor\":\"white\",\"radialaxis\":{\"gridcolor\":\"#EBF0F8\",\"linecolor\":\"#EBF0F8\",\"ticks\":\"\"}},\"scene\":{\"xaxis\":{\"backgroundcolor\":\"white\",\"gridcolor\":\"#DFE8F3\",\"gridwidth\":2,\"linecolor\":\"#EBF0F8\",\"showbackground\":true,\"ticks\":\"\",\"zerolinecolor\":\"#EBF0F8\"},\"yaxis\":{\"backgroundcolor\":\"white\",\"gridcolor\":\"#DFE8F3\",\"gridwidth\":2,\"linecolor\":\"#EBF0F8\",\"showbackground\":true,\"ticks\":\"\",\"zerolinecolor\":\"#EBF0F8\"},\"zaxis\":{\"backgroundcolor\":\"white\",\"gridcolor\":\"#DFE8F3\",\"gridwidth\":2,\"linecolor\":\"#EBF0F8\",\"showbackground\":true,\"ticks\":\"\",\"zerolinecolor\":\"#EBF0F8\"}},\"shapedefaults\":{\"line\":{\"color\":\"#2a3f5f\"}},\"ternary\":{\"aaxis\":{\"gridcolor\":\"#DFE8F3\",\"linecolor\":\"#A2B1C6\",\"ticks\":\"\"},\"baxis\":{\"gridcolor\":\"#DFE8F3\",\"linecolor\":\"#A2B1C6\",\"ticks\":\"\"},\"bgcolor\":\"white\",\"caxis\":{\"gridcolor\":\"#DFE8F3\",\"linecolor\":\"#A2B1C6\",\"ticks\":\"\"}},\"title\":{\"x\":0.05},\"xaxis\":{\"automargin\":true,\"gridcolor\":\"#EBF0F8\",\"linecolor\":\"#EBF0F8\",\"ticks\":\"\",\"title\":{\"standoff\":15},\"zerolinecolor\":\"#EBF0F8\",\"zerolinewidth\":2},\"yaxis\":{\"automargin\":true,\"gridcolor\":\"#EBF0F8\",\"linecolor\":\"#EBF0F8\",\"ticks\":\"\",\"title\":{\"standoff\":15},\"zerolinecolor\":\"#EBF0F8\",\"zerolinewidth\":2}}},\"xaxis\":{\"anchor\":\"y\",\"domain\":[0.0,0.175],\"showgrid\":true},\"yaxis\":{\"anchor\":\"x\",\"domain\":[0.0,1.0],\"showgrid\":true},\"xaxis2\":{\"anchor\":\"y2\",\"domain\":[0.275,0.45],\"showgrid\":true},\"yaxis2\":{\"anchor\":\"x2\",\"domain\":[0.0,1.0],\"showgrid\":true},\"xaxis3\":{\"anchor\":\"y3\",\"domain\":[0.55,0.7250000000000001],\"showgrid\":true},\"yaxis3\":{\"anchor\":\"x3\",\"domain\":[0.0,1.0],\"showgrid\":true},\"xaxis4\":{\"anchor\":\"y4\",\"domain\":[0.825,1.0],\"showgrid\":true},\"yaxis4\":{\"anchor\":\"x4\",\"domain\":[0.0,1.0],\"showgrid\":true},\"annotations\":[{\"font\":{\"size\":16},\"showarrow\":false,\"text\":\"Topic 0\",\"x\":0.0875,\"xanchor\":\"center\",\"xref\":\"paper\",\"y\":1.0,\"yanchor\":\"bottom\",\"yref\":\"paper\"},{\"font\":{\"size\":16},\"showarrow\":false,\"text\":\"Topic 1\",\"x\":0.36250000000000004,\"xanchor\":\"center\",\"xref\":\"paper\",\"y\":1.0,\"yanchor\":\"bottom\",\"yref\":\"paper\"}],\"title\":{\"font\":{\"size\":22,\"color\":\"Black\"},\"text\":\"<b>Topic Word Scores\",\"x\":0.5,\"xanchor\":\"center\",\"yanchor\":\"top\"},\"hoverlabel\":{\"font\":{\"size\":16,\"family\":\"Rockwell\"},\"bgcolor\":\"white\"},\"showlegend\":false,\"width\":1000,\"height\":325.0},                        {\"responsive\": true}                    ).then(function(){\n",
              "                            \n",
              "var gd = document.getElementById('cfc98387-0637-40d3-85fb-26c12e14ba90');\n",
              "var x = new MutationObserver(function (mutations, observer) {{\n",
              "        var display = window.getComputedStyle(gd).display;\n",
              "        if (!display || display === 'none') {{\n",
              "            console.log([gd, 'removed!']);\n",
              "            Plotly.purge(gd);\n",
              "            observer.disconnect();\n",
              "        }}\n",
              "}});\n",
              "\n",
              "// Listen for the removal of the full notebook cells\n",
              "var notebookContainer = gd.closest('#notebook-container');\n",
              "if (notebookContainer) {{\n",
              "    x.observe(notebookContainer, {childList: true});\n",
              "}}\n",
              "\n",
              "// Listen for the clearing of the current output cell\n",
              "var outputEl = gd.closest('.output');\n",
              "if (outputEl) {{\n",
              "    x.observe(outputEl, {childList: true});\n",
              "}}\n",
              "\n",
              "                        })                };                            </script>        </div>\n",
              "</body>\n",
              "</html>"
            ]
          },
          "metadata": {}
        }
      ]
    },
    {
      "cell_type": "code",
      "source": [
        "fig = topic_model_90s.visualize_barchart(n_words=8, top_n_topics=16, width=220, height=220)\n",
        "fig.write_html('topics_90s.html')"
      ],
      "metadata": {
        "id": "KsexgsrDb3sw"
      },
      "execution_count": null,
      "outputs": []
    },
    {
      "cell_type": "code",
      "source": [
        "fig = topic_model_00s.visualize_barchart(n_words=8, top_n_topics=10, width=220, height=220)\n",
        "fig.write_html('topics_00s.html')"
      ],
      "metadata": {
        "id": "40YH-JsDcAgr"
      },
      "execution_count": null,
      "outputs": []
    },
    {
      "cell_type": "code",
      "source": [
        "topic_model_10s.visualize_barchart()"
      ],
      "metadata": {
        "colab": {
          "base_uri": "https://localhost:8080/",
          "height": 342
        },
        "id": "f8ahDZzrcHTk",
        "outputId": "0896af0a-4921-493d-e79d-e4b62ee2dd02"
      },
      "execution_count": null,
      "outputs": [
        {
          "output_type": "display_data",
          "data": {
            "text/html": [
              "<html>\n",
              "<head><meta charset=\"utf-8\" /></head>\n",
              "<body>\n",
              "    <div>            <script src=\"https://cdnjs.cloudflare.com/ajax/libs/mathjax/2.7.5/MathJax.js?config=TeX-AMS-MML_SVG\"></script><script type=\"text/javascript\">if (window.MathJax) {MathJax.Hub.Config({SVG: {font: \"STIX-Web\"}});}</script>                <script type=\"text/javascript\">window.PlotlyConfig = {MathJaxConfig: 'local'};</script>\n",
              "        <script src=\"https://cdn.plot.ly/plotly-2.8.3.min.js\"></script>                <div id=\"6e7529d2-a7fa-435f-a372-f3abb16f713b\" class=\"plotly-graph-div\" style=\"height:325.0px; width:1000px;\"></div>            <script type=\"text/javascript\">                                    window.PLOTLYENV=window.PLOTLYENV || {};                                    if (document.getElementById(\"6e7529d2-a7fa-435f-a372-f3abb16f713b\")) {                    Plotly.newPlot(                        \"6e7529d2-a7fa-435f-a372-f3abb16f713b\",                        [{\"marker\":{\"color\":\"#D55E00\"},\"orientation\":\"h\",\"x\":[0.02021959633083631,0.02052355469550781,0.022705244638660686,0.024717706517413795,0.025184168823060453],\"y\":[\"put  \",\"gon  \",\"time  \",\"money  \",\"love  \"],\"type\":\"bar\",\"xaxis\":\"x\",\"yaxis\":\"y\"},{\"marker\":{\"color\":\"#0072B2\"},\"orientation\":\"h\",\"x\":[0.0821388449446491,0.08298387174018099,0.08325972735087173,0.08359543583976971,0.08788096349916225],\"y\":[\"time  \",\"balm  \",\"late  \",\"find  \",\"morning  \"],\"type\":\"bar\",\"xaxis\":\"x2\",\"yaxis\":\"y2\"}],                        {\"template\":{\"data\":{\"barpolar\":[{\"marker\":{\"line\":{\"color\":\"white\",\"width\":0.5},\"pattern\":{\"fillmode\":\"overlay\",\"size\":10,\"solidity\":0.2}},\"type\":\"barpolar\"}],\"bar\":[{\"error_x\":{\"color\":\"#2a3f5f\"},\"error_y\":{\"color\":\"#2a3f5f\"},\"marker\":{\"line\":{\"color\":\"white\",\"width\":0.5},\"pattern\":{\"fillmode\":\"overlay\",\"size\":10,\"solidity\":0.2}},\"type\":\"bar\"}],\"carpet\":[{\"aaxis\":{\"endlinecolor\":\"#2a3f5f\",\"gridcolor\":\"#C8D4E3\",\"linecolor\":\"#C8D4E3\",\"minorgridcolor\":\"#C8D4E3\",\"startlinecolor\":\"#2a3f5f\"},\"baxis\":{\"endlinecolor\":\"#2a3f5f\",\"gridcolor\":\"#C8D4E3\",\"linecolor\":\"#C8D4E3\",\"minorgridcolor\":\"#C8D4E3\",\"startlinecolor\":\"#2a3f5f\"},\"type\":\"carpet\"}],\"choropleth\":[{\"colorbar\":{\"outlinewidth\":0,\"ticks\":\"\"},\"type\":\"choropleth\"}],\"contourcarpet\":[{\"colorbar\":{\"outlinewidth\":0,\"ticks\":\"\"},\"type\":\"contourcarpet\"}],\"contour\":[{\"colorbar\":{\"outlinewidth\":0,\"ticks\":\"\"},\"colorscale\":[[0.0,\"#0d0887\"],[0.1111111111111111,\"#46039f\"],[0.2222222222222222,\"#7201a8\"],[0.3333333333333333,\"#9c179e\"],[0.4444444444444444,\"#bd3786\"],[0.5555555555555556,\"#d8576b\"],[0.6666666666666666,\"#ed7953\"],[0.7777777777777778,\"#fb9f3a\"],[0.8888888888888888,\"#fdca26\"],[1.0,\"#f0f921\"]],\"type\":\"contour\"}],\"heatmapgl\":[{\"colorbar\":{\"outlinewidth\":0,\"ticks\":\"\"},\"colorscale\":[[0.0,\"#0d0887\"],[0.1111111111111111,\"#46039f\"],[0.2222222222222222,\"#7201a8\"],[0.3333333333333333,\"#9c179e\"],[0.4444444444444444,\"#bd3786\"],[0.5555555555555556,\"#d8576b\"],[0.6666666666666666,\"#ed7953\"],[0.7777777777777778,\"#fb9f3a\"],[0.8888888888888888,\"#fdca26\"],[1.0,\"#f0f921\"]],\"type\":\"heatmapgl\"}],\"heatmap\":[{\"colorbar\":{\"outlinewidth\":0,\"ticks\":\"\"},\"colorscale\":[[0.0,\"#0d0887\"],[0.1111111111111111,\"#46039f\"],[0.2222222222222222,\"#7201a8\"],[0.3333333333333333,\"#9c179e\"],[0.4444444444444444,\"#bd3786\"],[0.5555555555555556,\"#d8576b\"],[0.6666666666666666,\"#ed7953\"],[0.7777777777777778,\"#fb9f3a\"],[0.8888888888888888,\"#fdca26\"],[1.0,\"#f0f921\"]],\"type\":\"heatmap\"}],\"histogram2dcontour\":[{\"colorbar\":{\"outlinewidth\":0,\"ticks\":\"\"},\"colorscale\":[[0.0,\"#0d0887\"],[0.1111111111111111,\"#46039f\"],[0.2222222222222222,\"#7201a8\"],[0.3333333333333333,\"#9c179e\"],[0.4444444444444444,\"#bd3786\"],[0.5555555555555556,\"#d8576b\"],[0.6666666666666666,\"#ed7953\"],[0.7777777777777778,\"#fb9f3a\"],[0.8888888888888888,\"#fdca26\"],[1.0,\"#f0f921\"]],\"type\":\"histogram2dcontour\"}],\"histogram2d\":[{\"colorbar\":{\"outlinewidth\":0,\"ticks\":\"\"},\"colorscale\":[[0.0,\"#0d0887\"],[0.1111111111111111,\"#46039f\"],[0.2222222222222222,\"#7201a8\"],[0.3333333333333333,\"#9c179e\"],[0.4444444444444444,\"#bd3786\"],[0.5555555555555556,\"#d8576b\"],[0.6666666666666666,\"#ed7953\"],[0.7777777777777778,\"#fb9f3a\"],[0.8888888888888888,\"#fdca26\"],[1.0,\"#f0f921\"]],\"type\":\"histogram2d\"}],\"histogram\":[{\"marker\":{\"pattern\":{\"fillmode\":\"overlay\",\"size\":10,\"solidity\":0.2}},\"type\":\"histogram\"}],\"mesh3d\":[{\"colorbar\":{\"outlinewidth\":0,\"ticks\":\"\"},\"type\":\"mesh3d\"}],\"parcoords\":[{\"line\":{\"colorbar\":{\"outlinewidth\":0,\"ticks\":\"\"}},\"type\":\"parcoords\"}],\"pie\":[{\"automargin\":true,\"type\":\"pie\"}],\"scatter3d\":[{\"line\":{\"colorbar\":{\"outlinewidth\":0,\"ticks\":\"\"}},\"marker\":{\"colorbar\":{\"outlinewidth\":0,\"ticks\":\"\"}},\"type\":\"scatter3d\"}],\"scattercarpet\":[{\"marker\":{\"colorbar\":{\"outlinewidth\":0,\"ticks\":\"\"}},\"type\":\"scattercarpet\"}],\"scattergeo\":[{\"marker\":{\"colorbar\":{\"outlinewidth\":0,\"ticks\":\"\"}},\"type\":\"scattergeo\"}],\"scattergl\":[{\"marker\":{\"colorbar\":{\"outlinewidth\":0,\"ticks\":\"\"}},\"type\":\"scattergl\"}],\"scattermapbox\":[{\"marker\":{\"colorbar\":{\"outlinewidth\":0,\"ticks\":\"\"}},\"type\":\"scattermapbox\"}],\"scatterpolargl\":[{\"marker\":{\"colorbar\":{\"outlinewidth\":0,\"ticks\":\"\"}},\"type\":\"scatterpolargl\"}],\"scatterpolar\":[{\"marker\":{\"colorbar\":{\"outlinewidth\":0,\"ticks\":\"\"}},\"type\":\"scatterpolar\"}],\"scatter\":[{\"marker\":{\"colorbar\":{\"outlinewidth\":0,\"ticks\":\"\"}},\"type\":\"scatter\"}],\"scatterternary\":[{\"marker\":{\"colorbar\":{\"outlinewidth\":0,\"ticks\":\"\"}},\"type\":\"scatterternary\"}],\"surface\":[{\"colorbar\":{\"outlinewidth\":0,\"ticks\":\"\"},\"colorscale\":[[0.0,\"#0d0887\"],[0.1111111111111111,\"#46039f\"],[0.2222222222222222,\"#7201a8\"],[0.3333333333333333,\"#9c179e\"],[0.4444444444444444,\"#bd3786\"],[0.5555555555555556,\"#d8576b\"],[0.6666666666666666,\"#ed7953\"],[0.7777777777777778,\"#fb9f3a\"],[0.8888888888888888,\"#fdca26\"],[1.0,\"#f0f921\"]],\"type\":\"surface\"}],\"table\":[{\"cells\":{\"fill\":{\"color\":\"#EBF0F8\"},\"line\":{\"color\":\"white\"}},\"header\":{\"fill\":{\"color\":\"#C8D4E3\"},\"line\":{\"color\":\"white\"}},\"type\":\"table\"}]},\"layout\":{\"annotationdefaults\":{\"arrowcolor\":\"#2a3f5f\",\"arrowhead\":0,\"arrowwidth\":1},\"autotypenumbers\":\"strict\",\"coloraxis\":{\"colorbar\":{\"outlinewidth\":0,\"ticks\":\"\"}},\"colorscale\":{\"diverging\":[[0,\"#8e0152\"],[0.1,\"#c51b7d\"],[0.2,\"#de77ae\"],[0.3,\"#f1b6da\"],[0.4,\"#fde0ef\"],[0.5,\"#f7f7f7\"],[0.6,\"#e6f5d0\"],[0.7,\"#b8e186\"],[0.8,\"#7fbc41\"],[0.9,\"#4d9221\"],[1,\"#276419\"]],\"sequential\":[[0.0,\"#0d0887\"],[0.1111111111111111,\"#46039f\"],[0.2222222222222222,\"#7201a8\"],[0.3333333333333333,\"#9c179e\"],[0.4444444444444444,\"#bd3786\"],[0.5555555555555556,\"#d8576b\"],[0.6666666666666666,\"#ed7953\"],[0.7777777777777778,\"#fb9f3a\"],[0.8888888888888888,\"#fdca26\"],[1.0,\"#f0f921\"]],\"sequentialminus\":[[0.0,\"#0d0887\"],[0.1111111111111111,\"#46039f\"],[0.2222222222222222,\"#7201a8\"],[0.3333333333333333,\"#9c179e\"],[0.4444444444444444,\"#bd3786\"],[0.5555555555555556,\"#d8576b\"],[0.6666666666666666,\"#ed7953\"],[0.7777777777777778,\"#fb9f3a\"],[0.8888888888888888,\"#fdca26\"],[1.0,\"#f0f921\"]]},\"colorway\":[\"#636efa\",\"#EF553B\",\"#00cc96\",\"#ab63fa\",\"#FFA15A\",\"#19d3f3\",\"#FF6692\",\"#B6E880\",\"#FF97FF\",\"#FECB52\"],\"font\":{\"color\":\"#2a3f5f\"},\"geo\":{\"bgcolor\":\"white\",\"lakecolor\":\"white\",\"landcolor\":\"white\",\"showlakes\":true,\"showland\":true,\"subunitcolor\":\"#C8D4E3\"},\"hoverlabel\":{\"align\":\"left\"},\"hovermode\":\"closest\",\"mapbox\":{\"style\":\"light\"},\"paper_bgcolor\":\"white\",\"plot_bgcolor\":\"white\",\"polar\":{\"angularaxis\":{\"gridcolor\":\"#EBF0F8\",\"linecolor\":\"#EBF0F8\",\"ticks\":\"\"},\"bgcolor\":\"white\",\"radialaxis\":{\"gridcolor\":\"#EBF0F8\",\"linecolor\":\"#EBF0F8\",\"ticks\":\"\"}},\"scene\":{\"xaxis\":{\"backgroundcolor\":\"white\",\"gridcolor\":\"#DFE8F3\",\"gridwidth\":2,\"linecolor\":\"#EBF0F8\",\"showbackground\":true,\"ticks\":\"\",\"zerolinecolor\":\"#EBF0F8\"},\"yaxis\":{\"backgroundcolor\":\"white\",\"gridcolor\":\"#DFE8F3\",\"gridwidth\":2,\"linecolor\":\"#EBF0F8\",\"showbackground\":true,\"ticks\":\"\",\"zerolinecolor\":\"#EBF0F8\"},\"zaxis\":{\"backgroundcolor\":\"white\",\"gridcolor\":\"#DFE8F3\",\"gridwidth\":2,\"linecolor\":\"#EBF0F8\",\"showbackground\":true,\"ticks\":\"\",\"zerolinecolor\":\"#EBF0F8\"}},\"shapedefaults\":{\"line\":{\"color\":\"#2a3f5f\"}},\"ternary\":{\"aaxis\":{\"gridcolor\":\"#DFE8F3\",\"linecolor\":\"#A2B1C6\",\"ticks\":\"\"},\"baxis\":{\"gridcolor\":\"#DFE8F3\",\"linecolor\":\"#A2B1C6\",\"ticks\":\"\"},\"bgcolor\":\"white\",\"caxis\":{\"gridcolor\":\"#DFE8F3\",\"linecolor\":\"#A2B1C6\",\"ticks\":\"\"}},\"title\":{\"x\":0.05},\"xaxis\":{\"automargin\":true,\"gridcolor\":\"#EBF0F8\",\"linecolor\":\"#EBF0F8\",\"ticks\":\"\",\"title\":{\"standoff\":15},\"zerolinecolor\":\"#EBF0F8\",\"zerolinewidth\":2},\"yaxis\":{\"automargin\":true,\"gridcolor\":\"#EBF0F8\",\"linecolor\":\"#EBF0F8\",\"ticks\":\"\",\"title\":{\"standoff\":15},\"zerolinecolor\":\"#EBF0F8\",\"zerolinewidth\":2}}},\"xaxis\":{\"anchor\":\"y\",\"domain\":[0.0,0.175],\"showgrid\":true},\"yaxis\":{\"anchor\":\"x\",\"domain\":[0.0,1.0],\"showgrid\":true},\"xaxis2\":{\"anchor\":\"y2\",\"domain\":[0.275,0.45],\"showgrid\":true},\"yaxis2\":{\"anchor\":\"x2\",\"domain\":[0.0,1.0],\"showgrid\":true},\"xaxis3\":{\"anchor\":\"y3\",\"domain\":[0.55,0.7250000000000001],\"showgrid\":true},\"yaxis3\":{\"anchor\":\"x3\",\"domain\":[0.0,1.0],\"showgrid\":true},\"xaxis4\":{\"anchor\":\"y4\",\"domain\":[0.825,1.0],\"showgrid\":true},\"yaxis4\":{\"anchor\":\"x4\",\"domain\":[0.0,1.0],\"showgrid\":true},\"annotations\":[{\"font\":{\"size\":16},\"showarrow\":false,\"text\":\"Topic 0\",\"x\":0.0875,\"xanchor\":\"center\",\"xref\":\"paper\",\"y\":1.0,\"yanchor\":\"bottom\",\"yref\":\"paper\"},{\"font\":{\"size\":16},\"showarrow\":false,\"text\":\"Topic 1\",\"x\":0.36250000000000004,\"xanchor\":\"center\",\"xref\":\"paper\",\"y\":1.0,\"yanchor\":\"bottom\",\"yref\":\"paper\"}],\"title\":{\"font\":{\"size\":22,\"color\":\"Black\"},\"text\":\"<b>Topic Word Scores\",\"x\":0.5,\"xanchor\":\"center\",\"yanchor\":\"top\"},\"hoverlabel\":{\"font\":{\"size\":16,\"family\":\"Rockwell\"},\"bgcolor\":\"white\"},\"showlegend\":false,\"width\":1000,\"height\":325.0},                        {\"responsive\": true}                    ).then(function(){\n",
              "                            \n",
              "var gd = document.getElementById('6e7529d2-a7fa-435f-a372-f3abb16f713b');\n",
              "var x = new MutationObserver(function (mutations, observer) {{\n",
              "        var display = window.getComputedStyle(gd).display;\n",
              "        if (!display || display === 'none') {{\n",
              "            console.log([gd, 'removed!']);\n",
              "            Plotly.purge(gd);\n",
              "            observer.disconnect();\n",
              "        }}\n",
              "}});\n",
              "\n",
              "// Listen for the removal of the full notebook cells\n",
              "var notebookContainer = gd.closest('#notebook-container');\n",
              "if (notebookContainer) {{\n",
              "    x.observe(notebookContainer, {childList: true});\n",
              "}}\n",
              "\n",
              "// Listen for the clearing of the current output cell\n",
              "var outputEl = gd.closest('.output');\n",
              "if (outputEl) {{\n",
              "    x.observe(outputEl, {childList: true});\n",
              "}}\n",
              "\n",
              "                        })                };                            </script>        </div>\n",
              "</body>\n",
              "</html>"
            ]
          },
          "metadata": {}
        }
      ]
    },
    {
      "cell_type": "markdown",
      "source": [
        "### Análise dos tópicos feita tirando SW"
      ],
      "metadata": {
        "id": "ujyjoDRBQOSf"
      }
    },
    {
      "cell_type": "code",
      "source": [
        "topic_model_80s.get_topics()"
      ],
      "metadata": {
        "colab": {
          "base_uri": "https://localhost:8080/"
        },
        "id": "bSQmk1Mz8oFN",
        "outputId": "b1aceeee-aec2-4040-cca6-a56839cbc7ef"
      },
      "execution_count": null,
      "outputs": [
        {
          "output_type": "execute_result",
          "data": {
            "text/plain": [
              "{-1: [('man', 0.029263831056780095),\n",
              "  ('time', 0.029240303085069082),\n",
              "  ('love', 0.027420081370548532),\n",
              "  ('wild', 0.024027794912371992),\n",
              "  ('show', 0.020144595883358592),\n",
              "  ('make', 0.019254008060852243),\n",
              "  ('back', 0.01898132399292532),\n",
              "  ('cut', 0.018884498567152064),\n",
              "  ('baby', 0.01829672626362026),\n",
              "  ('watch', 0.01756181167109566)],\n",
              " 0: [('rhyme', 0.03727267270594875),\n",
              "  ('rock', 0.03628268091084733),\n",
              "  ('make', 0.034340671423530957),\n",
              "  ('rhymes', 0.033718224527641005),\n",
              "  ('mic', 0.0328092540758476),\n",
              "  ('time', 0.026934708441735938),\n",
              "  ('rap', 0.021674532466919236),\n",
              "  ('rappers', 0.020893177347485345),\n",
              "  ('microphone', 0.020480841044960296),\n",
              "  ('power', 0.020326991694892965)],\n",
              " 1: [('man', 0.04230864511704568),\n",
              "  ('boy', 0.031452895019063655),\n",
              "  ('girl', 0.029887119413671417),\n",
              "  ('back', 0.027024568426220894),\n",
              "  ('geto', 0.027012884360689736),\n",
              "  ('shes', 0.02561322271200209),\n",
              "  ('girls', 0.024499266488219307),\n",
              "  ('money', 0.023310036338052377),\n",
              "  ('guy', 0.02287647954333033),\n",
              "  ('type', 0.02149634818753503)],\n",
              " 2: [('fuck', 0.10429659622047437),\n",
              "  ('bitch', 0.06922716533149428),\n",
              "  ('shit', 0.06844995673029106),\n",
              "  ('ass', 0.05824366897110116),\n",
              "  ('nigga', 0.05582460402964151),\n",
              "  ('gangsta', 0.05048999069307606),\n",
              "  ('motherfucker', 0.04551894231544977),\n",
              "  ('man', 0.04093676267978621),\n",
              "  ('yeah', 0.039915044850731836),\n",
              "  ('ren', 0.03682886919507074)]}"
            ]
          },
          "metadata": {},
          "execution_count": 88
        }
      ]
    },
    {
      "cell_type": "code",
      "source": [
        "topic_model_90s.get_topics()"
      ],
      "metadata": {
        "colab": {
          "base_uri": "https://localhost:8080/"
        },
        "id": "Rnx2BG2UxmIp",
        "outputId": "10bb1879-8e0a-4b25-dae4-70975cffb3be"
      },
      "execution_count": null,
      "outputs": [
        {
          "output_type": "execute_result",
          "data": {
            "text/plain": [
              "{-1: [('niggas', 0.01817066198001391),\n",
              "  ('shit', 0.01805317849150498),\n",
              "  ('nigga', 0.01624430276655864),\n",
              "  ('back', 0.015078036104715786),\n",
              "  ('fuck', 0.014540702227090014),\n",
              "  ('man', 0.013740912861889757),\n",
              "  ('make', 0.012795754686181809),\n",
              "  ('time', 0.012383368475513572),\n",
              "  ('yeah', 0.012359200813178997),\n",
              "  ('wanna', 0.011694520424793534)],\n",
              " 0: [('love', 0.027590525752466823),\n",
              "  ('girl', 0.02560938370362197),\n",
              "  ('baby', 0.019154008525934428),\n",
              "  ('back', 0.018366388270941947),\n",
              "  ('make', 0.017727435792552915),\n",
              "  ('man', 0.015410399689240375),\n",
              "  ('sex', 0.014691006351230367),\n",
              "  ('hey', 0.013524285031957546),\n",
              "  ('rap', 0.01339003707090211),\n",
              "  ('big', 0.013020007595127787)],\n",
              " 1: [('nigga', 0.07021214205639176),\n",
              "  ('niggas', 0.06392403953820573),\n",
              "  ('fuck', 0.03376399096708037),\n",
              "  ('shit', 0.03070956816055595),\n",
              "  ('wet', 0.02189358350065286),\n",
              "  ('real', 0.019326354872205836),\n",
              "  ('die', 0.01898897415803844),\n",
              "  ('man', 0.018281406647823698),\n",
              "  ('bitch', 0.017358610945404116),\n",
              "  ('fuckin', 0.01663343281641527)],\n",
              " 2: [('mcs', 0.02019812359703107),\n",
              "  ('mic', 0.018694664389559953),\n",
              "  ('rhymes', 0.016970503045988718),\n",
              "  ('rap', 0.01553572095765104),\n",
              "  ('rhyme', 0.013527517913399501),\n",
              "  ('rappers', 0.01339518380954585),\n",
              "  ('style', 0.013238835267666758),\n",
              "  ('time', 0.01321229189339285),\n",
              "  ('lyrical', 0.013128042407912422),\n",
              "  ('rock', 0.0130071907826753)],\n",
              " 3: [('love', 0.04894094492828744),\n",
              "  ('god', 0.039310631873222604),\n",
              "  ('life', 0.038126220097735704),\n",
              "  ('mary', 0.03762504928336695),\n",
              "  ('marching', 0.031258904727559926),\n",
              "  ('world', 0.023755479144857098),\n",
              "  ('lord', 0.023330165154608215),\n",
              "  ('smile', 0.02158538477424209),\n",
              "  ('make', 0.019430697090703355),\n",
              "  ('move', 0.017361980616323346)],\n",
              " 4: [('funk', 0.04768530150127437),\n",
              "  ('man', 0.03555126190459173),\n",
              "  ('whatta', 0.028842018767204294),\n",
              "  ('time', 0.02600320059406938),\n",
              "  ('blunt', 0.024898794663795545),\n",
              "  ('wait', 0.024329096444931277),\n",
              "  ('redman', 0.02316255265252766),\n",
              "  ('bonita', 0.020149403481645765),\n",
              "  ('word', 0.01902846251147314),\n",
              "  ('fuck', 0.018950370554465083)],\n",
              " 5: [('dollar', 0.021457425795364304),\n",
              "  ('shit', 0.020112398728133533),\n",
              "  ('niggas', 0.017377900354636922),\n",
              "  ('life', 0.015666473092934938),\n",
              "  ('ditty', 0.015477265987265596),\n",
              "  ('nigga', 0.015295681191860349),\n",
              "  ('money', 0.014462917392550245),\n",
              "  ('spot', 0.014285663089367493),\n",
              "  ('ass', 0.014195237728794339),\n",
              "  ('fuck', 0.013570307491238288)],\n",
              " 6: [('dick', 0.07410259583893578),\n",
              "  ('bitch', 0.06250651060293588),\n",
              "  ('nut', 0.041090324998500585),\n",
              "  ('bitches', 0.040567196141787214),\n",
              "  ('hoes', 0.03529967191900627),\n",
              "  ('suck', 0.03402104899851697),\n",
              "  ('fuck', 0.03101547925671924),\n",
              "  ('pussy', 0.030682149962030763),\n",
              "  ('nasty', 0.03058695981246122),\n",
              "  ('call', 0.03030636467483865)],\n",
              " 7: [('overload', 0.02185521187944078),\n",
              "  ('wutang', 0.017717964604017995),\n",
              "  ('black', 0.01347619649032304),\n",
              "  ('mic', 0.012531017588584452),\n",
              "  ('head', 0.011838540306921374),\n",
              "  ('niggas', 0.011833395598542748),\n",
              "  ('back', 0.011752828149164408),\n",
              "  ('card', 0.011698582152251648),\n",
              "  ('rap', 0.011086781665373276),\n",
              "  ('computes', 0.010621210922202072)],\n",
              " 8: [('niggas', 0.05164548854893639),\n",
              "  ('nigga', 0.027274397196032595),\n",
              "  ('shit', 0.026312744797318748),\n",
              "  ('sucka', 0.01975618182430166),\n",
              "  ('rap', 0.016830253307089066),\n",
              "  ('canibus', 0.015551828538637819),\n",
              "  ('real', 0.013613735405400612),\n",
              "  ('yeah', 0.013437227445835127),\n",
              "  ('back', 0.012790012786861024),\n",
              "  ('word', 0.012097518003686048)],\n",
              " 9: [('dogg', 0.07657755483854503),\n",
              "  ('doggy', 0.05531870638991402),\n",
              "  ('snoop', 0.054307940863171596),\n",
              "  ('blam', 0.03803955032797279),\n",
              "  ('back', 0.03760479180625757),\n",
              "  ('shit', 0.032463197305748606),\n",
              "  ('changed', 0.02991344338577029),\n",
              "  ('wow', 0.02898352706012666),\n",
              "  ('thump', 0.028573041499450596),\n",
              "  ('side', 0.02843700579934999)],\n",
              " 10: [('cos', 0.040886456532171725),\n",
              "  ('dangerous', 0.029491995897798),\n",
              "  ('niggas', 0.028725796358888063),\n",
              "  ('shit', 0.027737210145484567),\n",
              "  ('trapped', 0.022986857602501097),\n",
              "  ('yall', 0.022882804461102066),\n",
              "  ('fuckin', 0.021456318382927886),\n",
              "  ('ricky', 0.019912291367642002),\n",
              "  ('nigga', 0.019701719109332688),\n",
              "  ('mad', 0.019555888052259416)],\n",
              " 11: [('oodles', 0.06041165572087249),\n",
              "  ('ooh', 0.04786030762767404),\n",
              "  ('sewer', 0.035438508124835934),\n",
              "  ('sounded', 0.02609062016396872),\n",
              "  ('dray', 0.020550513787180837),\n",
              "  ('straight', 0.0195094120384176),\n",
              "  ('verse', 0.01868574457637605),\n",
              "  ('umm', 0.01747038205631742),\n",
              "  ('books', 0.01727874626491865),\n",
              "  ('back', 0.016930371749417916)],\n",
              " 12: [('greenthumb', 0.08382059562368922),\n",
              "  ('blunt', 0.08300286698927667),\n",
              "  ('high', 0.07933737944738083),\n",
              "  ('bong', 0.07711904993910175),\n",
              "  ('weed', 0.06758015447808005),\n",
              "  ('smoke', 0.06702164632947731),\n",
              "  ('sugar', 0.06411332796543318),\n",
              "  ('budsmokers', 0.05143871940823415),\n",
              "  ('hits', 0.045763443389771556),\n",
              "  ('wake', 0.04556915663710554)],\n",
              " 13: [('baby', 0.060396054254533794),\n",
              "  ('love', 0.058541380713052454),\n",
              "  ('boo', 0.05326462479395885),\n",
              "  ('real', 0.04710799000100173),\n",
              "  ('good', 0.045035696447526995),\n",
              "  ('true', 0.043058628523671184),\n",
              "  ('steez', 0.03534622856120023),\n",
              "  ('poweru', 0.03435776497723724),\n",
              "  ('make', 0.03290670433372512),\n",
              "  ('ahh', 0.03239939261044483)],\n",
              " 14: [('bone', 0.08116171773225007),\n",
              "  ('wid', 0.05484314537899389),\n",
              "  ('nigga', 0.0465955888405966),\n",
              "  ('thuggish', 0.045756128659877035),\n",
              "  ('ruggish', 0.04394258888784107),\n",
              "  ('shoot', 0.04023919816434308),\n",
              "  ('flow', 0.03811318819622962),\n",
              "  ('losses', 0.03670280980492138),\n",
              "  ('shorts', 0.035553060237740464),\n",
              "  ('bang', 0.029852076800555932)],\n",
              " 15: [('bye', 0.08667509645874491),\n",
              "  ('yah', 0.07209853121132404),\n",
              "  ('side', 0.05327113303588641),\n",
              "  ('biddy', 0.052873510573375915),\n",
              "  ('ride', 0.05260716539983373),\n",
              "  ('boom', 0.04276298602672134),\n",
              "  ('cars', 0.037287740052896076),\n",
              "  ('uhhuh', 0.036982858743133944),\n",
              "  ('woohah', 0.03382250673400593),\n",
              "  ('hood', 0.032427492711132815)],\n",
              " 16: [('love', 0.07166266800955644),\n",
              "  ('man', 0.04338584188003879),\n",
              "  ('nothin', 0.02782889154286907),\n",
              "  ('baby', 0.027039252723349057),\n",
              "  ('doubt', 0.025647661516728204),\n",
              "  ('cradle', 0.023156786419134948),\n",
              "  ('back', 0.02175019785414976),\n",
              "  ('shit', 0.021408852043614805),\n",
              "  ('grave', 0.01896971939884644),\n",
              "  ('niggas', 0.01766072485045204)],\n",
              " 17: [('tical', 0.0572170699423029),\n",
              "  ('morena', 0.03299791935668395),\n",
              "  ('boricua', 0.03247014262087319),\n",
              "  ('motherfuckers', 0.02901939605996257),\n",
              "  ('slangin', 0.027788712919189492),\n",
              "  ('yayo', 0.02701978977764795),\n",
              "  ('niggas', 0.024959837295193035),\n",
              "  ('shit', 0.021820599081614846),\n",
              "  ('mail', 0.020599653803193417),\n",
              "  ('nigga', 0.019896589424077134)],\n",
              " 18: [('motherfuckers', 0.06975274816929407),\n",
              "  ('motherfucker', 0.06706019039186883),\n",
              "  ('carry', 0.05614733772423728),\n",
              "  ('single', 0.05387846027263845),\n",
              "  ('shit', 0.04779432320263129),\n",
              "  ('eazy', 0.04612310629936466),\n",
              "  ('mur', 0.04610263561810429),\n",
              "  ('gun', 0.045729563484908656),\n",
              "  ('motherfucking', 0.04462844118763651),\n",
              "  ('fuck', 0.04449134377152134)]}"
            ]
          },
          "metadata": {},
          "execution_count": 89
        }
      ]
    },
    {
      "cell_type": "code",
      "source": [
        "topic_model_00s.get_topics()"
      ],
      "metadata": {
        "colab": {
          "base_uri": "https://localhost:8080/"
        },
        "id": "b0w0skHQyARq",
        "outputId": "e4ec24e7-819b-46da-dd9a-0434239afa27"
      },
      "execution_count": null,
      "outputs": [
        {
          "output_type": "execute_result",
          "data": {
            "text/plain": [
              "{-1: [('shit', 0.019137958237913668),\n",
              "  ('nigga', 0.01848680348464127),\n",
              "  ('niggas', 0.01733322230395146),\n",
              "  ('back', 0.017198835943671522),\n",
              "  ('yeah', 0.016664964335131933),\n",
              "  ('make', 0.015381822511825773),\n",
              "  ('love', 0.01533085414831567),\n",
              "  ('fuck', 0.01522417972143938),\n",
              "  ('man', 0.014752151839790652),\n",
              "  ('wanna', 0.014231279438282052)],\n",
              " 0: [('niggas', 0.06555752441831746),\n",
              "  ('nigga', 0.061886920512823206),\n",
              "  ('fuck', 0.039187207416401935),\n",
              "  ('shit', 0.031503671983262704),\n",
              "  ('yall', 0.0314414835375845),\n",
              "  ('gon', 0.029775582597273833),\n",
              "  ('bitch', 0.01993524006248598),\n",
              "  ('blood', 0.019342472195887143),\n",
              "  ('back', 0.0188305066372479),\n",
              "  ('give', 0.018189464394235612)],\n",
              " 1: [('cry', 0.041693853805862297),\n",
              "  ('life', 0.03558910431177677),\n",
              "  ('someday', 0.03189124056193735),\n",
              "  ('hell', 0.030276520946645367),\n",
              "  ('love', 0.025751864170775574),\n",
              "  ('lord', 0.024700368849556245),\n",
              "  ('pain', 0.023328964312760075),\n",
              "  ('god', 0.02294674202959328),\n",
              "  ('found', 0.021797090245844527),\n",
              "  ('heaven', 0.020862187479718707)],\n",
              " 2: [('rap', 0.0388347581766774),\n",
              "  ('ghetto', 0.03125779568973013),\n",
              "  ('hip', 0.027050000476261847),\n",
              "  ('hop', 0.02429545709718398),\n",
              "  ('hiphop', 0.02152461619714664),\n",
              "  ('back', 0.020383001785447583),\n",
              "  ('hard', 0.01864203074204174),\n",
              "  ('rappers', 0.017337805903292907),\n",
              "  ('shit', 0.017025433568639607),\n",
              "  ('man', 0.015993724586921394)],\n",
              " 3: [('love', 0.11003003360796185),\n",
              "  ('lose', 0.040181667784167915),\n",
              "  ('thing', 0.031681637685927515),\n",
              "  ('told', 0.029179343047287577),\n",
              "  ('heart', 0.027708629248791323),\n",
              "  ('girl', 0.027267826135262907),\n",
              "  ('times', 0.025821835493035416),\n",
              "  ('hold', 0.024551878183529684),\n",
              "  ('years', 0.024309725541903145),\n",
              "  ('talk', 0.023912568713824613)],\n",
              " 4: [('baby', 0.13071863372211473),\n",
              "  ('superman', 0.059355680637006254),\n",
              "  ('girl', 0.04538872141014982),\n",
              "  ('wanna', 0.040996632563727264),\n",
              "  ('love', 0.037985174755466894),\n",
              "  ('stop', 0.03506143825390949),\n",
              "  ('give', 0.029486419082685157),\n",
              "  ('crazy', 0.028773298700062955),\n",
              "  ('feel', 0.028572994452799),\n",
              "  ('call', 0.028332740009186425)],\n",
              " 5: [('drill', 0.04354218576116633),\n",
              "  ('tip', 0.04344189943489652),\n",
              "  ('party', 0.041855705986570284),\n",
              "  ('bitch', 0.03645681792244443),\n",
              "  ('move', 0.03282305742710662),\n",
              "  ('people', 0.030814255943604624),\n",
              "  ('pparty', 0.02910936916097021),\n",
              "  ('pimp', 0.027116581494781012),\n",
              "  ('hot', 0.024126421544824087),\n",
              "  ('floor', 0.022856226700278228)],\n",
              " 6: [('poet', 0.016588545950632857),\n",
              "  ('laureate', 0.016330931379177824),\n",
              "  ('rhymes', 0.015168600604893884),\n",
              "  ('time', 0.014095000422748225),\n",
              "  ('feet', 0.013204041493336857),\n",
              "  ('infinity', 0.012805077108032994),\n",
              "  ('seat', 0.012232499735962141),\n",
              "  ('hip', 0.011754684157485948),\n",
              "  ('hop', 0.011016716339567943),\n",
              "  ('rhyme', 0.01059059156424543)],\n",
              " 7: [('thicky', 0.07369975635463367),\n",
              "  ('lick', 0.04248810925622791),\n",
              "  ('shawty', 0.03897927396205431),\n",
              "  ('suck', 0.031382883766443125),\n",
              "  ('thick', 0.029933769963061067),\n",
              "  ('lollipop', 0.02942247831917139),\n",
              "  ('wanna', 0.02884843500633774),\n",
              "  ('eruption', 0.02820548611439314),\n",
              "  ('ass', 0.027191815326255687),\n",
              "  ('gettin', 0.02704986300255269)],\n",
              " 8: [('format', 0.041779234200486765),\n",
              "  ('pay', 0.041255424888256974),\n",
              "  ('bring', 0.0355977884364971),\n",
              "  ('wasted', 0.03535165970810418),\n",
              "  ('touch', 0.035176484221459844),\n",
              "  ('watch', 0.033984233456293644),\n",
              "  ('turn', 0.03127703696709939),\n",
              "  ('leave', 0.026450381307674912),\n",
              "  ('money', 0.024066723385130835),\n",
              "  ('yeah', 0.023717230469151824)],\n",
              " 9: [('people', 0.03767804383795435),\n",
              "  ('technique', 0.03028725073473441),\n",
              "  ('world', 0.027346107685167168),\n",
              "  ('government', 0.023005332362125454),\n",
              "  ('immortal', 0.022559492366729956),\n",
              "  ('children', 0.020122895664120573),\n",
              "  ('make', 0.019962266817698603),\n",
              "  ('america', 0.017939849646193266),\n",
              "  ('freedom', 0.017699834997752628),\n",
              "  ('system', 0.016990529047649732)],\n",
              " 10: [('canibus', 0.03896255621604924),\n",
              "  ('mic', 0.022997916234869464),\n",
              "  ('disagree', 0.019402118185112612),\n",
              "  ('genabis', 0.01864298484640252),\n",
              "  ('rhymes', 0.01759146767708954),\n",
              "  ('wave', 0.015685695632443084),\n",
              "  ('god', 0.014291260384772053),\n",
              "  ('wrote', 0.013897685693081004),\n",
              "  ('words', 0.013782425232375611),\n",
              "  ('arm', 0.013722428540100029)],\n",
              " 11: [('blades', 0.06165900169423458),\n",
              "  ('chop', 0.051520095596664435),\n",
              "  ('whip', 0.049088995520053316),\n",
              "  ('ugh', 0.045872841893309015),\n",
              "  ('game', 0.042474060133951635),\n",
              "  ('boy', 0.04074338376138317),\n",
              "  ('niggas', 0.03912643348024716),\n",
              "  ('head', 0.03889552521385193),\n",
              "  ('wanna', 0.036177496872812735),\n",
              "  ('break', 0.03542761094228219)],\n",
              " 12: [('nigga', 0.047919808416644456),\n",
              "  ('shit', 0.03650084196335361),\n",
              "  ('niggas', 0.03485177968147693),\n",
              "  ('man', 0.03072837113598965),\n",
              "  ('life', 0.030411439981387144),\n",
              "  ('caught', 0.02602390428758172),\n",
              "  ('start', 0.023503102710230775),\n",
              "  ('doors', 0.023181433405227433),\n",
              "  ('huh', 0.02314462229209366),\n",
              "  ('key', 0.02298201124561505)],\n",
              " 13: [('icky', 0.08970165727514694),\n",
              "  ('cocaine', 0.0883566010567103),\n",
              "  ('sprung', 0.07854264748879096),\n",
              "  ('head', 0.05782236560809237),\n",
              "  ('sticky', 0.03747763273321132),\n",
              "  ('bout', 0.035373410777184484),\n",
              "  ('back', 0.02744728916019571),\n",
              "  ('big', 0.026411648375977686),\n",
              "  ('club', 0.0257616417145725),\n",
              "  ('man', 0.022166518402361026)]}"
            ]
          },
          "metadata": {},
          "execution_count": 90
        }
      ]
    },
    {
      "cell_type": "code",
      "source": [
        "topic_model_10s.get_topics()"
      ],
      "metadata": {
        "colab": {
          "base_uri": "https://localhost:8080/"
        },
        "id": "1rreUTgSyg0y",
        "outputId": "f3c49c6d-e2a0-4149-e6e0-d2dea4121619"
      },
      "execution_count": null,
      "outputs": [
        {
          "output_type": "execute_result",
          "data": {
            "text/plain": [
              "{-1: [('yeah', 0.039489747681227094),\n",
              "  ('shit', 0.037548192490234146),\n",
              "  ('nigga', 0.033715221731471415),\n",
              "  ('fuck', 0.03267795688044844),\n",
              "  ('work', 0.028923138710833254),\n",
              "  ('make', 0.02690006799060052),\n",
              "  ('im', 0.026769500404655467),\n",
              "  ('back', 0.026741061877104334),\n",
              "  ('niggas', 0.026491328468335656),\n",
              "  ('bitch', 0.02404752776256767)],\n",
              " 0: [('nigga', 0.04731636371624209),\n",
              "  ('niggas', 0.03915113500051258),\n",
              "  ('yeah', 0.038832928809115985),\n",
              "  ('shit', 0.0365866527060166),\n",
              "  ('fuck', 0.03511188712019201),\n",
              "  ('bitch', 0.03365315613837825),\n",
              "  ('back', 0.027873095844642266),\n",
              "  ('make', 0.024702361557163714),\n",
              "  ('love', 0.024272302952159094),\n",
              "  ('money', 0.022925026359756445)],\n",
              " 1: [('weed', 0.1238929025567668),\n",
              "  ('smoke', 0.12307057723796644),\n",
              "  ('blowing', 0.10936901820918635),\n",
              "  ('juicy', 0.10428670713282168),\n",
              "  ('wax', 0.09205156827491559),\n",
              "  ('high', 0.08034222480340585),\n",
              "  ('higher', 0.0698817804229512),\n",
              "  ('kush', 0.0639951395685724),\n",
              "  ('smoking', 0.05061098559457366),\n",
              "  ('roll', 0.04846700939699657)]}"
            ]
          },
          "metadata": {},
          "execution_count": 91
        }
      ]
    },
    {
      "cell_type": "code",
      "source": [
        "topic_model_00s.visualize_hierarchy()"
      ],
      "metadata": {
        "colab": {
          "base_uri": "https://localhost:8080/",
          "height": 427
        },
        "id": "XF8lN_Dx0hgf",
        "outputId": "fdf12f08-7c25-46f2-8d11-f73ecc4e6513"
      },
      "execution_count": null,
      "outputs": [
        {
          "output_type": "display_data",
          "data": {
            "text/html": [
              "<html>\n",
              "<head><meta charset=\"utf-8\" /></head>\n",
              "<body>\n",
              "    <div>            <script src=\"https://cdnjs.cloudflare.com/ajax/libs/mathjax/2.7.5/MathJax.js?config=TeX-AMS-MML_SVG\"></script><script type=\"text/javascript\">if (window.MathJax) {MathJax.Hub.Config({SVG: {font: \"STIX-Web\"}});}</script>                <script type=\"text/javascript\">window.PlotlyConfig = {MathJaxConfig: 'local'};</script>\n",
              "        <script src=\"https://cdn.plot.ly/plotly-2.8.3.min.js\"></script>                <div id=\"2a1f73c5-95a7-4ffd-8f23-ebd6b09ee9c7\" class=\"plotly-graph-div\" style=\"height:410px; width:1000px;\"></div>            <script type=\"text/javascript\">                                    window.PLOTLYENV=window.PLOTLYENV || {};                                    if (document.getElementById(\"2a1f73c5-95a7-4ffd-8f23-ebd6b09ee9c7\")) {                    Plotly.newPlot(                        \"2a1f73c5-95a7-4ffd-8f23-ebd6b09ee9c7\",                        [{\"hoverinfo\":\"text\",\"marker\":{\"color\":\"rgb(61,153,112)\"},\"mode\":\"lines\",\"x\":[0.0,0.35778275747077887,0.35778275747077887,0.0],\"xaxis\":\"x\",\"y\":[-25.0,-25.0,-35.0,-35.0],\"yaxis\":\"y\",\"type\":\"scatter\"},{\"hoverinfo\":\"text\",\"marker\":{\"color\":\"rgb(61,153,112)\"},\"mode\":\"lines\",\"x\":[0.0,0.46859731982295655,0.46859731982295655,0.35778275747077887],\"xaxis\":\"x\",\"y\":[-15.0,-15.0,-30.0,-30.0],\"yaxis\":\"y\",\"type\":\"scatter\"},{\"hoverinfo\":\"text\",\"marker\":{\"color\":\"rgb(61,153,112)\"},\"mode\":\"lines\",\"x\":[0.0,0.4871640131151973,0.4871640131151973,0.46859731982295655],\"xaxis\":\"x\",\"y\":[-5.0,-5.0,-22.5,-22.5],\"yaxis\":\"y\",\"type\":\"scatter\"},{\"hoverinfo\":\"text\",\"marker\":{\"color\":\"rgb(61,153,112)\"},\"mode\":\"lines\",\"x\":[0.0,0.2346660476031259,0.2346660476031259,0.0],\"xaxis\":\"x\",\"y\":[-45.0,-45.0,-55.0,-55.0],\"yaxis\":\"y\",\"type\":\"scatter\"},{\"hoverinfo\":\"text\",\"marker\":{\"color\":\"rgb(61,153,112)\"},\"mode\":\"lines\",\"x\":[0.0,0.26808226587187034,0.26808226587187034,0.0],\"xaxis\":\"x\",\"y\":[-75.0,-75.0,-85.0,-85.0],\"yaxis\":\"y\",\"type\":\"scatter\"},{\"hoverinfo\":\"text\",\"marker\":{\"color\":\"rgb(61,153,112)\"},\"mode\":\"lines\",\"x\":[0.0,0.3315102450598825,0.3315102450598825,0.26808226587187034],\"xaxis\":\"x\",\"y\":[-65.0,-65.0,-80.0,-80.0],\"yaxis\":\"y\",\"type\":\"scatter\"},{\"hoverinfo\":\"text\",\"marker\":{\"color\":\"rgb(61,153,112)\"},\"mode\":\"lines\",\"x\":[0.0,0.29466021051417646,0.29466021051417646,0.0],\"xaxis\":\"x\",\"y\":[-105.0,-105.0,-115.0,-115.0],\"yaxis\":\"y\",\"type\":\"scatter\"},{\"hoverinfo\":\"text\",\"marker\":{\"color\":\"rgb(61,153,112)\"},\"mode\":\"lines\",\"x\":[0.0,0.3424803784704421,0.3424803784704421,0.0],\"xaxis\":\"x\",\"y\":[-125.0,-125.0,-135.0,-135.0],\"yaxis\":\"y\",\"type\":\"scatter\"},{\"hoverinfo\":\"text\",\"marker\":{\"color\":\"rgb(61,153,112)\"},\"mode\":\"lines\",\"x\":[0.29466021051417646,0.4100097968100231,0.4100097968100231,0.3424803784704421],\"xaxis\":\"x\",\"y\":[-110.0,-110.0,-130.0,-130.0],\"yaxis\":\"y\",\"type\":\"scatter\"},{\"hoverinfo\":\"text\",\"marker\":{\"color\":\"rgb(61,153,112)\"},\"mode\":\"lines\",\"x\":[0.0,0.4673391298012626,0.4673391298012626,0.4100097968100231],\"xaxis\":\"x\",\"y\":[-95.0,-95.0,-120.0,-120.0],\"yaxis\":\"y\",\"type\":\"scatter\"},{\"hoverinfo\":\"text\",\"marker\":{\"color\":\"rgb(61,153,112)\"},\"mode\":\"lines\",\"x\":[0.3315102450598825,0.6147486260643404,0.6147486260643404,0.4673391298012626],\"xaxis\":\"x\",\"y\":[-72.5,-72.5,-107.5,-107.5],\"yaxis\":\"y\",\"type\":\"scatter\"},{\"hoverinfo\":\"text\",\"marker\":{\"color\":\"rgb(61,153,112)\"},\"mode\":\"lines\",\"x\":[0.2346660476031259,0.6438112006647391,0.6438112006647391,0.6147486260643404],\"xaxis\":\"x\",\"y\":[-50.0,-50.0,-90.0,-90.0],\"yaxis\":\"y\",\"type\":\"scatter\"},{\"hoverinfo\":\"text\",\"marker\":{\"color\":\"rgb(61,153,112)\"},\"mode\":\"lines\",\"x\":[0.4871640131151973,0.8031239801617363,0.8031239801617363,0.6438112006647391],\"xaxis\":\"x\",\"y\":[-13.75,-13.75,-70.0,-70.0],\"yaxis\":\"y\",\"type\":\"scatter\"}],                        {\"autosize\":false,\"height\":410,\"hovermode\":\"closest\",\"showlegend\":false,\"width\":1000,\"xaxis\":{\"mirror\":\"allticks\",\"rangemode\":\"tozero\",\"showgrid\":false,\"showline\":true,\"showticklabels\":true,\"ticks\":\"outside\",\"type\":\"linear\",\"zeroline\":false},\"yaxis\":{\"mirror\":\"allticks\",\"rangemode\":\"tozero\",\"showgrid\":false,\"showline\":true,\"showticklabels\":true,\"tickmode\":\"array\",\"ticks\":\"outside\",\"ticktext\":[\"2_rap_ghetto_hip\",\"9_people_technique_world\",\"6_poet_laureate_rhymes\",\"10_canibus_mic_disagree\",\"0_niggas_nigga_fuck\",\"12_nigga_shit_niggas\",\"4_baby_superman_girl\",\"1_cry_life_someday\",\"3_love_lose_thing\",\"7_thicky_lick_shawty\",\"11_blades_chop_whip\",\"13_icky_cocaine_sprung\",\"5_drill_tip_party\",\"8_format_pay_bring\"],\"tickvals\":[-5.0,-15.0,-25.0,-35.0,-45.0,-55.0,-65.0,-75.0,-85.0,-95.0,-105.0,-115.0,-125.0,-135.0],\"type\":\"linear\",\"zeroline\":false,\"range\":[-140.0,0.0]},\"template\":{\"data\":{\"barpolar\":[{\"marker\":{\"line\":{\"color\":\"white\",\"width\":0.5},\"pattern\":{\"fillmode\":\"overlay\",\"size\":10,\"solidity\":0.2}},\"type\":\"barpolar\"}],\"bar\":[{\"error_x\":{\"color\":\"#2a3f5f\"},\"error_y\":{\"color\":\"#2a3f5f\"},\"marker\":{\"line\":{\"color\":\"white\",\"width\":0.5},\"pattern\":{\"fillmode\":\"overlay\",\"size\":10,\"solidity\":0.2}},\"type\":\"bar\"}],\"carpet\":[{\"aaxis\":{\"endlinecolor\":\"#2a3f5f\",\"gridcolor\":\"#C8D4E3\",\"linecolor\":\"#C8D4E3\",\"minorgridcolor\":\"#C8D4E3\",\"startlinecolor\":\"#2a3f5f\"},\"baxis\":{\"endlinecolor\":\"#2a3f5f\",\"gridcolor\":\"#C8D4E3\",\"linecolor\":\"#C8D4E3\",\"minorgridcolor\":\"#C8D4E3\",\"startlinecolor\":\"#2a3f5f\"},\"type\":\"carpet\"}],\"choropleth\":[{\"colorbar\":{\"outlinewidth\":0,\"ticks\":\"\"},\"type\":\"choropleth\"}],\"contourcarpet\":[{\"colorbar\":{\"outlinewidth\":0,\"ticks\":\"\"},\"type\":\"contourcarpet\"}],\"contour\":[{\"colorbar\":{\"outlinewidth\":0,\"ticks\":\"\"},\"colorscale\":[[0.0,\"#0d0887\"],[0.1111111111111111,\"#46039f\"],[0.2222222222222222,\"#7201a8\"],[0.3333333333333333,\"#9c179e\"],[0.4444444444444444,\"#bd3786\"],[0.5555555555555556,\"#d8576b\"],[0.6666666666666666,\"#ed7953\"],[0.7777777777777778,\"#fb9f3a\"],[0.8888888888888888,\"#fdca26\"],[1.0,\"#f0f921\"]],\"type\":\"contour\"}],\"heatmapgl\":[{\"colorbar\":{\"outlinewidth\":0,\"ticks\":\"\"},\"colorscale\":[[0.0,\"#0d0887\"],[0.1111111111111111,\"#46039f\"],[0.2222222222222222,\"#7201a8\"],[0.3333333333333333,\"#9c179e\"],[0.4444444444444444,\"#bd3786\"],[0.5555555555555556,\"#d8576b\"],[0.6666666666666666,\"#ed7953\"],[0.7777777777777778,\"#fb9f3a\"],[0.8888888888888888,\"#fdca26\"],[1.0,\"#f0f921\"]],\"type\":\"heatmapgl\"}],\"heatmap\":[{\"colorbar\":{\"outlinewidth\":0,\"ticks\":\"\"},\"colorscale\":[[0.0,\"#0d0887\"],[0.1111111111111111,\"#46039f\"],[0.2222222222222222,\"#7201a8\"],[0.3333333333333333,\"#9c179e\"],[0.4444444444444444,\"#bd3786\"],[0.5555555555555556,\"#d8576b\"],[0.6666666666666666,\"#ed7953\"],[0.7777777777777778,\"#fb9f3a\"],[0.8888888888888888,\"#fdca26\"],[1.0,\"#f0f921\"]],\"type\":\"heatmap\"}],\"histogram2dcontour\":[{\"colorbar\":{\"outlinewidth\":0,\"ticks\":\"\"},\"colorscale\":[[0.0,\"#0d0887\"],[0.1111111111111111,\"#46039f\"],[0.2222222222222222,\"#7201a8\"],[0.3333333333333333,\"#9c179e\"],[0.4444444444444444,\"#bd3786\"],[0.5555555555555556,\"#d8576b\"],[0.6666666666666666,\"#ed7953\"],[0.7777777777777778,\"#fb9f3a\"],[0.8888888888888888,\"#fdca26\"],[1.0,\"#f0f921\"]],\"type\":\"histogram2dcontour\"}],\"histogram2d\":[{\"colorbar\":{\"outlinewidth\":0,\"ticks\":\"\"},\"colorscale\":[[0.0,\"#0d0887\"],[0.1111111111111111,\"#46039f\"],[0.2222222222222222,\"#7201a8\"],[0.3333333333333333,\"#9c179e\"],[0.4444444444444444,\"#bd3786\"],[0.5555555555555556,\"#d8576b\"],[0.6666666666666666,\"#ed7953\"],[0.7777777777777778,\"#fb9f3a\"],[0.8888888888888888,\"#fdca26\"],[1.0,\"#f0f921\"]],\"type\":\"histogram2d\"}],\"histogram\":[{\"marker\":{\"pattern\":{\"fillmode\":\"overlay\",\"size\":10,\"solidity\":0.2}},\"type\":\"histogram\"}],\"mesh3d\":[{\"colorbar\":{\"outlinewidth\":0,\"ticks\":\"\"},\"type\":\"mesh3d\"}],\"parcoords\":[{\"line\":{\"colorbar\":{\"outlinewidth\":0,\"ticks\":\"\"}},\"type\":\"parcoords\"}],\"pie\":[{\"automargin\":true,\"type\":\"pie\"}],\"scatter3d\":[{\"line\":{\"colorbar\":{\"outlinewidth\":0,\"ticks\":\"\"}},\"marker\":{\"colorbar\":{\"outlinewidth\":0,\"ticks\":\"\"}},\"type\":\"scatter3d\"}],\"scattercarpet\":[{\"marker\":{\"colorbar\":{\"outlinewidth\":0,\"ticks\":\"\"}},\"type\":\"scattercarpet\"}],\"scattergeo\":[{\"marker\":{\"colorbar\":{\"outlinewidth\":0,\"ticks\":\"\"}},\"type\":\"scattergeo\"}],\"scattergl\":[{\"marker\":{\"colorbar\":{\"outlinewidth\":0,\"ticks\":\"\"}},\"type\":\"scattergl\"}],\"scattermapbox\":[{\"marker\":{\"colorbar\":{\"outlinewidth\":0,\"ticks\":\"\"}},\"type\":\"scattermapbox\"}],\"scatterpolargl\":[{\"marker\":{\"colorbar\":{\"outlinewidth\":0,\"ticks\":\"\"}},\"type\":\"scatterpolargl\"}],\"scatterpolar\":[{\"marker\":{\"colorbar\":{\"outlinewidth\":0,\"ticks\":\"\"}},\"type\":\"scatterpolar\"}],\"scatter\":[{\"marker\":{\"colorbar\":{\"outlinewidth\":0,\"ticks\":\"\"}},\"type\":\"scatter\"}],\"scatterternary\":[{\"marker\":{\"colorbar\":{\"outlinewidth\":0,\"ticks\":\"\"}},\"type\":\"scatterternary\"}],\"surface\":[{\"colorbar\":{\"outlinewidth\":0,\"ticks\":\"\"},\"colorscale\":[[0.0,\"#0d0887\"],[0.1111111111111111,\"#46039f\"],[0.2222222222222222,\"#7201a8\"],[0.3333333333333333,\"#9c179e\"],[0.4444444444444444,\"#bd3786\"],[0.5555555555555556,\"#d8576b\"],[0.6666666666666666,\"#ed7953\"],[0.7777777777777778,\"#fb9f3a\"],[0.8888888888888888,\"#fdca26\"],[1.0,\"#f0f921\"]],\"type\":\"surface\"}],\"table\":[{\"cells\":{\"fill\":{\"color\":\"#EBF0F8\"},\"line\":{\"color\":\"white\"}},\"header\":{\"fill\":{\"color\":\"#C8D4E3\"},\"line\":{\"color\":\"white\"}},\"type\":\"table\"}]},\"layout\":{\"annotationdefaults\":{\"arrowcolor\":\"#2a3f5f\",\"arrowhead\":0,\"arrowwidth\":1},\"autotypenumbers\":\"strict\",\"coloraxis\":{\"colorbar\":{\"outlinewidth\":0,\"ticks\":\"\"}},\"colorscale\":{\"diverging\":[[0,\"#8e0152\"],[0.1,\"#c51b7d\"],[0.2,\"#de77ae\"],[0.3,\"#f1b6da\"],[0.4,\"#fde0ef\"],[0.5,\"#f7f7f7\"],[0.6,\"#e6f5d0\"],[0.7,\"#b8e186\"],[0.8,\"#7fbc41\"],[0.9,\"#4d9221\"],[1,\"#276419\"]],\"sequential\":[[0.0,\"#0d0887\"],[0.1111111111111111,\"#46039f\"],[0.2222222222222222,\"#7201a8\"],[0.3333333333333333,\"#9c179e\"],[0.4444444444444444,\"#bd3786\"],[0.5555555555555556,\"#d8576b\"],[0.6666666666666666,\"#ed7953\"],[0.7777777777777778,\"#fb9f3a\"],[0.8888888888888888,\"#fdca26\"],[1.0,\"#f0f921\"]],\"sequentialminus\":[[0.0,\"#0d0887\"],[0.1111111111111111,\"#46039f\"],[0.2222222222222222,\"#7201a8\"],[0.3333333333333333,\"#9c179e\"],[0.4444444444444444,\"#bd3786\"],[0.5555555555555556,\"#d8576b\"],[0.6666666666666666,\"#ed7953\"],[0.7777777777777778,\"#fb9f3a\"],[0.8888888888888888,\"#fdca26\"],[1.0,\"#f0f921\"]]},\"colorway\":[\"#636efa\",\"#EF553B\",\"#00cc96\",\"#ab63fa\",\"#FFA15A\",\"#19d3f3\",\"#FF6692\",\"#B6E880\",\"#FF97FF\",\"#FECB52\"],\"font\":{\"color\":\"#2a3f5f\"},\"geo\":{\"bgcolor\":\"white\",\"lakecolor\":\"white\",\"landcolor\":\"white\",\"showlakes\":true,\"showland\":true,\"subunitcolor\":\"#C8D4E3\"},\"hoverlabel\":{\"align\":\"left\"},\"hovermode\":\"closest\",\"mapbox\":{\"style\":\"light\"},\"paper_bgcolor\":\"white\",\"plot_bgcolor\":\"white\",\"polar\":{\"angularaxis\":{\"gridcolor\":\"#EBF0F8\",\"linecolor\":\"#EBF0F8\",\"ticks\":\"\"},\"bgcolor\":\"white\",\"radialaxis\":{\"gridcolor\":\"#EBF0F8\",\"linecolor\":\"#EBF0F8\",\"ticks\":\"\"}},\"scene\":{\"xaxis\":{\"backgroundcolor\":\"white\",\"gridcolor\":\"#DFE8F3\",\"gridwidth\":2,\"linecolor\":\"#EBF0F8\",\"showbackground\":true,\"ticks\":\"\",\"zerolinecolor\":\"#EBF0F8\"},\"yaxis\":{\"backgroundcolor\":\"white\",\"gridcolor\":\"#DFE8F3\",\"gridwidth\":2,\"linecolor\":\"#EBF0F8\",\"showbackground\":true,\"ticks\":\"\",\"zerolinecolor\":\"#EBF0F8\"},\"zaxis\":{\"backgroundcolor\":\"white\",\"gridcolor\":\"#DFE8F3\",\"gridwidth\":2,\"linecolor\":\"#EBF0F8\",\"showbackground\":true,\"ticks\":\"\",\"zerolinecolor\":\"#EBF0F8\"}},\"shapedefaults\":{\"line\":{\"color\":\"#2a3f5f\"}},\"ternary\":{\"aaxis\":{\"gridcolor\":\"#DFE8F3\",\"linecolor\":\"#A2B1C6\",\"ticks\":\"\"},\"baxis\":{\"gridcolor\":\"#DFE8F3\",\"linecolor\":\"#A2B1C6\",\"ticks\":\"\"},\"bgcolor\":\"white\",\"caxis\":{\"gridcolor\":\"#DFE8F3\",\"linecolor\":\"#A2B1C6\",\"ticks\":\"\"}},\"title\":{\"x\":0.05},\"xaxis\":{\"automargin\":true,\"gridcolor\":\"#EBF0F8\",\"linecolor\":\"#EBF0F8\",\"ticks\":\"\",\"title\":{\"standoff\":15},\"zerolinecolor\":\"#EBF0F8\",\"zerolinewidth\":2},\"yaxis\":{\"automargin\":true,\"gridcolor\":\"#EBF0F8\",\"linecolor\":\"#EBF0F8\",\"ticks\":\"\",\"title\":{\"standoff\":15},\"zerolinecolor\":\"#EBF0F8\",\"zerolinewidth\":2}}},\"title\":{\"font\":{\"size\":22,\"color\":\"Black\"},\"text\":\"<b>Hierarchical Clustering\",\"x\":0.5,\"xanchor\":\"center\",\"yanchor\":\"top\"},\"hoverlabel\":{\"font\":{\"size\":16,\"family\":\"Rockwell\"},\"bgcolor\":\"white\"},\"plot_bgcolor\":\"#ECEFF1\"},                        {\"responsive\": true}                    ).then(function(){\n",
              "                            \n",
              "var gd = document.getElementById('2a1f73c5-95a7-4ffd-8f23-ebd6b09ee9c7');\n",
              "var x = new MutationObserver(function (mutations, observer) {{\n",
              "        var display = window.getComputedStyle(gd).display;\n",
              "        if (!display || display === 'none') {{\n",
              "            console.log([gd, 'removed!']);\n",
              "            Plotly.purge(gd);\n",
              "            observer.disconnect();\n",
              "        }}\n",
              "}});\n",
              "\n",
              "// Listen for the removal of the full notebook cells\n",
              "var notebookContainer = gd.closest('#notebook-container');\n",
              "if (notebookContainer) {{\n",
              "    x.observe(notebookContainer, {childList: true});\n",
              "}}\n",
              "\n",
              "// Listen for the clearing of the current output cell\n",
              "var outputEl = gd.closest('.output');\n",
              "if (outputEl) {{\n",
              "    x.observe(outputEl, {childList: true});\n",
              "}}\n",
              "\n",
              "                        })                };                            </script>        </div>\n",
              "</body>\n",
              "</html>"
            ]
          },
          "metadata": {}
        }
      ]
    },
    {
      "cell_type": "markdown",
      "source": [
        "# Análise de Sentimento"
      ],
      "metadata": {
        "id": "K9VGWtEniwSw"
      }
    },
    {
      "cell_type": "code",
      "source": [
        "import transformers"
      ],
      "metadata": {
        "id": "7YmVEGlg9zR6"
      },
      "execution_count": null,
      "outputs": []
    },
    {
      "cell_type": "code",
      "source": [
        "from transformers import pipeline, AutoTokenizer"
      ],
      "metadata": {
        "id": "-pCWKgsN-KW1"
      },
      "execution_count": null,
      "outputs": []
    },
    {
      "cell_type": "code",
      "source": [
        "tokenizer = AutoTokenizer.from_pretrained('j-hartmann/emotion-english-distilroberta-base')"
      ],
      "metadata": {
        "colab": {
          "base_uri": "https://localhost:8080/",
          "height": 209,
          "referenced_widgets": [
            "1904148c38f446e4826f2b005b226c19",
            "07fc3e78373548b6b3e710f04a164072",
            "2083d7910e2541a6b319b300424f0545",
            "e32f9ad1c4524186b6d26f237aafc543",
            "c2cc4cf2dbc04ba291014b3f16d46438",
            "11f4f9e9951443ab90742b391c460454",
            "04c49338212b406f847f62e79c1fb9ef",
            "99ead56178de491a82cf0534a4698d02",
            "28456e197b2e43518067219714b0ac2f",
            "a7a0082b2c3c48d1ab5fb2d87a308c86",
            "c3bcd30bd6de40c18ee181113fac3ca3",
            "937b8924596448ed8ac1ebcea157330b",
            "f3ff12b982d541eea37caffa3549e81e",
            "eca862297f6b435f9692feab5632c43b",
            "81d8d6f0ff5141d7ae1caee1d9dfebe0",
            "f6479d0b615544e0af597c927761a410",
            "e823e0bd6b2c4cedb6b908531b999c49",
            "75db56ea02944f90bbf155edd8c481cd",
            "36e6e479542640f2be0b3b69ac7d9362",
            "1c700e4702304198803643f3f677f6e4",
            "990394ccdd6d4dae88fc621d9423829f",
            "b3a58910fdfe471181646374e31674da",
            "c3733af1ff4b40ad8db26f4d76ebd337",
            "53eeb06cb0a14e079691437c802961b9",
            "1f519d108c5343f0ae28044461583c1e",
            "8f7d016666044d4ea3566ac4231cd365",
            "3e097c502faf412bbfcf5dc0e54502e4",
            "8757b66d594840fe89d3b374edf2963f",
            "e8577a7d8e4c40689f5bcbe2dbea410a",
            "29b7ff1e531d45b29e3ed8e9a5c454b1",
            "759a83abf24449c3a78ec2f4503f77dc",
            "773c541febc64ba4adff89d6f03accb7",
            "02746775817e44d485867aa65b16b8df",
            "3812a8edf62c4fd3872d84a41d5dd701",
            "39fc2354b90547e1b17cce05c2818e09",
            "60ec3133683349f09dd77192cb604dd6",
            "d6ca53164a8f4e37ae514f22fc0515dd",
            "f30848855bcc464ca6b8d5c28d6ec7e7",
            "d1271f62fec84b4ba0c4362120e6c4cb",
            "78b4e47bad58405498968206833d7491",
            "c783bf5d1ebc4151960467418d0219d9",
            "0df81d34d9c542fbb95ef1fda05dcf23",
            "7e71ac2f6c9344b99e1703cd69fddb0c",
            "9ca2c13193024d09b19f48c713d3703d",
            "0ae8338a7caa475999d3ed14eb1acd41",
            "ca518e5ee7754f4198b2b578ddc099be",
            "231666f5c2d24f38939b3eb713094259",
            "82066ec2a1f44dd1a64f60a24cad725d",
            "82c13fa6b530407fbc5f1001a1417ebc",
            "282abdc458fb406c93326bee92e7b080",
            "eaee5bb0c1bf4e14bb0b37b4e4d72bbd",
            "58bee8e1a2324767b5052d49647b2371",
            "ea4cc57f700b4133921f2604c64bdbb9",
            "de79933bdb3a4c8b9d898b81a3825c4f",
            "bdddfd383cdf414bb97a49e08ac5132d",
            "e87412d119fe4129882aa0470336c2ce",
            "e018bedcce1848c38ed218b9c83015b1",
            "ec64b0c9ba9748b1bcb42eaff3c9fb3d",
            "52252c7a39c64df9ac513cade76896be",
            "39fac4c18e55469ca2bf62ef70798969",
            "46c06a28fb934dee9fd50485730aa2b8",
            "4aaf6219469c49bcba55b8535864415a",
            "81f18b1d7b074133801475f846b762ec",
            "695ef02307744d078e073a53c99d32a0",
            "1739569faa94484692654a29edae6227",
            "0b5d6bea112648799c13099ff51e17e3"
          ]
        },
        "id": "04DxMwnzNyly",
        "outputId": "5b062426-2464-4f7a-bd77-1b01c03a7b3e"
      },
      "execution_count": null,
      "outputs": [
        {
          "output_type": "display_data",
          "data": {
            "text/plain": [
              "Downloading:   0%|          | 0.00/294 [00:00<?, ?B/s]"
            ],
            "application/vnd.jupyter.widget-view+json": {
              "version_major": 2,
              "version_minor": 0,
              "model_id": "1904148c38f446e4826f2b005b226c19"
            }
          },
          "metadata": {}
        },
        {
          "output_type": "display_data",
          "data": {
            "text/plain": [
              "Downloading:   0%|          | 0.00/0.98k [00:00<?, ?B/s]"
            ],
            "application/vnd.jupyter.widget-view+json": {
              "version_major": 2,
              "version_minor": 0,
              "model_id": "937b8924596448ed8ac1ebcea157330b"
            }
          },
          "metadata": {}
        },
        {
          "output_type": "display_data",
          "data": {
            "text/plain": [
              "Downloading:   0%|          | 0.00/780k [00:00<?, ?B/s]"
            ],
            "application/vnd.jupyter.widget-view+json": {
              "version_major": 2,
              "version_minor": 0,
              "model_id": "c3733af1ff4b40ad8db26f4d76ebd337"
            }
          },
          "metadata": {}
        },
        {
          "output_type": "display_data",
          "data": {
            "text/plain": [
              "Downloading:   0%|          | 0.00/446k [00:00<?, ?B/s]"
            ],
            "application/vnd.jupyter.widget-view+json": {
              "version_major": 2,
              "version_minor": 0,
              "model_id": "3812a8edf62c4fd3872d84a41d5dd701"
            }
          },
          "metadata": {}
        },
        {
          "output_type": "display_data",
          "data": {
            "text/plain": [
              "Downloading:   0%|          | 0.00/1.29M [00:00<?, ?B/s]"
            ],
            "application/vnd.jupyter.widget-view+json": {
              "version_major": 2,
              "version_minor": 0,
              "model_id": "0ae8338a7caa475999d3ed14eb1acd41"
            }
          },
          "metadata": {}
        },
        {
          "output_type": "display_data",
          "data": {
            "text/plain": [
              "Downloading:   0%|          | 0.00/239 [00:00<?, ?B/s]"
            ],
            "application/vnd.jupyter.widget-view+json": {
              "version_major": 2,
              "version_minor": 0,
              "model_id": "e87412d119fe4129882aa0470336c2ce"
            }
          },
          "metadata": {}
        }
      ]
    },
    {
      "cell_type": "code",
      "source": [
        "classifier = pipeline(\"text-classification\", model='j-hartmann/emotion-english-distilroberta-base', tokenizer=tokenizer, truncation=True, max_length=512, device=0)"
      ],
      "metadata": {
        "id": "t2kd1S0y-Q3I",
        "colab": {
          "base_uri": "https://localhost:8080/",
          "height": 49,
          "referenced_widgets": [
            "07e607f76ac54759adc69f4a3ac171b6",
            "80cd8df0f365478bb0f7c5a6bbcb91a8",
            "1d11a1516b214cd18e0702efaefab390",
            "effa5964a36b491a87266fceaa6f1ccb",
            "53f6d941c98241cab6e85f6fdb75a6bd",
            "df24d546037f4b62bf1c4448ee77ba06",
            "0642f59707a54f94bce3b105bbba6ba2",
            "9be9900923944008895b05725063b64d",
            "420bd119033641f4954872644940c979",
            "cec07615481f4a328a0b851cb2cf2a03",
            "ccf3e95b81ce4e75bd0b4adb3590ac4f"
          ]
        },
        "outputId": "2d028bb7-3d20-4e6f-cc92-46a3bed2909b"
      },
      "execution_count": null,
      "outputs": [
        {
          "output_type": "display_data",
          "data": {
            "text/plain": [
              "Downloading:   0%|          | 0.00/313M [00:00<?, ?B/s]"
            ],
            "application/vnd.jupyter.widget-view+json": {
              "version_major": 2,
              "version_minor": 0,
              "model_id": "07e607f76ac54759adc69f4a3ac171b6"
            }
          },
          "metadata": {}
        }
      ]
    },
    {
      "cell_type": "markdown",
      "source": [
        "## Analise usando dados sem limpeza de SW"
      ],
      "metadata": {
        "id": "i9IxVv9tiFsu"
      }
    },
    {
      "cell_type": "code",
      "source": [
        "temp2 = df_temp[df_temp.Date != \"Not Found\"]\n",
        "temp2 = df_temp.fillna('instrumental')"
      ],
      "metadata": {
        "id": "hAIM9Yo9xRqL"
      },
      "execution_count": null,
      "outputs": []
    },
    {
      "cell_type": "code",
      "source": [
        "docs_80s_temp = temp2[temp2.Date.str.slice(-4) < '1990'].reset_index(drop=True)\n",
        "docs_90s_temp = temp2[(temp2.Date.str.slice(-4) >= '1990') & (temp2.Date.str.slice(-4) < '2000')].reset_index(drop=True)\n",
        "docs_00s_temp = temp2[(temp2.Date.str.slice(-4) >= '2000') & (temp2.Date.str.slice(-4) < '2010')].reset_index(drop=True)\n",
        "docs_10s_temp = temp2[(temp2.Date.str.slice(-4) >= '2010')].reset_index(drop=True)"
      ],
      "metadata": {
        "id": "38x_ZFPcxfGD"
      },
      "execution_count": null,
      "outputs": []
    },
    {
      "cell_type": "markdown",
      "source": [
        "### Emoções das músicas década de 1980"
      ],
      "metadata": {
        "id": "52pi2HqAJc4f"
      }
    },
    {
      "cell_type": "code",
      "source": [
        "emt_80s = classifier(docs_80s['Lyrics'].tolist())\n",
        "emt_80s = [song['label'] for song in emt_80s]"
      ],
      "metadata": {
        "id": "E7SiSRSkx4p-"
      },
      "execution_count": null,
      "outputs": []
    },
    {
      "cell_type": "code",
      "source": [
        "docs_80s['Emotion'] = emt_80s"
      ],
      "metadata": {
        "id": "MVqLNNZW4g97"
      },
      "execution_count": null,
      "outputs": []
    },
    {
      "cell_type": "code",
      "source": [
        "docs_80s['Emotion'].value_counts()"
      ],
      "metadata": {
        "colab": {
          "base_uri": "https://localhost:8080/"
        },
        "id": "s_IBtXWJEV5h",
        "outputId": "f092a09e-a4ee-4e54-ddb7-f2996998f470"
      },
      "execution_count": null,
      "outputs": [
        {
          "output_type": "execute_result",
          "data": {
            "text/plain": [
              "anger       93\n",
              "joy         35\n",
              "fear        34\n",
              "sadness     30\n",
              "surprise    23\n",
              "neutral     19\n",
              "Name: Emotion, dtype: int64"
            ]
          },
          "metadata": {},
          "execution_count": 257
        }
      ]
    },
    {
      "cell_type": "code",
      "source": [
        "docs_80s[docs_80s['Emotion'] == 'anger']['Artist'].value_counts()"
      ],
      "metadata": {
        "colab": {
          "base_uri": "https://localhost:8080/"
        },
        "id": "ruiIDWTlJNYY",
        "outputId": "1462d6d7-b4f4-43ba-f81e-b0900a91dafc"
      },
      "execution_count": null,
      "outputs": [
        {
          "output_type": "execute_result",
          "data": {
            "text/plain": [
              "N.W.A              12\n",
              "Kool Moe Dee       12\n",
              "Public Enemy       11\n",
              "Beastie Boys        9\n",
              "Eazy-E              8\n",
              "Geto Boys           8\n",
              "Queen Latifah       7\n",
              "Salt-n-Pepa         6\n",
              "Big Daddy Kane      6\n",
              "LL Cool J           4\n",
              "De La Soul          4\n",
              "Eric B. & Rakim     3\n",
              "Slick Rick          2\n",
              "UGK                 1\n",
              "Name: Artist, dtype: int64"
            ]
          },
          "metadata": {},
          "execution_count": 273
        }
      ]
    },
    {
      "cell_type": "code",
      "source": [
        "docs_80s[docs_80s['Emotion'] == 'joy']['Artist'].value_counts()"
      ],
      "metadata": {
        "colab": {
          "base_uri": "https://localhost:8080/"
        },
        "id": "UPlGYDycJSA4",
        "outputId": "9e7a671b-89a3-4c9b-ff44-95f6f8543410"
      },
      "execution_count": null,
      "outputs": [
        {
          "output_type": "execute_result",
          "data": {
            "text/plain": [
              "Big Daddy Kane     9\n",
              "Beastie Boys       6\n",
              "Kool Moe Dee       5\n",
              "Public Enemy       3\n",
              "Slick Rick         3\n",
              "LL Cool J          3\n",
              "De La Soul         2\n",
              "Queen Latifah      1\n",
              "Eric B. & Rakim    1\n",
              "Salt-n-Pepa        1\n",
              "Eazy-E             1\n",
              "Name: Artist, dtype: int64"
            ]
          },
          "metadata": {},
          "execution_count": 274
        }
      ]
    },
    {
      "cell_type": "code",
      "source": [
        "docs_80s[docs_80s['Emotion'] == 'fear']['Artist'].value_counts()"
      ],
      "metadata": {
        "colab": {
          "base_uri": "https://localhost:8080/"
        },
        "id": "_JHARSzBJS2-",
        "outputId": "04d7d572-17a5-4421-b604-bf833a2e7bbc"
      },
      "execution_count": null,
      "outputs": [
        {
          "output_type": "execute_result",
          "data": {
            "text/plain": [
              "Eric B. & Rakim    6\n",
              "LL Cool J          5\n",
              "N.W.A              3\n",
              "Beastie Boys       3\n",
              "De La Soul         3\n",
              "Public Enemy       2\n",
              "Salt-n-Pepa        2\n",
              "Eazy-E             2\n",
              "Big Daddy Kane     2\n",
              "Kool Moe Dee       2\n",
              "Queen Latifah      1\n",
              "Slick Rick         1\n",
              "Kool G Rap         1\n",
              "Geto Boys          1\n",
              "Name: Artist, dtype: int64"
            ]
          },
          "metadata": {},
          "execution_count": 275
        }
      ]
    },
    {
      "cell_type": "code",
      "source": [
        "docs_80s[docs_80s['Emotion'] == 'sadness']['Artist'].value_counts()"
      ],
      "metadata": {
        "colab": {
          "base_uri": "https://localhost:8080/"
        },
        "id": "3kHgxmXDJTJl",
        "outputId": "6d0264ad-ec32-406e-e98b-120aef6421d0"
      },
      "execution_count": null,
      "outputs": [
        {
          "output_type": "execute_result",
          "data": {
            "text/plain": [
              "Eric B. & Rakim    7\n",
              "Beastie Boys       4\n",
              "Kool Moe Dee       4\n",
              "Public Enemy       3\n",
              "De La Soul         3\n",
              "Slick Rick         2\n",
              "LL Cool J          2\n",
              "Queen Latifah      1\n",
              "Salt-n-Pepa        1\n",
              "Big Daddy Kane     1\n",
              "N.W.A              1\n",
              "Geto Boys          1\n",
              "Name: Artist, dtype: int64"
            ]
          },
          "metadata": {},
          "execution_count": 276
        }
      ]
    },
    {
      "cell_type": "code",
      "source": [
        "docs_80s[docs_80s['Emotion'] == 'surprise']['Artist'].value_counts()"
      ],
      "metadata": {
        "colab": {
          "base_uri": "https://localhost:8080/"
        },
        "id": "IFbIP-8dJUdV",
        "outputId": "4f8193ae-f1b7-45c5-d1a9-d44b6135c489"
      },
      "execution_count": null,
      "outputs": [
        {
          "output_type": "execute_result",
          "data": {
            "text/plain": [
              "Beastie Boys       7\n",
              "Eric B. & Rakim    3\n",
              "Slick Rick         3\n",
              "Salt-n-Pepa        2\n",
              "LL Cool J          2\n",
              "Kool Moe Dee       2\n",
              "Public Enemy       1\n",
              "Eazy-E             1\n",
              "Big Daddy Kane     1\n",
              "De La Soul         1\n",
              "Name: Artist, dtype: int64"
            ]
          },
          "metadata": {},
          "execution_count": 277
        }
      ]
    },
    {
      "cell_type": "markdown",
      "source": [
        "### Emoções das músicas da década de 1990"
      ],
      "metadata": {
        "id": "GrA0tRwKJl1y"
      }
    },
    {
      "cell_type": "code",
      "source": [
        "emt_90s = classifier(docs_90s['Lyrics'].tolist())\n",
        "emt_90s = [song['label'] for song in emt_90s]"
      ],
      "metadata": {
        "id": "z5-40D7hyE0A"
      },
      "execution_count": null,
      "outputs": []
    },
    {
      "cell_type": "code",
      "source": [
        "docs_90s['Emotion'] = emt_90s"
      ],
      "metadata": {
        "id": "JcXuY_yPEnDx"
      },
      "execution_count": null,
      "outputs": []
    },
    {
      "cell_type": "code",
      "source": [
        "docs_90s['Emotion'].value_counts()"
      ],
      "metadata": {
        "colab": {
          "base_uri": "https://localhost:8080/"
        },
        "id": "mFKX2_lWFQ_U",
        "outputId": "0a374170-cae5-4013-addb-346dc02ede4f"
      },
      "execution_count": null,
      "outputs": [
        {
          "output_type": "execute_result",
          "data": {
            "text/plain": [
              "anger       605\n",
              "fear        191\n",
              "sadness     190\n",
              "surprise    155\n",
              "joy         129\n",
              "neutral      89\n",
              "disgust       1\n",
              "Name: Emotion, dtype: int64"
            ]
          },
          "metadata": {},
          "execution_count": 269
        }
      ]
    },
    {
      "cell_type": "code",
      "source": [
        "docs_90s[docs_90s['Emotion'] == 'anger']['Artist'].value_counts()[:10]"
      ],
      "metadata": {
        "colab": {
          "base_uri": "https://localhost:8080/"
        },
        "id": "4hZ21l0JJrKd",
        "outputId": "c8dc7258-020f-4ea1-994a-7f29448fb5c9"
      },
      "execution_count": null,
      "outputs": [
        {
          "output_type": "execute_result",
          "data": {
            "text/plain": [
              "The Notorious B.I.G.    28\n",
              "Bone Thugs-N-Harmony    27\n",
              "Geto Boys               22\n",
              "Mobb Deep               21\n",
              "Ol’ Dirty Bastard       20\n",
              "DMX                     20\n",
              "Ice Cube                20\n",
              "Eazy-E                  19\n",
              "Wu-Tang Clan            19\n",
              "N.W.A                   18\n",
              "Name: Artist, dtype: int64"
            ]
          },
          "metadata": {},
          "execution_count": 287
        }
      ]
    },
    {
      "cell_type": "code",
      "source": [
        "docs_90s[docs_90s['Emotion'] == 'fear']['Artist'].value_counts()[:10]"
      ],
      "metadata": {
        "colab": {
          "base_uri": "https://localhost:8080/"
        },
        "id": "1NjzRfaqJrid",
        "outputId": "89465ee5-e982-421d-8b8c-46cada8af730"
      },
      "execution_count": null,
      "outputs": [
        {
          "output_type": "execute_result",
          "data": {
            "text/plain": [
              "2Pac            10\n",
              "Mobb Deep        8\n",
              "Gang Starr       8\n",
              "Fat Joe          8\n",
              "Redman           8\n",
              "OutKast          7\n",
              "Das EFX          7\n",
              "Wu-Tang Clan     6\n",
              "Salt-n-Pepa      6\n",
              "KRS-One          6\n",
              "Name: Artist, dtype: int64"
            ]
          },
          "metadata": {},
          "execution_count": 288
        }
      ]
    },
    {
      "cell_type": "code",
      "source": [
        "docs_90s[docs_90s['Emotion'] == 'sadness']['Artist'].value_counts()[:10]"
      ],
      "metadata": {
        "colab": {
          "base_uri": "https://localhost:8080/"
        },
        "id": "ZOCRtdjgJrnQ",
        "outputId": "abe3387d-1c0e-4785-d3f5-4cff8b073cc3"
      },
      "execution_count": null,
      "outputs": [
        {
          "output_type": "execute_result",
          "data": {
            "text/plain": [
              "2Pac                    11\n",
              "OutKast                  8\n",
              "Cypress Hill             7\n",
              "Salt-n-Pepa              7\n",
              "Scarface                 7\n",
              "Gang Starr               6\n",
              "DMX                      6\n",
              "Diddy                    6\n",
              "The Notorious B.I.G.     6\n",
              "Redman                   5\n",
              "Name: Artist, dtype: int64"
            ]
          },
          "metadata": {},
          "execution_count": 289
        }
      ]
    },
    {
      "cell_type": "code",
      "source": [
        "docs_90s[docs_90s['Emotion'] == 'joy']['Artist'].value_counts()[:10]"
      ],
      "metadata": {
        "colab": {
          "base_uri": "https://localhost:8080/"
        },
        "id": "zMPtB-62JrrW",
        "outputId": "b0537c9d-1096-4450-ea07-cfa3f45bdcd5"
      },
      "execution_count": null,
      "outputs": [
        {
          "output_type": "execute_result",
          "data": {
            "text/plain": [
              "Queen Latifah      9\n",
              "Das EFX            7\n",
              "Slick Rick         7\n",
              "Big Daddy Kane     7\n",
              "LL Cool J          6\n",
              "Eric B. & Rakim    5\n",
              "Salt-n-Pepa        5\n",
              "Foxy Brown         5\n",
              "Lauryn Hill        4\n",
              "Method Man         4\n",
              "Name: Artist, dtype: int64"
            ]
          },
          "metadata": {},
          "execution_count": 290
        }
      ]
    },
    {
      "cell_type": "code",
      "source": [
        "docs_90s[docs_90s['Emotion'] == 'surprise']['Artist'].value_counts()[:10]"
      ],
      "metadata": {
        "colab": {
          "base_uri": "https://localhost:8080/"
        },
        "id": "EbUVz7rvEvDx",
        "outputId": "b975b438-b35e-45d0-f62e-1ed687771edc"
      },
      "execution_count": null,
      "outputs": [
        {
          "output_type": "execute_result",
          "data": {
            "text/plain": [
              "KRS-One                 9\n",
              "Das EFX                 9\n",
              "The Notorious B.I.G.    6\n",
              "Mobb Deep               6\n",
              "Slick Rick              6\n",
              "Public Enemy            5\n",
              "Beastie Boys            5\n",
              "UGK                     5\n",
              "A Tribe Called Quest    5\n",
              "Gang Starr              4\n",
              "Name: Artist, dtype: int64"
            ]
          },
          "metadata": {},
          "execution_count": 291
        }
      ]
    },
    {
      "cell_type": "markdown",
      "source": [
        "### Emoções das musicas da década de 2000"
      ],
      "metadata": {
        "id": "tYzeMStiUuT8"
      }
    },
    {
      "cell_type": "code",
      "source": [
        "emt_00s = classifier(docs_00s['Lyrics'].tolist())\n",
        "emt_00s = [song['label'] for song in emt_00s]"
      ],
      "metadata": {
        "id": "Tz3N7jUO0wmx"
      },
      "execution_count": null,
      "outputs": []
    },
    {
      "cell_type": "code",
      "source": [
        "docs_00s['Emotion'] = emt_00s"
      ],
      "metadata": {
        "id": "RoHXv0jfU7zU"
      },
      "execution_count": null,
      "outputs": []
    },
    {
      "cell_type": "code",
      "source": [
        "docs_00s['Emotion'].value_counts()"
      ],
      "metadata": {
        "colab": {
          "base_uri": "https://localhost:8080/"
        },
        "id": "Xn1SfJ_G2qUf",
        "outputId": "7baa45e5-7486-49c1-9195-76411469dc08"
      },
      "execution_count": null,
      "outputs": [
        {
          "output_type": "execute_result",
          "data": {
            "text/plain": [
              "anger       419\n",
              "sadness     221\n",
              "fear        138\n",
              "surprise    134\n",
              "joy         105\n",
              "neutral      70\n",
              "disgust       5\n",
              "Name: Emotion, dtype: int64"
            ]
          },
          "metadata": {},
          "execution_count": 284
        }
      ]
    },
    {
      "cell_type": "code",
      "source": [
        "docs_00s[docs_00s['Emotion'] == 'anger']['Artist'].value_counts()[:10]"
      ],
      "metadata": {
        "colab": {
          "base_uri": "https://localhost:8080/"
        },
        "id": "C_oy-j-lVGyH",
        "outputId": "69fc7e5a-c0c7-4c79-b3ac-29887f980638"
      },
      "execution_count": null,
      "outputs": [
        {
          "output_type": "execute_result",
          "data": {
            "text/plain": [
              "Immortal Technique    24\n",
              "Xzibit                21\n",
              "50 Cent               21\n",
              "Big Pun               16\n",
              "Ludacris              15\n",
              "Cam’ron               14\n",
              "Canibus               13\n",
              "RZA                   13\n",
              "Ghostface Killah      13\n",
              "Lil’ Kim              12\n",
              "Name: Artist, dtype: int64"
            ]
          },
          "metadata": {},
          "execution_count": 286
        }
      ]
    },
    {
      "cell_type": "code",
      "source": [
        "docs_00s[docs_00s['Emotion'] == 'sadness']['Artist'].value_counts()[:10]"
      ],
      "metadata": {
        "colab": {
          "base_uri": "https://localhost:8080/"
        },
        "id": "P35TiWyBVIz_",
        "outputId": "937d7384-7149-41c4-a03e-1020957e3a92"
      },
      "execution_count": null,
      "outputs": [
        {
          "output_type": "execute_result",
          "data": {
            "text/plain": [
              "Ja Rule        10\n",
              "Lauryn Hill    10\n",
              "DMX             9\n",
              "Styles P        8\n",
              "Talib Kweli     8\n",
              "Jadakiss        8\n",
              "Beyoncé         7\n",
              "Cam’ron         7\n",
              "Eminem          7\n",
              "MF DOOM         6\n",
              "Name: Artist, dtype: int64"
            ]
          },
          "metadata": {},
          "execution_count": 294
        }
      ]
    },
    {
      "cell_type": "code",
      "source": [
        "docs_00s[docs_00s['Emotion'] == 'fear']['Artist'].value_counts()[:10]"
      ],
      "metadata": {
        "colab": {
          "base_uri": "https://localhost:8080/"
        },
        "id": "frdb_rQ5VI7e",
        "outputId": "6f56c878-5043-4f26-fdbf-a5ef0deaaeec"
      },
      "execution_count": null,
      "outputs": [
        {
          "output_type": "execute_result",
          "data": {
            "text/plain": [
              "Missy Elliott    9\n",
              "Canibus          6\n",
              "50 Cent          6\n",
              "Ja Rule          6\n",
              "Fat Joe          5\n",
              "Lupe Fiasco      4\n",
              "Styles P         4\n",
              "Xzibit           4\n",
              "Talib Kweli      4\n",
              "Q-Tip            4\n",
              "Name: Artist, dtype: int64"
            ]
          },
          "metadata": {},
          "execution_count": 296
        }
      ]
    },
    {
      "cell_type": "code",
      "source": [
        "docs_00s[docs_00s['Emotion'] == 'surprise']['Artist'].value_counts()[:10]"
      ],
      "metadata": {
        "colab": {
          "base_uri": "https://localhost:8080/"
        },
        "id": "1HER2mJ8VJAC",
        "outputId": "dda6fc8a-5ee2-4f2c-d24d-e6f13a1ff784"
      },
      "execution_count": null,
      "outputs": [
        {
          "output_type": "execute_result",
          "data": {
            "text/plain": [
              "Nelly               8\n",
              "MF DOOM             6\n",
              "Ludacris            6\n",
              "Cam’ron             5\n",
              "OutKast             5\n",
              "Ghostface Killah    4\n",
              "Xzibit              4\n",
              "Ja Rule             4\n",
              "Twista              4\n",
              "Kool Keith          4\n",
              "Name: Artist, dtype: int64"
            ]
          },
          "metadata": {},
          "execution_count": 297
        }
      ]
    },
    {
      "cell_type": "code",
      "source": [
        "docs_00s[docs_00s['Emotion'] == 'joy']['Artist'].value_counts()[:10]"
      ],
      "metadata": {
        "colab": {
          "base_uri": "https://localhost:8080/"
        },
        "id": "8frqdBGXVJDr",
        "outputId": "edda3d78-4aa7-47e3-c0ff-fbe040831742"
      },
      "execution_count": null,
      "outputs": [
        {
          "output_type": "execute_result",
          "data": {
            "text/plain": [
              "Q-Tip            8\n",
              "Cam’ron          8\n",
              "JAY-Z            7\n",
              "Nelly            6\n",
              "Missy Elliott    5\n",
              "MF DOOM          4\n",
              "Twista           4\n",
              "Busta Rhymes     4\n",
              "Jadakiss         4\n",
              "UGK              4\n",
              "Name: Artist, dtype: int64"
            ]
          },
          "metadata": {},
          "execution_count": 299
        }
      ]
    },
    {
      "cell_type": "markdown",
      "source": [
        "### Emoções das músicas da década de 2010"
      ],
      "metadata": {
        "id": "n3zNDn1OWdph"
      }
    },
    {
      "cell_type": "code",
      "source": [
        "emt_10s = classifier(docs_10s['Lyrics'].tolist())\n",
        "emt_10s = [song['label'] for song in emt_10s]"
      ],
      "metadata": {
        "id": "h-iN6fXR2yST"
      },
      "execution_count": null,
      "outputs": []
    },
    {
      "cell_type": "code",
      "source": [
        "docs_10s['Emotion'] = emt_10s"
      ],
      "metadata": {
        "id": "KIKQlwoWV0wG"
      },
      "execution_count": null,
      "outputs": []
    },
    {
      "cell_type": "code",
      "source": [
        "docs_10s['Emotion'].value_counts()"
      ],
      "metadata": {
        "colab": {
          "base_uri": "https://localhost:8080/"
        },
        "id": "-S5W5b4d24av",
        "outputId": "50a5521a-090a-4434-f465-b84c63baa6d5"
      },
      "execution_count": null,
      "outputs": [
        {
          "output_type": "execute_result",
          "data": {
            "text/plain": [
              "anger       1194\n",
              "sadness      737\n",
              "fear         454\n",
              "surprise     330\n",
              "joy          270\n",
              "neutral      226\n",
              "disgust        3\n",
              "Name: Emotion, dtype: int64"
            ]
          },
          "metadata": {},
          "execution_count": 302
        }
      ]
    },
    {
      "cell_type": "code",
      "source": [
        "docs_10s[docs_10s['Emotion'] == 'anger']['Artist'].value_counts()[:10]"
      ],
      "metadata": {
        "colab": {
          "base_uri": "https://localhost:8080/"
        },
        "id": "aty4LjyQ26BO",
        "outputId": "fba082c5-725e-43cf-c92c-601928a4b9b9"
      },
      "execution_count": null,
      "outputs": [
        {
          "output_type": "execute_result",
          "data": {
            "text/plain": [
              "A$AP Ferg          30\n",
              "Freddie Gibbs      30\n",
              "Run The Jewels     30\n",
              "YG                 29\n",
              "Cardi B            28\n",
              "21 Savage          27\n",
              "Young Thug         26\n",
              "Earl Sweatshirt    25\n",
              "Juicy J            25\n",
              "Kendrick Lamar     24\n",
              "Name: Artist, dtype: int64"
            ]
          },
          "metadata": {},
          "execution_count": 303
        }
      ]
    },
    {
      "cell_type": "code",
      "source": [
        "docs_10s[docs_10s['Emotion'] == 'sadness']['Artist'].value_counts()[:10]"
      ],
      "metadata": {
        "colab": {
          "base_uri": "https://localhost:8080/"
        },
        "id": "s3UNHfQiWE4X",
        "outputId": "4050ec2d-7a28-49e7-9d7d-d982b86fa661"
      },
      "execution_count": null,
      "outputs": [
        {
          "output_type": "execute_result",
          "data": {
            "text/plain": [
              "Post Malone         22\n",
              "Kevin Gates         20\n",
              "Mac Miller          20\n",
              "Childish Gambino    19\n",
              "BROCKHAMPTON        19\n",
              "Vince Staples       18\n",
              "J. Cole             18\n",
              "Bryson Tiller       16\n",
              "Wale                16\n",
              "Lil Baby            16\n",
              "Name: Artist, dtype: int64"
            ]
          },
          "metadata": {},
          "execution_count": 304
        }
      ]
    },
    {
      "cell_type": "code",
      "source": [
        "docs_10s[docs_10s['Emotion'] == 'fear']['Artist'].value_counts()[:10]"
      ],
      "metadata": {
        "colab": {
          "base_uri": "https://localhost:8080/"
        },
        "id": "Qwc_doTkWKUZ",
        "outputId": "4ebb73c5-b0e3-4748-83b7-d52fa04f4151"
      },
      "execution_count": null,
      "outputs": [
        {
          "output_type": "execute_result",
          "data": {
            "text/plain": [
              "Pop Smoke           14\n",
              "Denzel Curry        13\n",
              "Big K.R.I.T.        11\n",
              "J. Cole             11\n",
              "Childish Gambino    11\n",
              "Tech N9ne           10\n",
              "Flatbush Zombies    10\n",
              "Run The Jewels      10\n",
              "Joey Bada$$         10\n",
              "BROCKHAMPTON        10\n",
              "Name: Artist, dtype: int64"
            ]
          },
          "metadata": {},
          "execution_count": 305
        }
      ]
    },
    {
      "cell_type": "code",
      "source": [
        "docs_10s[docs_10s['Emotion'] == 'surprise']['Artist'].value_counts()[:10]"
      ],
      "metadata": {
        "colab": {
          "base_uri": "https://localhost:8080/"
        },
        "id": "cm34I6ewWPce",
        "outputId": "4cd5e96d-5c53-44b0-f0cc-9edd4df8ef17"
      },
      "execution_count": null,
      "outputs": [
        {
          "output_type": "execute_result",
          "data": {
            "text/plain": [
              "Big Sean              15\n",
              "Post Malone           13\n",
              "2 Chainz              11\n",
              "Childish Gambino      11\n",
              "Tyler, The Creator    11\n",
              "Mac Miller             9\n",
              "Logic                  9\n",
              "Doja Cat               8\n",
              "21 Savage              8\n",
              "Nicki Minaj            7\n",
              "Name: Artist, dtype: int64"
            ]
          },
          "metadata": {},
          "execution_count": 306
        }
      ]
    },
    {
      "cell_type": "code",
      "source": [
        "docs_10s[docs_10s['Emotion'] == 'joy']['Artist'].value_counts()[:10]"
      ],
      "metadata": {
        "colab": {
          "base_uri": "https://localhost:8080/"
        },
        "id": "FLyaQc3cWSgS",
        "outputId": "5573d9f5-c0db-42f4-af90-8713f2199e0f"
      },
      "execution_count": null,
      "outputs": [
        {
          "output_type": "execute_result",
          "data": {
            "text/plain": [
              "Drake             9\n",
              "Pop Smoke         8\n",
              "Kendrick Lamar    8\n",
              "Future            8\n",
              "Wale              7\n",
              "Fat Joe           7\n",
              "Beyoncé           7\n",
              "JID               7\n",
              "Nipsey Hussle     7\n",
              "Mac Miller        7\n",
              "Name: Artist, dtype: int64"
            ]
          },
          "metadata": {},
          "execution_count": 307
        }
      ]
    }
  ]
}